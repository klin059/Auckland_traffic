{
 "cells": [
  {
   "cell_type": "code",
   "execution_count": 1,
   "metadata": {},
   "outputs": [],
   "source": [
    "%reload_ext autoreload\n",
    "%autoreload 2\n",
    "%matplotlib inline\n",
    "# %qtconsole\n",
    "\n",
    "from IPython.core.interactiveshell import InteractiveShell\n",
    "InteractiveShell.ast_node_interactivity = \"last_expr\"\n",
    "\n",
    "from IPython.display import display\n",
    "def display_all(df):\n",
    "    with pd.option_context(\"display.max_rows\", 1000): \n",
    "        with pd.option_context(\"display.max_columns\", 1000): \n",
    "            display(df)\n",
    "\t\t\t\n",
    "import pandas as pd\n",
    "import numpy as np\n",
    "from pathlib import Path\t\t\n",
    "\n",
    "import warnings\n",
    "warnings.filterwarnings('ignore')\n",
    "# warnings.filterwarnings(action='once')"
   ]
  },
  {
   "cell_type": "code",
   "execution_count": 2,
   "metadata": {},
   "outputs": [],
   "source": [
    "import matplotlib.pyplot as plt\n",
    "import seaborn as sns"
   ]
  },
  {
   "cell_type": "code",
   "execution_count": 3,
   "metadata": {},
   "outputs": [],
   "source": [
    "import folium\n",
    "# from folium.plugins import HeatMap\n",
    "import branca"
   ]
  },
  {
   "cell_type": "markdown",
   "metadata": {},
   "source": [
    "The data is obtained from https://at.govt.nz/about-us/reports-publications/traffic-counts/ and includes only records with coordinates. The coordinates were transfered from NZTM to longitude and latitude."
   ]
  },
  {
   "cell_type": "code",
   "execution_count": 4,
   "metadata": {},
   "outputs": [
    {
     "data": {
      "text/html": [
       "<div>\n",
       "<style scoped>\n",
       "    .dataframe tbody tr th:only-of-type {\n",
       "        vertical-align: middle;\n",
       "    }\n",
       "\n",
       "    .dataframe tbody tr th {\n",
       "        vertical-align: top;\n",
       "    }\n",
       "\n",
       "    .dataframe thead th {\n",
       "        text-align: right;\n",
       "    }\n",
       "</style>\n",
       "<table border=\"1\" class=\"dataframe\">\n",
       "  <thead>\n",
       "    <tr style=\"text-align: right;\">\n",
       "      <th></th>\n",
       "      <th>Road Name</th>\n",
       "      <th>Carriageway Start Name</th>\n",
       "      <th>Carriageway End Name</th>\n",
       "      <th>5 Day ADT</th>\n",
       "      <th>7 Day ADT</th>\n",
       "      <th>Saturday Volume</th>\n",
       "      <th>Sunday Volume</th>\n",
       "      <th>AM Peak Volume</th>\n",
       "      <th>AM Peak Hour</th>\n",
       "      <th>Mid Peak Volume</th>\n",
       "      <th>Mid Peak Hour</th>\n",
       "      <th>PM Peak Volume</th>\n",
       "      <th>PM Peak Hour</th>\n",
       "      <th>Car</th>\n",
       "      <th>LCV</th>\n",
       "      <th>MCV</th>\n",
       "      <th>HCV-I</th>\n",
       "      <th>HCV-II</th>\n",
       "      <th>HCV Total</th>\n",
       "      <th>latitude</th>\n",
       "      <th>longitude</th>\n",
       "    </tr>\n",
       "    <tr>\n",
       "      <th>Count Start Date</th>\n",
       "      <th></th>\n",
       "      <th></th>\n",
       "      <th></th>\n",
       "      <th></th>\n",
       "      <th></th>\n",
       "      <th></th>\n",
       "      <th></th>\n",
       "      <th></th>\n",
       "      <th></th>\n",
       "      <th></th>\n",
       "      <th></th>\n",
       "      <th></th>\n",
       "      <th></th>\n",
       "      <th></th>\n",
       "      <th></th>\n",
       "      <th></th>\n",
       "      <th></th>\n",
       "      <th></th>\n",
       "      <th></th>\n",
       "      <th></th>\n",
       "      <th></th>\n",
       "    </tr>\n",
       "  </thead>\n",
       "  <tbody>\n",
       "    <tr>\n",
       "      <th>2015-11-04</th>\n",
       "      <td>LADIES MILE (REMUERA)</td>\n",
       "      <td>REMUERA RD</td>\n",
       "      <td>ORMONDE RD</td>\n",
       "      <td>11488.0</td>\n",
       "      <td>10346.0</td>\n",
       "      <td>8471.0</td>\n",
       "      <td>6513.0</td>\n",
       "      <td>1101</td>\n",
       "      <td>745.0</td>\n",
       "      <td>873</td>\n",
       "      <td>1400.0</td>\n",
       "      <td>1212</td>\n",
       "      <td>1700.0</td>\n",
       "      <td>0.95</td>\n",
       "      <td>0.01</td>\n",
       "      <td>0.02</td>\n",
       "      <td>0.01</td>\n",
       "      <td>0.00</td>\n",
       "      <td>0.03</td>\n",
       "      <td>-36.883006</td>\n",
       "      <td>174.809151</td>\n",
       "    </tr>\n",
       "    <tr>\n",
       "      <th>2016-05-05</th>\n",
       "      <td>GRANDE VUE RD (MANUREWA)</td>\n",
       "      <td>MOTORWAY ONRAMP (END ISLAND LHS)</td>\n",
       "      <td>HILL RD</td>\n",
       "      <td>17898.0</td>\n",
       "      <td>17580.0</td>\n",
       "      <td>17770.0</td>\n",
       "      <td>15795.0</td>\n",
       "      <td>1460</td>\n",
       "      <td>NaN</td>\n",
       "      <td>1393</td>\n",
       "      <td>NaN</td>\n",
       "      <td>1279</td>\n",
       "      <td>NaN</td>\n",
       "      <td>0.90</td>\n",
       "      <td>0.01</td>\n",
       "      <td>0.08</td>\n",
       "      <td>0.00</td>\n",
       "      <td>0.00</td>\n",
       "      <td>0.09</td>\n",
       "      <td>-37.014364</td>\n",
       "      <td>174.904840</td>\n",
       "    </tr>\n",
       "    <tr>\n",
       "      <th>2017-05-04</th>\n",
       "      <td>GRANDE VUE RD (MANUREWA)</td>\n",
       "      <td>MOTORWAY ONRAMP (END ISLAND LHS)</td>\n",
       "      <td>HILL RD</td>\n",
       "      <td>18810.0</td>\n",
       "      <td>18014.0</td>\n",
       "      <td>17674.0</td>\n",
       "      <td>14374.0</td>\n",
       "      <td>1572</td>\n",
       "      <td>NaN</td>\n",
       "      <td>1369</td>\n",
       "      <td>NaN</td>\n",
       "      <td>1343</td>\n",
       "      <td>NaN</td>\n",
       "      <td>0.91</td>\n",
       "      <td>0.01</td>\n",
       "      <td>0.07</td>\n",
       "      <td>0.01</td>\n",
       "      <td>0.00</td>\n",
       "      <td>0.08</td>\n",
       "      <td>-37.014364</td>\n",
       "      <td>174.904840</td>\n",
       "    </tr>\n",
       "    <tr>\n",
       "      <th>2017-12-14</th>\n",
       "      <td>ST LUKES RD</td>\n",
       "      <td>CORNWALLIS ST</td>\n",
       "      <td>SANDRINGHAM RD (LHS)</td>\n",
       "      <td>29674.0</td>\n",
       "      <td>28867.0</td>\n",
       "      <td>28201.0</td>\n",
       "      <td>25499.0</td>\n",
       "      <td>1849</td>\n",
       "      <td>900.0</td>\n",
       "      <td>2355</td>\n",
       "      <td>1130.0</td>\n",
       "      <td>2372</td>\n",
       "      <td>1800.0</td>\n",
       "      <td>0.92</td>\n",
       "      <td>0.01</td>\n",
       "      <td>0.02</td>\n",
       "      <td>0.03</td>\n",
       "      <td>0.01</td>\n",
       "      <td>0.05</td>\n",
       "      <td>-36.884606</td>\n",
       "      <td>174.736356</td>\n",
       "    </tr>\n",
       "    <tr>\n",
       "      <th>2017-12-18</th>\n",
       "      <td>KAWAKAWA BAY COAST RD-HC-WK1</td>\n",
       "      <td>TE PAPA RD</td>\n",
       "      <td>END</td>\n",
       "      <td>167.0</td>\n",
       "      <td>200.0</td>\n",
       "      <td>301.0</td>\n",
       "      <td>269.0</td>\n",
       "      <td>18</td>\n",
       "      <td>845.0</td>\n",
       "      <td>41</td>\n",
       "      <td>NaN</td>\n",
       "      <td>39</td>\n",
       "      <td>NaN</td>\n",
       "      <td>0.94</td>\n",
       "      <td>0.02</td>\n",
       "      <td>0.04</td>\n",
       "      <td>0.00</td>\n",
       "      <td>0.00</td>\n",
       "      <td>0.04</td>\n",
       "      <td>-36.938205</td>\n",
       "      <td>175.182248</td>\n",
       "    </tr>\n",
       "  </tbody>\n",
       "</table>\n",
       "</div>"
      ],
      "text/plain": [
       "                                     Road Name  \\\n",
       "Count Start Date                                 \n",
       "2015-11-04               LADIES MILE (REMUERA)   \n",
       "2016-05-05            GRANDE VUE RD (MANUREWA)   \n",
       "2017-05-04            GRANDE VUE RD (MANUREWA)   \n",
       "2017-12-14                         ST LUKES RD   \n",
       "2017-12-18        KAWAKAWA BAY COAST RD-HC-WK1   \n",
       "\n",
       "                            Carriageway Start Name  Carriageway End Name  \\\n",
       "Count Start Date                                                           \n",
       "2015-11-04                              REMUERA RD            ORMONDE RD   \n",
       "2016-05-05        MOTORWAY ONRAMP (END ISLAND LHS)               HILL RD   \n",
       "2017-05-04        MOTORWAY ONRAMP (END ISLAND LHS)               HILL RD   \n",
       "2017-12-14                           CORNWALLIS ST  SANDRINGHAM RD (LHS)   \n",
       "2017-12-18                              TE PAPA RD                   END   \n",
       "\n",
       "                  5 Day ADT  7 Day ADT  Saturday Volume  Sunday Volume  \\\n",
       "Count Start Date                                                         \n",
       "2015-11-04          11488.0    10346.0           8471.0         6513.0   \n",
       "2016-05-05          17898.0    17580.0          17770.0        15795.0   \n",
       "2017-05-04          18810.0    18014.0          17674.0        14374.0   \n",
       "2017-12-14          29674.0    28867.0          28201.0        25499.0   \n",
       "2017-12-18            167.0      200.0            301.0          269.0   \n",
       "\n",
       "                  AM Peak Volume  AM Peak Hour  Mid Peak Volume  \\\n",
       "Count Start Date                                                  \n",
       "2015-11-04                  1101         745.0              873   \n",
       "2016-05-05                  1460           NaN             1393   \n",
       "2017-05-04                  1572           NaN             1369   \n",
       "2017-12-14                  1849         900.0             2355   \n",
       "2017-12-18                    18         845.0               41   \n",
       "\n",
       "                  Mid Peak Hour  PM Peak Volume  PM Peak Hour   Car   LCV  \\\n",
       "Count Start Date                                                            \n",
       "2015-11-04               1400.0            1212        1700.0  0.95  0.01   \n",
       "2016-05-05                  NaN            1279           NaN  0.90  0.01   \n",
       "2017-05-04                  NaN            1343           NaN  0.91  0.01   \n",
       "2017-12-14               1130.0            2372        1800.0  0.92  0.01   \n",
       "2017-12-18                  NaN              39           NaN  0.94  0.02   \n",
       "\n",
       "                   MCV  HCV-I  HCV-II  HCV Total   latitude   longitude  \n",
       "Count Start Date                                                         \n",
       "2015-11-04        0.02   0.01    0.00       0.03 -36.883006  174.809151  \n",
       "2016-05-05        0.08   0.00    0.00       0.09 -37.014364  174.904840  \n",
       "2017-05-04        0.07   0.01    0.00       0.08 -37.014364  174.904840  \n",
       "2017-12-14        0.02   0.03    0.01       0.05 -36.884606  174.736356  \n",
       "2017-12-18        0.04   0.00    0.00       0.04 -36.938205  175.182248  "
      ]
     },
     "metadata": {},
     "output_type": "display_data"
    },
    {
     "name": "stdout",
     "output_type": "stream",
     "text": [
      "<class 'pandas.core.frame.DataFrame'>\n",
      "DatetimeIndex: 2684 entries, 2015-11-04 to 2019-04-09\n",
      "Data columns (total 21 columns):\n",
      "Road Name                 2684 non-null object\n",
      "Carriageway Start Name    2680 non-null object\n",
      "Carriageway End Name      2683 non-null object\n",
      "5 Day ADT                 2683 non-null float64\n",
      "7 Day ADT                 2683 non-null float64\n",
      "Saturday Volume           2684 non-null float64\n",
      "Sunday Volume             2684 non-null float64\n",
      "AM Peak Volume            2684 non-null int64\n",
      "AM Peak Hour              561 non-null float64\n",
      "Mid Peak Volume           2684 non-null int64\n",
      "Mid Peak Hour             867 non-null float64\n",
      "PM Peak Volume            2684 non-null int64\n",
      "PM Peak Hour              683 non-null float64\n",
      "Car                       2684 non-null float64\n",
      "LCV                       2684 non-null float64\n",
      "MCV                       2684 non-null float64\n",
      "HCV-I                     2684 non-null float64\n",
      "HCV-II                    2684 non-null float64\n",
      "HCV Total                 2684 non-null float64\n",
      "latitude                  2684 non-null float64\n",
      "longitude                 2684 non-null float64\n",
      "dtypes: float64(15), int64(3), object(3)\n",
      "memory usage: 461.3+ KB\n"
     ]
    }
   ],
   "source": [
    "df = pd.read_csv(r'data/traffic-counts_v1.csv', parse_dates = ['Count Start Date'])\n",
    "df.set_index('Count Start Date', inplace = True)\n",
    "df.drop_duplicates(inplace = True)\n",
    "display_all(df.head())\n",
    "df.info()"
   ]
  },
  {
   "cell_type": "code",
   "execution_count": 5,
   "metadata": {},
   "outputs": [],
   "source": [
    "# function for create a visualization\n",
    "def create_visualization(df_, date_range_min_, date_rage_max_, col_, percentile = 80, radius = 10):\n",
    "    colorscale = branca.colormap.linear.YlGnBu_09.scale(min(df_[col_]), max(df_[col_]))\n",
    "    df_ = df_.loc[date_range_min_:date_rage_max_]\n",
    "    df_ = df_[df_[col_] > np.nanpercentile(df_[col_], percentile)]\n",
    "    \n",
    "    m = folium.Map(location = [-36.848461, 174.763336])  #show Auckland\n",
    "    for long, lat, volume, road in zip(df_['longitude'], df_['latitude'], df_[col_], df_['Road Name']):\n",
    "        folium.CircleMarker(location=(lat, long),\n",
    "                        popup = f'{road}:{volume}',\n",
    "                        radius=radius,\n",
    "                        color=colorscale(volume),\n",
    "                        fill=True).add_to(m)\n",
    "#     m.save('Auckland_map.html')\n",
    "#    m._repr_html_()\n",
    "    return m"
   ]
  },
  {
   "cell_type": "markdown",
   "metadata": {},
   "source": [
    "# Questions to answer\n",
    "- Traffic volume distribution/histogram (done)\n",
    "- How does the traffic volume change over time/ how stable is the traffic volume? can they be used for future estimation?\n",
    "    - groupby (longitude, latitude)\n",
    "    - get max, min over time and calculate the maximum difference\n",
    "    - identify drastic change of volume (outliers)\n",
    "- Identify sites with the highest traffic volumes\n",
    "- Pandas profiling on records with top traffic volumes\n",
    "\n"
   ]
  },
  {
   "cell_type": "markdown",
   "metadata": {},
   "source": [
    "# Exploratory"
   ]
  },
  {
   "cell_type": "markdown",
   "metadata": {},
   "source": [
    "## Date record histogram"
   ]
  },
  {
   "cell_type": "markdown",
   "metadata": {},
   "source": [
    "The majority of the records are after 2018"
   ]
  },
  {
   "cell_type": "code",
   "execution_count": 6,
   "metadata": {},
   "outputs": [
    {
     "data": {
      "text/plain": [
       "(2684, 21)"
      ]
     },
     "execution_count": 6,
     "metadata": {},
     "output_type": "execute_result"
    }
   ],
   "source": [
    "df.shape"
   ]
  },
  {
   "cell_type": "code",
   "execution_count": 7,
   "metadata": {},
   "outputs": [
    {
     "data": {
      "text/plain": [
       "(array([  1.,   1.,   0.,   0.,   1.,   0., 575., 930., 706., 470.]),\n",
       " array([735906. , 736031.2, 736156.4, 736281.6, 736406.8, 736532. ,\n",
       "        736657.2, 736782.4, 736907.6, 737032.8, 737158. ]),\n",
       " <a list of 10 Patch objects>)"
      ]
     },
     "execution_count": 7,
     "metadata": {},
     "output_type": "execute_result"
    },
    {
     "data": {
      "image/png": "[encoded data removed]",
      "text/plain": [
       "<Figure size 432x288 with 1 Axes>"
      ]
     },
     "metadata": {
      "needs_background": "light"
     },
     "output_type": "display_data"
    }
   ],
   "source": [
    "plt.hist(df.index)"
   ]
  },
  {
   "cell_type": "code",
   "execution_count": 8,
   "metadata": {},
   "outputs": [
    {
     "data": {
      "text/plain": [
       "DatetimeIndex(['2015-11-04', '2016-05-05', '2017-05-04', '2017-12-14',\n",
       "               '2017-12-18', '2017-12-25'],\n",
       "              dtype='datetime64[ns]', name='Count Start Date', freq=None)"
      ]
     },
     "execution_count": 8,
     "metadata": {},
     "output_type": "execute_result"
    }
   ],
   "source": [
    "df.index[df.index < '2018-01-01']\n",
    "# only a few records before 2018,"
   ]
  },
  {
   "cell_type": "code",
   "execution_count": 9,
   "metadata": {},
   "outputs": [],
   "source": [
    "# remove record before 2017-12\n",
    "df = df[df.index > '2017-12-01']"
   ]
  },
  {
   "cell_type": "markdown",
   "metadata": {},
   "source": [
    "## Check the frequency of traffic counts"
   ]
  },
  {
   "cell_type": "code",
   "execution_count": 24,
   "metadata": {},
   "outputs": [
    {
     "name": "stdout",
     "output_type": "stream",
     "text": [
      "2202\n",
      "219\n",
      "29\n"
     ]
    }
   ],
   "source": [
    "temp = df[['longitude', 'latitude', '7 Day ADT', 'Road Name']].groupby(['longitude', 'latitude'])['7 Day ADT'].size().reset_index(name = 'count')\n",
    "\n",
    "print((temp['count'] == 1).sum())\n",
    "print((temp['count'] > 1).sum())\n",
    "print((temp['count'] > 2).sum())"
   ]
  },
  {
   "cell_type": "code",
   "execution_count": 11,
   "metadata": {},
   "outputs": [
    {
     "data": {
      "image/png": "[encoded data removed]",
      "text/plain": [
       "<Figure size 432x288 with 1 Axes>"
      ]
     },
     "metadata": {
      "needs_background": "light"
     },
     "output_type": "display_data"
    }
   ],
   "source": [
    "# check how often a place is sampled\n",
    "plt.hist(df[['longitude', 'latitude', '7 Day ADT', 'Road Name']].groupby(['longitude', 'latitude']).size())\n",
    "plt.title('Samping frequency: \\n only 219 sites are sampled more than once since Dec. 2017')\n",
    "plt.savefig('images\\sampling_frequency.png')"
   ]
  },
  {
   "cell_type": "markdown",
   "metadata": {},
   "source": [
    "Most places are sampled once or twice. List out places that are sampled more than two times"
   ]
  },
  {
   "cell_type": "code",
   "execution_count": 12,
   "metadata": {
    "scrolled": true
   },
   "outputs": [
    {
     "data": {
      "text/html": [
       "<div>\n",
       "<style scoped>\n",
       "    .dataframe tbody tr th:only-of-type {\n",
       "        vertical-align: middle;\n",
       "    }\n",
       "\n",
       "    .dataframe tbody tr th {\n",
       "        vertical-align: top;\n",
       "    }\n",
       "\n",
       "    .dataframe thead th {\n",
       "        text-align: right;\n",
       "    }\n",
       "</style>\n",
       "<table border=\"1\" class=\"dataframe\">\n",
       "  <thead>\n",
       "    <tr style=\"text-align: right;\">\n",
       "      <th></th>\n",
       "      <th>longitude</th>\n",
       "      <th>latitude</th>\n",
       "      <th>Road Name</th>\n",
       "      <th>count</th>\n",
       "    </tr>\n",
       "  </thead>\n",
       "  <tbody>\n",
       "    <tr>\n",
       "      <th>1104</th>\n",
       "      <td>174.738466</td>\n",
       "      <td>-37.263426</td>\n",
       "      <td>HULL RD (WAIUKU)</td>\n",
       "      <td>2</td>\n",
       "    </tr>\n",
       "    <tr>\n",
       "      <th>1099</th>\n",
       "      <td>174.738171</td>\n",
       "      <td>-37.212778</td>\n",
       "      <td>MISSION BUSH RD</td>\n",
       "      <td>2</td>\n",
       "    </tr>\n",
       "    <tr>\n",
       "      <th>1007</th>\n",
       "      <td>174.730006</td>\n",
       "      <td>-37.136971</td>\n",
       "      <td>CLARKS BEACH RD</td>\n",
       "      <td>2</td>\n",
       "    </tr>\n",
       "    <tr>\n",
       "      <th>1926</th>\n",
       "      <td>174.860778</td>\n",
       "      <td>-36.957460</td>\n",
       "      <td>BAIRDS RD</td>\n",
       "      <td>3</td>\n",
       "    </tr>\n",
       "    <tr>\n",
       "      <th>2159</th>\n",
       "      <td>174.904840</td>\n",
       "      <td>-37.014364</td>\n",
       "      <td>GRANDE VUE RD (MANUREWA)</td>\n",
       "      <td>4</td>\n",
       "    </tr>\n",
       "  </tbody>\n",
       "</table>\n",
       "</div>"
      ],
      "text/plain": [
       "       longitude   latitude                 Road Name  count\n",
       "1104  174.738466 -37.263426          HULL RD (WAIUKU)      2\n",
       "1099  174.738171 -37.212778           MISSION BUSH RD      2\n",
       "1007  174.730006 -37.136971           CLARKS BEACH RD      2\n",
       "1926  174.860778 -36.957460                 BAIRDS RD      3\n",
       "2159  174.904840 -37.014364  GRANDE VUE RD (MANUREWA)      4"
      ]
     },
     "metadata": {},
     "output_type": "display_data"
    },
    {
     "data": {
      "text/plain": [
       "(124, 4)"
      ]
     },
     "execution_count": 12,
     "metadata": {},
     "output_type": "execute_result"
    }
   ],
   "source": [
    "sample_count = df.groupby(['longitude', 'latitude', 'Road Name'])['latitude'].count().to_frame('count').reset_index()\n",
    "count_more_than_1 = sample_count[sample_count['count']>1]\n",
    "display_all(count_more_than_1.sort_values(by = 'count').tail())\n",
    "count_more_than_1.shape"
   ]
  },
  {
   "cell_type": "markdown",
   "metadata": {},
   "source": [
    "124 coordinates have more than 1 traffic count over the time periods included in the dataset."
   ]
  },
  {
   "cell_type": "markdown",
   "metadata": {},
   "source": [
    "Found out about ONRC Categories, which defines a minimum frequency for conducting traffic count based on road category (e.g. roads classified as \"high volume to arterial\" has a minimum traffic-count frequency of once per year)\n",
    "https://nzta.govt.nz/assets/Road-Efficiency-Group/docs/Traffic-estimate-data-Overview.pdf"
   ]
  },
  {
   "cell_type": "markdown",
   "metadata": {},
   "source": [
    "## Traffic volume histogram"
   ]
  },
  {
   "cell_type": "markdown",
   "metadata": {},
   "source": [
    "From previous jupyter notebook we can see high correlation (both in pearson corr. or spearman corr.) between different traffic volume measures. Hense for the exploratory analysis, we simply focus on '7 Day ADT'."
   ]
  },
  {
   "cell_type": "code",
   "execution_count": 13,
   "metadata": {},
   "outputs": [
    {
     "data": {
      "text/plain": [
       "count     2680.000000\n",
       "mean      9404.418657\n",
       "std       8412.181971\n",
       "min         13.000000\n",
       "25%       2127.250000\n",
       "50%       7334.500000\n",
       "75%      14845.000000\n",
       "max      45272.000000\n",
       "Name: 7 Day ADT, dtype: float64"
      ]
     },
     "execution_count": 13,
     "metadata": {},
     "output_type": "execute_result"
    },
    {
     "data": {
      "image/png": "[encoded data removed]",
      "text/plain": [
       "<Figure size 432x288 with 1 Axes>"
      ]
     },
     "metadata": {
      "needs_background": "light"
     },
     "output_type": "display_data"
    }
   ],
   "source": [
    "plt.hist(df['7 Day ADT'])\n",
    "plt.title(\"'7 Day ADT' volume histogram\")\n",
    "plt.savefig('images/volume_histogram.png')\n",
    "df['7 Day ADT'].describe()"
   ]
  },
  {
   "cell_type": "code",
   "execution_count": 14,
   "metadata": {},
   "outputs": [
    {
     "name": "stdout",
     "output_type": "stream",
     "text": [
      "21533.100000000002 34171.47\n"
     ]
    }
   ],
   "source": [
    "# get the 90% percentile\n",
    "print(np.nanpercentile(df['7 Day ADT'], 90), np.nanpercentile(df['7 Day ADT'], 99))"
   ]
  },
  {
   "cell_type": "markdown",
   "metadata": {},
   "source": [
    "## Change of traffic volume over time"
   ]
  },
  {
   "cell_type": "code",
   "execution_count": 15,
   "metadata": {},
   "outputs": [],
   "source": [
    "df.reset_index(inplace = True)\n",
    "df['count'] = df.groupby(['longitude', 'latitude'])['latitude'].transform('count')\n",
    "df['first_sample_date'] = df.groupby(['longitude', 'latitude'])['Count Start Date'].transform('min')\n",
    "df['last_sample_date'] = df.groupby(['longitude', 'latitude'])['Count Start Date'].transform('max')"
   ]
  },
  {
   "cell_type": "code",
   "execution_count": 16,
   "metadata": {},
   "outputs": [
    {
     "data": {
      "text/plain": [
       "(array([2202.,    0.,  380.,    0.,   57.,    0.,   36.,    0.,    0.,\n",
       "           6.]),\n",
       " array([1. , 1.5, 2. , 2.5, 3. , 3.5, 4. , 4.5, 5. , 5.5, 6. ]),\n",
       " <a list of 10 Patch objects>)"
      ]
     },
     "execution_count": 16,
     "metadata": {},
     "output_type": "execute_result"
    },
    {
     "data": {
      "image/png": "[encoded data removed]",
      "text/plain": [
       "<Figure size 432x288 with 1 Axes>"
      ]
     },
     "metadata": {
      "needs_background": "light"
     },
     "output_type": "display_data"
    }
   ],
   "source": [
    "plt.hist(df['count'])\n",
    "# most coordinates are sampled only once"
   ]
  },
  {
   "cell_type": "code",
   "execution_count": 17,
   "metadata": {},
   "outputs": [
    {
     "data": {
      "text/plain": [
       "Index(['Count Start Date', 'Road Name', 'Carriageway Start Name',\n",
       "       'Carriageway End Name', '5 Day ADT', '7 Day ADT', 'Saturday Volume',\n",
       "       'Sunday Volume', 'AM Peak Volume', 'AM Peak Hour', 'Mid Peak Volume',\n",
       "       'Mid Peak Hour', 'PM Peak Volume', 'PM Peak Hour', 'Car', 'LCV', 'MCV',\n",
       "       'HCV-I', 'HCV-II', 'HCV Total', 'latitude', 'longitude', 'count',\n",
       "       'first_sample_date', 'last_sample_date'],\n",
       "      dtype='object')"
      ]
     },
     "execution_count": 17,
     "metadata": {},
     "output_type": "execute_result"
    }
   ],
   "source": [
    "df.columns"
   ]
  },
  {
   "cell_type": "code",
   "execution_count": 18,
   "metadata": {
    "scrolled": false
   },
   "outputs": [
    {
     "data": {
      "text/plain": [
       "(219, 25)"
      ]
     },
     "execution_count": 18,
     "metadata": {},
     "output_type": "execute_result"
    }
   ],
   "source": [
    "# store only sites that are sampled more than once\n",
    "df_sub = df[df['count']>1]\n",
    "df_sub = df_sub.drop_duplicates(subset = ['longitude', 'latitude'])\n",
    "\n",
    "df_sub.shape\n",
    "# df_sub_temp = df_sub.drop_duplicates(subset = ['longitude', 'latitude'])"
   ]
  },
  {
   "cell_type": "code",
   "execution_count": 19,
   "metadata": {},
   "outputs": [
    {
     "data": {
      "text/plain": [
       "(736677.0, 737158.0)"
      ]
     },
     "execution_count": 19,
     "metadata": {},
     "output_type": "execute_result"
    },
    {
     "data": {
      "image/png": "[encoded data removed]",
      "text/plain": [
       "<Figure size 432x288 with 1 Axes>"
      ]
     },
     "metadata": {
      "needs_background": "light"
     },
     "output_type": "display_data"
    }
   ],
   "source": [
    "sns.scatterplot(x = 'first_sample_date', y = 'last_sample_date', data = df_sub)\n",
    "plt.xlim(df['Count Start Date'].min(), df['Count Start Date'].max())\n",
    "plt.ylim(df['Count Start Date'].min(), df['Count Start Date'].max())"
   ]
  },
  {
   "cell_type": "code",
   "execution_count": 23,
   "metadata": {},
   "outputs": [
    {
     "data": {
      "image/png": "[encoded data removed]",
      "text/plain": [
       "<Figure size 432x288 with 1 Axes>"
      ]
     },
     "metadata": {
      "needs_background": "light"
     },
     "output_type": "display_data"
    }
   ],
   "source": [
    "df_sub['time_apart'] = df_sub['last_sample_date'] - df_sub['first_sample_date']\n",
    "df_sub['time_apart'] = df_sub['time_apart'].astype('timedelta64[D]').astype(int)\n",
    "\n",
    "sns.scatterplot(x = 'first_sample_date', y = 'time_apart', data = df_sub)\n",
    "plt.xlim(df['Count Start Date'].min(), df['Count Start Date'].max())\n",
    "plt.ylim(df_sub['time_apart'].min(), df_sub['time_apart'].max())\n",
    "plt.ylabel('Days to the last traffic count')\n",
    "plt.xlabel('Date of the first traffic count')\n",
    "plt.title('Days apart between the first and last traffic count dates.')\n",
    "plt.savefig(\"images/days_apart.png\")"
   ]
  },
  {
   "cell_type": "markdown",
   "metadata": {},
   "source": [
    "We can see many records have a very short time between the two traffic counts, which is not useful for estimating traffic change over time. However, it maybe useful for estimating traffic count variation.\n",
    "\n",
    "Near the top-left cornor there is a cluster where the last traffic counts are about 1 year apart from the first traffic count. Since they are about 1 year apart, these records would have minimal seasonal effects between them. We can use them to estimate the change of traffic volume.\n"
   ]
  },
  {
   "cell_type": "code",
   "execution_count": 39,
   "metadata": {},
   "outputs": [
    {
     "data": {
      "text/plain": [
       "1   378 days\n",
       "5   364 days\n",
       "6   364 days\n",
       "8   364 days\n",
       "9   364 days\n",
       "Name: time_apart, dtype: timedelta64[ns]"
      ]
     },
     "execution_count": 39,
     "metadata": {},
     "output_type": "execute_result"
    }
   ],
   "source": [
    "df_sub['time_apart'].head()"
   ]
  },
  {
   "cell_type": "code",
   "execution_count": 39,
   "metadata": {},
   "outputs": [
    {
     "name": "stdout",
     "output_type": "stream",
     "text": [
      "2018-03-12 00:00:00 2018-12-31 00:00:00\n"
     ]
    }
   ],
   "source": [
    "df_sub2 = df_sub[df_sub['time_apart']>330]\n",
    "print(df_sub2['first_sample_date'].max(), df_sub2['last_sample_date'].min())\n",
    "# print(df_sub2.shape)\n",
    "# df_sub2.columns"
   ]
  },
  {
   "cell_type": "code",
   "execution_count": 48,
   "metadata": {},
   "outputs": [],
   "source": [
    "# subset df by date between Jan and March\n",
    "# df_2018 = df[(df.index>'2018-01-01') & (df.index<'2018-04-01')]\n",
    "# df_2019 = df[(df.index>'2019-01-01') & (df.index<'2019-04-01')]"
   ]
  },
  {
   "cell_type": "code",
   "execution_count": 42,
   "metadata": {},
   "outputs": [],
   "source": [
    "df.set_index('Count Start Date', inplace = True)"
   ]
  },
  {
   "cell_type": "code",
   "execution_count": 50,
   "metadata": {},
   "outputs": [],
   "source": [
    "df_2018 = df[df.index<'2018-03-13']\n",
    "df_2019 = df[df.index>'2018-12-30']"
   ]
  },
  {
   "cell_type": "code",
   "execution_count": 51,
   "metadata": {},
   "outputs": [
    {
     "data": {
      "text/plain": [
       "82"
      ]
     },
     "execution_count": 51,
     "metadata": {},
     "output_type": "execute_result"
    }
   ],
   "source": [
    "# find out common coordinates\n",
    "coord_2018 = set(zip(df_2018['longitude'], df_2018['latitude']))\n",
    "coord_2019 = set(zip(df_2019['longitude'], df_2019['latitude']))\n",
    "common_coord = coord_2018 & coord_2019\n",
    "len(common_coord)"
   ]
  },
  {
   "cell_type": "code",
   "execution_count": 52,
   "metadata": {},
   "outputs": [
    {
     "data": {
      "text/plain": [
       "Index(['Count Start Date_18', 'longitude', 'latitude', '7 Day ADT_18',\n",
       "       'Count Start Date_19', '7 Day ADT_19'],\n",
       "      dtype='object')"
      ]
     },
     "execution_count": 52,
     "metadata": {},
     "output_type": "execute_result"
    }
   ],
   "source": [
    "# plot change of traffic for these coord\n",
    "# use the first traffic count and the last traffic count\n",
    "df_2018 = df_2018[['longitude','latitude', '7 Day ADT']]\n",
    "df_2019 = df_2019[['longitude','latitude', '7 Day ADT']]\n",
    "df_2018.sort_index(inplace=True)\n",
    "df_2019.sort_index(inplace=True)\n",
    "df_2018.drop_duplicates(subset = ['longitude','latitude'], keep = 'first', inplace = True)\n",
    "df_2019.drop_duplicates(subset = ['longitude','latitude'], keep = 'last', inplace = True)\n",
    "df_2018.reset_index(inplace = True)\n",
    "df_2019.reset_index(inplace = True)\n",
    "df_merged = df_2018.merge(df_2019, how = 'inner', left_on = ['longitude','latitude'], right_on = ['longitude','latitude'], suffixes = ('_18','_19'))\n",
    "df_merged.columns\n",
    "# col_wanted = ['Count Start Date', '7 Day ADT']\n",
    "# dates18 = []\n",
    "# dates19 = []\n",
    "# fig, ax = plt.subplots()\n",
    "# for coord in common_coord:\n",
    "#     record18 = df_2018.loc[(df_2018['longitude'] == coord[0])&(df_2018['latitude'] == coord[1]), col_wanted]\n",
    "#     record19 = df_2019.loc[(df_2019['longitude'] == coord[0])&(df_2019['latitude'] == coord[1]), col_wanted]\n",
    "#     dates = [record18.index[0], record19.index[0]]\n",
    "#     volumes = [record18['7 Day ADT'][0], record19['7 Day ADT'][0]]\n",
    "#     sns.lineplot(x = dates, y = volumes)\n"
   ]
  },
  {
   "cell_type": "code",
   "execution_count": 53,
   "metadata": {},
   "outputs": [],
   "source": [
    "df_merged['percentage_vol_diff'] = df_merged.apply(lambda row: (row['7 Day ADT_19'] - row['7 Day ADT_18'])/row['7 Day ADT_18'], axis = 1)\n",
    "df_merged['vol_diff'] = df_merged['7 Day ADT_19'] - df_merged['7 Day ADT_18']"
   ]
  },
  {
   "cell_type": "code",
   "execution_count": 54,
   "metadata": {},
   "outputs": [
    {
     "data": {
      "text/plain": [
       "count    82.000000\n",
       "mean      0.038190\n",
       "std       0.244060\n",
       "min      -0.397260\n",
       "25%      -0.014803\n",
       "50%       0.015042\n",
       "75%       0.065151\n",
       "max       1.810000\n",
       "Name: percentage_vol_diff, dtype: float64"
      ]
     },
     "execution_count": 54,
     "metadata": {},
     "output_type": "execute_result"
    }
   ],
   "source": [
    "df_merged['percentage_vol_diff'].describe()"
   ]
  },
  {
   "cell_type": "code",
   "execution_count": 69,
   "metadata": {},
   "outputs": [
    {
     "data": {
      "image/png": "[encoded data removed]",
      "text/plain": [
       "<Figure size 432x288 with 1 Axes>"
      ]
     },
     "metadata": {
      "needs_background": "light"
     },
     "output_type": "display_data"
    }
   ],
   "source": [
    "plt.boxplot(df_merged['percentage_vol_diff'])\n",
    "plt.title('Percentage volume difference')\n",
    "plt.savefig('images\\percent_volume_difference.png')"
   ]
  },
  {
   "cell_type": "code",
   "execution_count": 56,
   "metadata": {},
   "outputs": [
    {
     "data": {
      "text/html": [
       "<div>\n",
       "<style scoped>\n",
       "    .dataframe tbody tr th:only-of-type {\n",
       "        vertical-align: middle;\n",
       "    }\n",
       "\n",
       "    .dataframe tbody tr th {\n",
       "        vertical-align: top;\n",
       "    }\n",
       "\n",
       "    .dataframe thead th {\n",
       "        text-align: right;\n",
       "    }\n",
       "</style>\n",
       "<table border=\"1\" class=\"dataframe\">\n",
       "  <thead>\n",
       "    <tr style=\"text-align: right;\">\n",
       "      <th></th>\n",
       "      <th>Count Start Date_18</th>\n",
       "      <th>longitude</th>\n",
       "      <th>latitude</th>\n",
       "      <th>7 Day ADT_18</th>\n",
       "      <th>Count Start Date_19</th>\n",
       "      <th>7 Day ADT_19</th>\n",
       "      <th>percentage_vol_diff</th>\n",
       "      <th>vol_diff</th>\n",
       "    </tr>\n",
       "  </thead>\n",
       "  <tbody>\n",
       "    <tr>\n",
       "      <th>0</th>\n",
       "      <td>2017-12-18</td>\n",
       "      <td>175.182248</td>\n",
       "      <td>-36.938205</td>\n",
       "      <td>200.0</td>\n",
       "      <td>2018-12-31</td>\n",
       "      <td>562.0</td>\n",
       "      <td>1.810000</td>\n",
       "      <td>362.0</td>\n",
       "    </tr>\n",
       "    <tr>\n",
       "      <th>21</th>\n",
       "      <td>2018-02-09</td>\n",
       "      <td>174.750848</td>\n",
       "      <td>-37.220072</td>\n",
       "      <td>872.0</td>\n",
       "      <td>2019-02-09</td>\n",
       "      <td>686.0</td>\n",
       "      <td>-0.213303</td>\n",
       "      <td>-186.0</td>\n",
       "    </tr>\n",
       "    <tr>\n",
       "      <th>41</th>\n",
       "      <td>2018-02-18</td>\n",
       "      <td>174.678838</td>\n",
       "      <td>-37.273183</td>\n",
       "      <td>1043.0</td>\n",
       "      <td>2018-12-31</td>\n",
       "      <td>1281.0</td>\n",
       "      <td>0.228188</td>\n",
       "      <td>238.0</td>\n",
       "    </tr>\n",
       "    <tr>\n",
       "      <th>42</th>\n",
       "      <td>2018-02-18</td>\n",
       "      <td>174.616338</td>\n",
       "      <td>-37.171484</td>\n",
       "      <td>47.0</td>\n",
       "      <td>2019-02-19</td>\n",
       "      <td>36.0</td>\n",
       "      <td>-0.234043</td>\n",
       "      <td>-11.0</td>\n",
       "    </tr>\n",
       "    <tr>\n",
       "      <th>44</th>\n",
       "      <td>2018-02-19</td>\n",
       "      <td>174.649713</td>\n",
       "      <td>-37.056943</td>\n",
       "      <td>251.0</td>\n",
       "      <td>2019-02-19</td>\n",
       "      <td>199.0</td>\n",
       "      <td>-0.207171</td>\n",
       "      <td>-52.0</td>\n",
       "    </tr>\n",
       "    <tr>\n",
       "      <th>45</th>\n",
       "      <td>2018-02-19</td>\n",
       "      <td>174.608464</td>\n",
       "      <td>-37.115591</td>\n",
       "      <td>1304.0</td>\n",
       "      <td>2019-02-19</td>\n",
       "      <td>2416.0</td>\n",
       "      <td>0.852761</td>\n",
       "      <td>1112.0</td>\n",
       "    </tr>\n",
       "    <tr>\n",
       "      <th>50</th>\n",
       "      <td>2018-02-19</td>\n",
       "      <td>174.571815</td>\n",
       "      <td>-37.110026</td>\n",
       "      <td>73.0</td>\n",
       "      <td>2019-02-19</td>\n",
       "      <td>44.0</td>\n",
       "      <td>-0.397260</td>\n",
       "      <td>-29.0</td>\n",
       "    </tr>\n",
       "    <tr>\n",
       "      <th>55</th>\n",
       "      <td>2018-02-19</td>\n",
       "      <td>174.608391</td>\n",
       "      <td>-37.066894</td>\n",
       "      <td>81.0</td>\n",
       "      <td>2019-02-19</td>\n",
       "      <td>62.0</td>\n",
       "      <td>-0.234568</td>\n",
       "      <td>-19.0</td>\n",
       "    </tr>\n",
       "    <tr>\n",
       "      <th>57</th>\n",
       "      <td>2018-02-20</td>\n",
       "      <td>174.810508</td>\n",
       "      <td>-37.215660</td>\n",
       "      <td>1084.0</td>\n",
       "      <td>2019-02-26</td>\n",
       "      <td>1307.0</td>\n",
       "      <td>0.205720</td>\n",
       "      <td>223.0</td>\n",
       "    </tr>\n",
       "    <tr>\n",
       "      <th>72</th>\n",
       "      <td>2018-03-02</td>\n",
       "      <td>174.935204</td>\n",
       "      <td>-37.157925</td>\n",
       "      <td>340.0</td>\n",
       "      <td>2019-03-05</td>\n",
       "      <td>413.0</td>\n",
       "      <td>0.214706</td>\n",
       "      <td>73.0</td>\n",
       "    </tr>\n",
       "  </tbody>\n",
       "</table>\n",
       "</div>"
      ],
      "text/plain": [
       "   Count Start Date_18   longitude   latitude  7 Day ADT_18  \\\n",
       "0           2017-12-18  175.182248 -36.938205         200.0   \n",
       "21          2018-02-09  174.750848 -37.220072         872.0   \n",
       "41          2018-02-18  174.678838 -37.273183        1043.0   \n",
       "42          2018-02-18  174.616338 -37.171484          47.0   \n",
       "44          2018-02-19  174.649713 -37.056943         251.0   \n",
       "45          2018-02-19  174.608464 -37.115591        1304.0   \n",
       "50          2018-02-19  174.571815 -37.110026          73.0   \n",
       "55          2018-02-19  174.608391 -37.066894          81.0   \n",
       "57          2018-02-20  174.810508 -37.215660        1084.0   \n",
       "72          2018-03-02  174.935204 -37.157925         340.0   \n",
       "\n",
       "   Count Start Date_19  7 Day ADT_19  percentage_vol_diff  vol_diff  \n",
       "0           2018-12-31         562.0             1.810000     362.0  \n",
       "21          2019-02-09         686.0            -0.213303    -186.0  \n",
       "41          2018-12-31        1281.0             0.228188     238.0  \n",
       "42          2019-02-19          36.0            -0.234043     -11.0  \n",
       "44          2019-02-19         199.0            -0.207171     -52.0  \n",
       "45          2019-02-19        2416.0             0.852761    1112.0  \n",
       "50          2019-02-19          44.0            -0.397260     -29.0  \n",
       "55          2019-02-19          62.0            -0.234568     -19.0  \n",
       "57          2019-02-26        1307.0             0.205720     223.0  \n",
       "72          2019-03-05         413.0             0.214706      73.0  "
      ]
     },
     "execution_count": 56,
     "metadata": {},
     "output_type": "execute_result"
    }
   ],
   "source": [
    "# take a look at the outliers\n",
    "df_merged[abs(df_merged['percentage_vol_diff'])>0.2]"
   ]
  },
  {
   "cell_type": "markdown",
   "metadata": {},
   "source": [
    "Plot change of volume"
   ]
  },
  {
   "cell_type": "code",
   "execution_count": null,
   "metadata": {},
   "outputs": [],
   "source": [
    "branca.colormap.linear.Paired_08"
   ]
  },
  {
   "cell_type": "code",
   "execution_count": 71,
   "metadata": {
    "scrolled": false
   },
   "outputs": [],
   "source": [
    "m = folium.Map(location = [-37.144312, 174.729056])  #show Clarks beach\n",
    "radius = 5\n",
    "#    YlGnBu_09\n",
    "colorscale = branca.colormap.linear.Paired_08.scale(min(df_merged['percentage_vol_diff']), max(df_merged['percentage_vol_diff']))\n",
    "for long, lat, pvd, vd in zip(df_merged['longitude'], df_merged['latitude'], df_merged['percentage_vol_diff'], df_merged['vol_diff']):\n",
    "    folium.CircleMarker(location=(lat, long),\n",
    "                        popup = f'vol. diff.:{vd}, percent vol. diff.:{pvd}',\n",
    "                        radius=radius,\n",
    "                        color=colorscale(pvd),\n",
    "                        fill=True).add_to(m)\n",
    "\n",
    "m.save('images\\perc_vol_diff.html')"
   ]
  },
  {
   "cell_type": "code",
   "execution_count": 72,
   "metadata": {},
   "outputs": [
    {
     "data": {
      "text/html": [
       "<div style=\"width:100%;\"><div style=\"position:relative;width:100%;height:0;padding-bottom:60%;\"><iframe src=\"data:text/html;charset=utf-8;base64,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\" style=\"position:absolute;width:100%;height:100%;left:0;top:0;border:none !important;\" allowfullscreen webkitallowfullscreen mozallowfullscreen></iframe></div></div>"
      ],
      "text/plain": [
       "<folium.folium.Map at 0xdea6da0>"
      ]
     },
     "execution_count": 72,
     "metadata": {},
     "output_type": "execute_result"
    }
   ],
   "source": [
    "m"
   ]
  },
  {
   "cell_type": "markdown",
   "metadata": {},
   "source": [
    "Most data are for south of Auckland so we cannot draw valid conclusion about the change of traffic volume without seasonal effects... "
   ]
  },
  {
   "cell_type": "markdown",
   "metadata": {},
   "source": [
    "# Look at other data"
   ]
  }
 ],
 "metadata": {
  "anaconda-cloud": {},
  "kernelspec": {
   "display_name": "Python 3",
   "language": "python",
   "name": "python3"
  },
  "language_info": {
   "codemirror_mode": {
    "name": "ipython",
    "version": 3
   },
   "file_extension": ".py",
   "mimetype": "text/x-python",
   "name": "python",
   "nbconvert_exporter": "python",
   "pygments_lexer": "ipython3",
   "version": "3.7.3"
  },
  "toc": {
   "base_numbering": 1,
   "nav_menu": {},
   "number_sections": true,
   "sideBar": true,
   "skip_h1_title": false,
   "title_cell": "Table of Contents",
   "title_sidebar": "Contents",
   "toc_cell": false,
   "toc_position": {
    "height": "calc(100% - 180px)",
    "left": "10px",
    "top": "150px",
    "width": "349.091px"
   },
   "toc_section_display": true,
   "toc_window_display": false
  }
 },
 "nbformat": 4,
 "nbformat_minor": 2
}
