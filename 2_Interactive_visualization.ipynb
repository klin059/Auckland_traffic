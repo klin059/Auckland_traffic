{
 "cells": [
  {
   "cell_type": "code",
   "execution_count": 1,
   "metadata": {},
   "outputs": [],
   "source": [
    "%reload_ext autoreload\n",
    "%autoreload 2\n",
    "%matplotlib inline\n",
    "# %qtconsole\n",
    "\n",
    "from IPython.core.interactiveshell import InteractiveShell\n",
    "InteractiveShell.ast_node_interactivity = \"last\"\n",
    "\n",
    "from IPython.display import display\n",
    "def display_all(df):\n",
    "    with pd.option_context(\"display.max_rows\", 1000): \n",
    "        with pd.option_context(\"display.max_columns\", 1000): \n",
    "            display(df)\n",
    "\t\t\t\n",
    "import pandas as pd\n",
    "import numpy as np\n",
    "from pathlib import Path\t\t\n",
    "\n",
    "import warnings\n",
    "warnings.filterwarnings('ignore')\n",
    "# warnings.filterwarnings(action='once')"
   ]
  },
  {
   "cell_type": "code",
   "execution_count": 8,
   "metadata": {},
   "outputs": [],
   "source": [
    "import matplotlib.pyplot as plt\n",
    "import seaborn as sns"
   ]
  },
  {
   "cell_type": "code",
   "execution_count": 2,
   "metadata": {},
   "outputs": [],
   "source": [
    "import folium\n",
    "# from folium.plugins import HeatMap\n",
    "import branca"
   ]
  },
  {
   "cell_type": "markdown",
   "metadata": {},
   "source": [
    "The data is obtained from https://at.govt.nz/about-us/reports-publications/traffic-counts/ and includes only records with coordinates. The coordinates were transfered from NZTM to longitude and latitude."
   ]
  },
  {
   "cell_type": "code",
   "execution_count": 3,
   "metadata": {},
   "outputs": [
    {
     "data": {
      "text/html": [
       "<div>\n",
       "<style scoped>\n",
       "    .dataframe tbody tr th:only-of-type {\n",
       "        vertical-align: middle;\n",
       "    }\n",
       "\n",
       "    .dataframe tbody tr th {\n",
       "        vertical-align: top;\n",
       "    }\n",
       "\n",
       "    .dataframe thead th {\n",
       "        text-align: right;\n",
       "    }\n",
       "</style>\n",
       "<table border=\"1\" class=\"dataframe\">\n",
       "  <thead>\n",
       "    <tr style=\"text-align: right;\">\n",
       "      <th></th>\n",
       "      <th>Road Name</th>\n",
       "      <th>Carriageway Start Name</th>\n",
       "      <th>Carriageway End Name</th>\n",
       "      <th>5 Day ADT</th>\n",
       "      <th>7 Day ADT</th>\n",
       "      <th>Saturday Volume</th>\n",
       "      <th>Sunday Volume</th>\n",
       "      <th>AM Peak Volume</th>\n",
       "      <th>AM Peak Hour</th>\n",
       "      <th>Mid Peak Volume</th>\n",
       "      <th>Mid Peak Hour</th>\n",
       "      <th>PM Peak Volume</th>\n",
       "      <th>PM Peak Hour</th>\n",
       "      <th>Car</th>\n",
       "      <th>LCV</th>\n",
       "      <th>MCV</th>\n",
       "      <th>HCV-I</th>\n",
       "      <th>HCV-II</th>\n",
       "      <th>HCV Total</th>\n",
       "      <th>latitude</th>\n",
       "      <th>longitude</th>\n",
       "    </tr>\n",
       "    <tr>\n",
       "      <th>Count Start Date</th>\n",
       "      <th></th>\n",
       "      <th></th>\n",
       "      <th></th>\n",
       "      <th></th>\n",
       "      <th></th>\n",
       "      <th></th>\n",
       "      <th></th>\n",
       "      <th></th>\n",
       "      <th></th>\n",
       "      <th></th>\n",
       "      <th></th>\n",
       "      <th></th>\n",
       "      <th></th>\n",
       "      <th></th>\n",
       "      <th></th>\n",
       "      <th></th>\n",
       "      <th></th>\n",
       "      <th></th>\n",
       "      <th></th>\n",
       "      <th></th>\n",
       "      <th></th>\n",
       "    </tr>\n",
       "  </thead>\n",
       "  <tbody>\n",
       "    <tr>\n",
       "      <th>2015-11-04</th>\n",
       "      <td>LADIES MILE (REMUERA)</td>\n",
       "      <td>REMUERA RD</td>\n",
       "      <td>ORMONDE RD</td>\n",
       "      <td>11488.0</td>\n",
       "      <td>10346.0</td>\n",
       "      <td>8471.0</td>\n",
       "      <td>6513.0</td>\n",
       "      <td>1101</td>\n",
       "      <td>745.0</td>\n",
       "      <td>873</td>\n",
       "      <td>1400.0</td>\n",
       "      <td>1212</td>\n",
       "      <td>1700.0</td>\n",
       "      <td>0.95</td>\n",
       "      <td>0.01</td>\n",
       "      <td>0.02</td>\n",
       "      <td>0.01</td>\n",
       "      <td>0.00</td>\n",
       "      <td>0.03</td>\n",
       "      <td>-36.883006</td>\n",
       "      <td>174.809151</td>\n",
       "    </tr>\n",
       "    <tr>\n",
       "      <th>2016-05-05</th>\n",
       "      <td>GRANDE VUE RD (MANUREWA)</td>\n",
       "      <td>MOTORWAY ONRAMP (END ISLAND LHS)</td>\n",
       "      <td>HILL RD</td>\n",
       "      <td>17898.0</td>\n",
       "      <td>17580.0</td>\n",
       "      <td>17770.0</td>\n",
       "      <td>15795.0</td>\n",
       "      <td>1460</td>\n",
       "      <td>NaN</td>\n",
       "      <td>1393</td>\n",
       "      <td>NaN</td>\n",
       "      <td>1279</td>\n",
       "      <td>NaN</td>\n",
       "      <td>0.90</td>\n",
       "      <td>0.01</td>\n",
       "      <td>0.08</td>\n",
       "      <td>0.00</td>\n",
       "      <td>0.00</td>\n",
       "      <td>0.09</td>\n",
       "      <td>-37.014364</td>\n",
       "      <td>174.904840</td>\n",
       "    </tr>\n",
       "    <tr>\n",
       "      <th>2017-05-04</th>\n",
       "      <td>GRANDE VUE RD (MANUREWA)</td>\n",
       "      <td>MOTORWAY ONRAMP (END ISLAND LHS)</td>\n",
       "      <td>HILL RD</td>\n",
       "      <td>18810.0</td>\n",
       "      <td>18014.0</td>\n",
       "      <td>17674.0</td>\n",
       "      <td>14374.0</td>\n",
       "      <td>1572</td>\n",
       "      <td>NaN</td>\n",
       "      <td>1369</td>\n",
       "      <td>NaN</td>\n",
       "      <td>1343</td>\n",
       "      <td>NaN</td>\n",
       "      <td>0.91</td>\n",
       "      <td>0.01</td>\n",
       "      <td>0.07</td>\n",
       "      <td>0.01</td>\n",
       "      <td>0.00</td>\n",
       "      <td>0.08</td>\n",
       "      <td>-37.014364</td>\n",
       "      <td>174.904840</td>\n",
       "    </tr>\n",
       "    <tr>\n",
       "      <th>2017-12-14</th>\n",
       "      <td>ST LUKES RD</td>\n",
       "      <td>CORNWALLIS ST</td>\n",
       "      <td>SANDRINGHAM RD (LHS)</td>\n",
       "      <td>29674.0</td>\n",
       "      <td>28867.0</td>\n",
       "      <td>28201.0</td>\n",
       "      <td>25499.0</td>\n",
       "      <td>1849</td>\n",
       "      <td>900.0</td>\n",
       "      <td>2355</td>\n",
       "      <td>1130.0</td>\n",
       "      <td>2372</td>\n",
       "      <td>1800.0</td>\n",
       "      <td>0.92</td>\n",
       "      <td>0.01</td>\n",
       "      <td>0.02</td>\n",
       "      <td>0.03</td>\n",
       "      <td>0.01</td>\n",
       "      <td>0.05</td>\n",
       "      <td>-36.884606</td>\n",
       "      <td>174.736356</td>\n",
       "    </tr>\n",
       "    <tr>\n",
       "      <th>2017-12-18</th>\n",
       "      <td>KAWAKAWA BAY COAST RD-HC-WK1</td>\n",
       "      <td>TE PAPA RD</td>\n",
       "      <td>END</td>\n",
       "      <td>167.0</td>\n",
       "      <td>200.0</td>\n",
       "      <td>301.0</td>\n",
       "      <td>269.0</td>\n",
       "      <td>18</td>\n",
       "      <td>845.0</td>\n",
       "      <td>41</td>\n",
       "      <td>NaN</td>\n",
       "      <td>39</td>\n",
       "      <td>NaN</td>\n",
       "      <td>0.94</td>\n",
       "      <td>0.02</td>\n",
       "      <td>0.04</td>\n",
       "      <td>0.00</td>\n",
       "      <td>0.00</td>\n",
       "      <td>0.04</td>\n",
       "      <td>-36.938205</td>\n",
       "      <td>175.182248</td>\n",
       "    </tr>\n",
       "  </tbody>\n",
       "</table>\n",
       "</div>"
      ],
      "text/plain": [
       "                                     Road Name  \\\n",
       "Count Start Date                                 \n",
       "2015-11-04               LADIES MILE (REMUERA)   \n",
       "2016-05-05            GRANDE VUE RD (MANUREWA)   \n",
       "2017-05-04            GRANDE VUE RD (MANUREWA)   \n",
       "2017-12-14                         ST LUKES RD   \n",
       "2017-12-18        KAWAKAWA BAY COAST RD-HC-WK1   \n",
       "\n",
       "                            Carriageway Start Name  Carriageway End Name  \\\n",
       "Count Start Date                                                           \n",
       "2015-11-04                              REMUERA RD            ORMONDE RD   \n",
       "2016-05-05        MOTORWAY ONRAMP (END ISLAND LHS)               HILL RD   \n",
       "2017-05-04        MOTORWAY ONRAMP (END ISLAND LHS)               HILL RD   \n",
       "2017-12-14                           CORNWALLIS ST  SANDRINGHAM RD (LHS)   \n",
       "2017-12-18                              TE PAPA RD                   END   \n",
       "\n",
       "                  5 Day ADT  7 Day ADT  Saturday Volume  Sunday Volume  \\\n",
       "Count Start Date                                                         \n",
       "2015-11-04          11488.0    10346.0           8471.0         6513.0   \n",
       "2016-05-05          17898.0    17580.0          17770.0        15795.0   \n",
       "2017-05-04          18810.0    18014.0          17674.0        14374.0   \n",
       "2017-12-14          29674.0    28867.0          28201.0        25499.0   \n",
       "2017-12-18            167.0      200.0            301.0          269.0   \n",
       "\n",
       "                  AM Peak Volume  AM Peak Hour  Mid Peak Volume  \\\n",
       "Count Start Date                                                  \n",
       "2015-11-04                  1101         745.0              873   \n",
       "2016-05-05                  1460           NaN             1393   \n",
       "2017-05-04                  1572           NaN             1369   \n",
       "2017-12-14                  1849         900.0             2355   \n",
       "2017-12-18                    18         845.0               41   \n",
       "\n",
       "                  Mid Peak Hour  PM Peak Volume  PM Peak Hour   Car   LCV  \\\n",
       "Count Start Date                                                            \n",
       "2015-11-04               1400.0            1212        1700.0  0.95  0.01   \n",
       "2016-05-05                  NaN            1279           NaN  0.90  0.01   \n",
       "2017-05-04                  NaN            1343           NaN  0.91  0.01   \n",
       "2017-12-14               1130.0            2372        1800.0  0.92  0.01   \n",
       "2017-12-18                  NaN              39           NaN  0.94  0.02   \n",
       "\n",
       "                   MCV  HCV-I  HCV-II  HCV Total   latitude   longitude  \n",
       "Count Start Date                                                         \n",
       "2015-11-04        0.02   0.01    0.00       0.03 -36.883006  174.809151  \n",
       "2016-05-05        0.08   0.00    0.00       0.09 -37.014364  174.904840  \n",
       "2017-05-04        0.07   0.01    0.00       0.08 -37.014364  174.904840  \n",
       "2017-12-14        0.02   0.03    0.01       0.05 -36.884606  174.736356  \n",
       "2017-12-18        0.04   0.00    0.00       0.04 -36.938205  175.182248  "
      ]
     },
     "metadata": {},
     "output_type": "display_data"
    },
    {
     "name": "stdout",
     "output_type": "stream",
     "text": [
      "<class 'pandas.core.frame.DataFrame'>\n",
      "DatetimeIndex: 2695 entries, 2015-11-04 to 2019-04-09\n",
      "Data columns (total 21 columns):\n",
      "Road Name                 2695 non-null object\n",
      "Carriageway Start Name    2691 non-null object\n",
      "Carriageway End Name      2694 non-null object\n",
      "5 Day ADT                 2694 non-null float64\n",
      "7 Day ADT                 2694 non-null float64\n",
      "Saturday Volume           2695 non-null float64\n",
      "Sunday Volume             2695 non-null float64\n",
      "AM Peak Volume            2695 non-null int64\n",
      "AM Peak Hour              561 non-null float64\n",
      "Mid Peak Volume           2695 non-null int64\n",
      "Mid Peak Hour             867 non-null float64\n",
      "PM Peak Volume            2695 non-null int64\n",
      "PM Peak Hour              683 non-null float64\n",
      "Car                       2695 non-null float64\n",
      "LCV                       2695 non-null float64\n",
      "MCV                       2695 non-null float64\n",
      "HCV-I                     2695 non-null float64\n",
      "HCV-II                    2695 non-null float64\n",
      "HCV Total                 2695 non-null float64\n",
      "latitude                  2695 non-null float64\n",
      "longitude                 2695 non-null float64\n",
      "dtypes: float64(15), int64(3), object(3)\n",
      "memory usage: 463.2+ KB\n"
     ]
    }
   ],
   "source": [
    "df = pd.read_csv(r'data/traffic-counts_v1.csv', parse_dates = ['Count Start Date'])\n",
    "df.set_index('Count Start Date', inplace = True)\n",
    "display_all(df.head())\n",
    "df.info()"
   ]
  },
  {
   "cell_type": "code",
   "execution_count": 4,
   "metadata": {},
   "outputs": [],
   "source": [
    "# function for create a visualization\n",
    "def create_visualization(df_, date_range_min_, date_rage_max_, col_, percentile = 80, radius = 10):\n",
    "    colorscale = branca.colormap.linear.YlGnBu_09.scale(min(df_[col_]), max(df_[col_]))\n",
    "    df_ = df_.loc[date_range_min_:date_rage_max_]\n",
    "    df_ = df_[df_[col_] > np.nanpercentile(df_[col_], percentile)]\n",
    "    \n",
    "    m = folium.Map(location = [-36.848461, 174.763336])  #show Auckland\n",
    "    for long, lat, volume, road in zip(df_['longitude'], df_['latitude'], df_[col_], df_['Road Name']):\n",
    "        folium.CircleMarker(location=(lat, long),\n",
    "                        popup = f'{road}:{volume}',\n",
    "                        radius=radius,\n",
    "                        color=colorscale(volume),\n",
    "                        fill=True).add_to(m)\n",
    "    m.save('Auckland_map.html')\n",
    "#    m._repr_html_()\n",
    "    return m"
   ]
  },
  {
   "cell_type": "markdown",
   "metadata": {},
   "source": [
    "# Questions to answer\n",
    "- traffoc volume distribution/histogram\n",
    "- how does the traffic volume change over time/ how stable is the traffic volume? can they be used for future estimation?\n",
    "    - groupby (longitude, latitude)\n",
    "    - get max, min over time and calculate the maximum difference\n",
    "    - identify drastic change of volume (outliers)\n",
    "- Identify sites with the highest traffic volumes\n",
    "- pandas profiling on records with top traffic volumes\n",
    "\n"
   ]
  },
  {
   "cell_type": "markdown",
   "metadata": {},
   "source": [
    "# Exploratory"
   ]
  },
  {
   "cell_type": "markdown",
   "metadata": {},
   "source": [
    "## Date record histogram"
   ]
  },
  {
   "cell_type": "markdown",
   "metadata": {},
   "source": [
    "The majority of the records are after 2018"
   ]
  },
  {
   "cell_type": "code",
   "execution_count": 9,
   "metadata": {},
   "outputs": [
    {
     "data": {
      "text/plain": [
       "(array([  1.,   1.,   0.,   0.,   1.,   0., 575., 931., 713., 473.]),\n",
       " array([735906. , 736031.2, 736156.4, 736281.6, 736406.8, 736532. ,\n",
       "        736657.2, 736782.4, 736907.6, 737032.8, 737158. ]),\n",
       " <a list of 10 Patch objects>)"
      ]
     },
     "execution_count": 9,
     "metadata": {},
     "output_type": "execute_result"
    },
    {
     "data": {
      "image/png": "[encoded data removed]",
      "text/plain": [
       "<Figure size 432x288 with 1 Axes>"
      ]
     },
     "metadata": {
      "needs_background": "light"
     },
     "output_type": "display_data"
    }
   ],
   "source": [
    "plt.hist(df.index)"
   ]
  },
  {
   "cell_type": "code",
   "execution_count": 11,
   "metadata": {},
   "outputs": [
    {
     "data": {
      "text/plain": [
       "DatetimeIndex(['2015-11-04', '2016-05-05', '2017-05-04'], dtype='datetime64[ns]', name='Count Start Date', freq=None)"
      ]
     },
     "execution_count": 11,
     "metadata": {},
     "output_type": "execute_result"
    }
   ],
   "source": [
    "df.index[df.index < '2017-07-31']\n",
    "# only three records before 2017-07-31"
   ]
  },
  {
   "cell_type": "code",
   "execution_count": 36,
   "metadata": {},
   "outputs": [
    {
     "data": {
      "text/plain": [
       "(array([2.195e+03, 0.000e+00, 1.960e+02, 0.000e+00, 2.000e+01, 0.000e+00,\n",
       "        9.000e+00, 0.000e+00, 0.000e+00, 2.000e+00]),\n",
       " array([1. , 1.5, 2. , 2.5, 3. , 3.5, 4. , 4.5, 5. , 5.5, 6. ]),\n",
       " <a list of 10 Patch objects>)"
      ]
     },
     "execution_count": 36,
     "metadata": {},
     "output_type": "execute_result"
    },
    {
     "data": {
      "image/png": "[encoded data removed]",
      "text/plain": [
       "<Figure size 432x288 with 1 Axes>"
      ]
     },
     "metadata": {
      "needs_background": "light"
     },
     "output_type": "display_data"
    }
   ],
   "source": [
    "# check how often a place is sampled\n",
    "plt.hist(df[['longitude', 'latitude', '7 Day ADT', 'Road Name']].groupby(['longitude', 'latitude']).size())"
   ]
  },
  {
   "cell_type": "markdown",
   "metadata": {},
   "source": [
    "Most places are sampled once or twice. List out places that are sampled more than two times"
   ]
  },
  {
   "cell_type": "code",
   "execution_count": 57,
   "metadata": {
    "scrolled": true
   },
   "outputs": [
    {
     "data": {
      "text/html": [
       "<div>\n",
       "<style scoped>\n",
       "    .dataframe tbody tr th:only-of-type {\n",
       "        vertical-align: middle;\n",
       "    }\n",
       "\n",
       "    .dataframe tbody tr th {\n",
       "        vertical-align: top;\n",
       "    }\n",
       "\n",
       "    .dataframe thead th {\n",
       "        text-align: right;\n",
       "    }\n",
       "</style>\n",
       "<table border=\"1\" class=\"dataframe\">\n",
       "  <thead>\n",
       "    <tr style=\"text-align: right;\">\n",
       "      <th></th>\n",
       "      <th>longitude</th>\n",
       "      <th>latitude</th>\n",
       "      <th>Road Name</th>\n",
       "      <th>count</th>\n",
       "    </tr>\n",
       "  </thead>\n",
       "  <tbody>\n",
       "    <tr>\n",
       "      <th>2408</th>\n",
       "      <td>174.989382</td>\n",
       "      <td>-37.185130</td>\n",
       "      <td>BOMBAY RD</td>\n",
       "      <td>2</td>\n",
       "    </tr>\n",
       "    <tr>\n",
       "      <th>2016</th>\n",
       "      <td>174.877165</td>\n",
       "      <td>-36.997284</td>\n",
       "      <td>WIRI STATION RD</td>\n",
       "      <td>3</td>\n",
       "    </tr>\n",
       "    <tr>\n",
       "      <th>1927</th>\n",
       "      <td>174.860778</td>\n",
       "      <td>-36.957460</td>\n",
       "      <td>BAIRDS RD</td>\n",
       "      <td>3</td>\n",
       "    </tr>\n",
       "    <tr>\n",
       "      <th>2058</th>\n",
       "      <td>174.885426</td>\n",
       "      <td>-37.039225</td>\n",
       "      <td>MAHIA RD</td>\n",
       "      <td>4</td>\n",
       "    </tr>\n",
       "    <tr>\n",
       "      <th>2160</th>\n",
       "      <td>174.904840</td>\n",
       "      <td>-37.014364</td>\n",
       "      <td>GRANDE VUE RD (MANUREWA)</td>\n",
       "      <td>6</td>\n",
       "    </tr>\n",
       "  </tbody>\n",
       "</table>\n",
       "</div>"
      ],
      "text/plain": [
       "       longitude   latitude                 Road Name  count\n",
       "2408  174.989382 -37.185130                 BOMBAY RD      2\n",
       "2016  174.877165 -36.997284           WIRI STATION RD      3\n",
       "1927  174.860778 -36.957460                 BAIRDS RD      3\n",
       "2058  174.885426 -37.039225                  MAHIA RD      4\n",
       "2160  174.904840 -37.014364  GRANDE VUE RD (MANUREWA)      6"
      ]
     },
     "execution_count": 57,
     "metadata": {},
     "output_type": "execute_result"
    }
   ],
   "source": [
    "sample_count = df.groupby(['longitude', 'latitude', 'Road Name'])['latitude'].count().to_frame('count').reset_index()\n",
    "count_more_than_1 = sample_count[sample_count['count']>1]\n",
    "count_more_than_1.sort_values(by = 'count').tail()"
   ]
  },
  {
   "cell_type": "markdown",
   "metadata": {},
   "source": [
    "Found out about ONRC Categories, which defines a minimum frequency for conducting traffic count based on road category (e.g. roads classified as \"high volume to arterial\" has a minimum traffic-count frequency of once per year)\n",
    "https://nzta.govt.nz/assets/Road-Efficiency-Group/docs/Traffic-estimate-data-Overview.pdf"
   ]
  },
  {
   "cell_type": "markdown",
   "metadata": {},
   "source": [
    "## Traffic volume histogram"
   ]
  },
  {
   "cell_type": "code",
   "execution_count": 77,
   "metadata": {},
   "outputs": [
    {
     "data": {
      "text/plain": [
       "count     2694.000000\n",
       "mean      9406.163326\n",
       "std       8401.108109\n",
       "min         13.000000\n",
       "25%       2159.750000\n",
       "50%       7334.500000\n",
       "75%      14849.000000\n",
       "max      45272.000000\n",
       "Name: 7 Day ADT, dtype: float64"
      ]
     },
     "execution_count": 77,
     "metadata": {},
     "output_type": "execute_result"
    },
    {
     "data": {
      "image/png": "[encoded data removed]",
      "text/plain": [
       "<Figure size 432x288 with 1 Axes>"
      ]
     },
     "metadata": {
      "needs_background": "light"
     },
     "output_type": "display_data"
    }
   ],
   "source": [
    "plt.hist(df['7 Day ADT'])\n",
    "df['7 Day ADT'].describe()"
   ]
  },
  {
   "cell_type": "code",
   "execution_count": null,
   "metadata": {},
   "outputs": [],
   "source": []
  },
  {
   "cell_type": "markdown",
   "metadata": {},
   "source": [
    "# Change of traffic volume over time"
   ]
  },
  {
   "cell_type": "code",
   "execution_count": 66,
   "metadata": {},
   "outputs": [
    {
     "data": {
      "text/html": [
       "<div>\n",
       "<style scoped>\n",
       "    .dataframe tbody tr th:only-of-type {\n",
       "        vertical-align: middle;\n",
       "    }\n",
       "\n",
       "    .dataframe tbody tr th {\n",
       "        vertical-align: top;\n",
       "    }\n",
       "\n",
       "    .dataframe thead tr th {\n",
       "        text-align: left;\n",
       "    }\n",
       "\n",
       "    .dataframe thead tr:last-of-type th {\n",
       "        text-align: right;\n",
       "    }\n",
       "</style>\n",
       "<table border=\"1\" class=\"dataframe\">\n",
       "  <thead>\n",
       "    <tr>\n",
       "      <th></th>\n",
       "      <th></th>\n",
       "      <th colspan=\"3\" halign=\"left\">7 Day ADT</th>\n",
       "    </tr>\n",
       "    <tr>\n",
       "      <th></th>\n",
       "      <th></th>\n",
       "      <th>count</th>\n",
       "      <th>min</th>\n",
       "      <th>max</th>\n",
       "    </tr>\n",
       "    <tr>\n",
       "      <th>longitude</th>\n",
       "      <th>latitude</th>\n",
       "      <th></th>\n",
       "      <th></th>\n",
       "      <th></th>\n",
       "    </tr>\n",
       "  </thead>\n",
       "  <tbody>\n",
       "    <tr>\n",
       "      <th>174.292680</th>\n",
       "      <th>-36.526972</th>\n",
       "      <td>1</td>\n",
       "      <td>465.0</td>\n",
       "      <td>465.0</td>\n",
       "    </tr>\n",
       "    <tr>\n",
       "      <th>174.316881</th>\n",
       "      <th>-36.559745</th>\n",
       "      <td>1</td>\n",
       "      <td>748.0</td>\n",
       "      <td>748.0</td>\n",
       "    </tr>\n",
       "    <tr>\n",
       "      <th>174.350804</th>\n",
       "      <th>-36.622501</th>\n",
       "      <td>1</td>\n",
       "      <td>2089.0</td>\n",
       "      <td>2089.0</td>\n",
       "    </tr>\n",
       "    <tr>\n",
       "      <th>174.419116</th>\n",
       "      <th>-36.650913</th>\n",
       "      <td>3</td>\n",
       "      <td>2495.0</td>\n",
       "      <td>2827.0</td>\n",
       "    </tr>\n",
       "    <tr>\n",
       "      <th>174.422101</th>\n",
       "      <th>-36.313721</th>\n",
       "      <td>1</td>\n",
       "      <td>416.0</td>\n",
       "      <td>416.0</td>\n",
       "    </tr>\n",
       "  </tbody>\n",
       "</table>\n",
       "</div>"
      ],
      "text/plain": [
       "                      7 Day ADT                \n",
       "                          count     min     max\n",
       "longitude  latitude                            \n",
       "174.292680 -36.526972         1   465.0   465.0\n",
       "174.316881 -36.559745         1   748.0   748.0\n",
       "174.350804 -36.622501         1  2089.0  2089.0\n",
       "174.419116 -36.650913         3  2495.0  2827.0\n",
       "174.422101 -36.313721         1   416.0   416.0"
      ]
     },
     "execution_count": 66,
     "metadata": {},
     "output_type": "execute_result"
    }
   ],
   "source": [
    "temp = df.groupby(['longitude', 'latitude']).agg({'7 Day ADT':['count','min', 'max']})\n",
    "temp.head()"
   ]
  },
  {
   "cell_type": "code",
   "execution_count": 70,
   "metadata": {},
   "outputs": [
    {
     "ename": "KeyError",
     "evalue": "'min'",
     "output_type": "error",
     "traceback": [
      "\u001b[1;31m---------------------------------------------------------------------------\u001b[0m",
      "\u001b[1;31mKeyError\u001b[0m                                  Traceback (most recent call last)",
      "\u001b[1;32m~\\Anaconda3\\lib\\site-packages\\pandas\\core\\indexes\\base.py\u001b[0m in \u001b[0;36mget_loc\u001b[1;34m(self, key, method, tolerance)\u001b[0m\n\u001b[0;32m   2656\u001b[0m             \u001b[1;32mtry\u001b[0m\u001b[1;33m:\u001b[0m\u001b[1;33m\u001b[0m\u001b[1;33m\u001b[0m\u001b[0m\n\u001b[1;32m-> 2657\u001b[1;33m                 \u001b[1;32mreturn\u001b[0m \u001b[0mself\u001b[0m\u001b[1;33m.\u001b[0m\u001b[0m_engine\u001b[0m\u001b[1;33m.\u001b[0m\u001b[0mget_loc\u001b[0m\u001b[1;33m(\u001b[0m\u001b[0mkey\u001b[0m\u001b[1;33m)\u001b[0m\u001b[1;33m\u001b[0m\u001b[1;33m\u001b[0m\u001b[0m\n\u001b[0m\u001b[0;32m   2658\u001b[0m             \u001b[1;32mexcept\u001b[0m \u001b[0mKeyError\u001b[0m\u001b[1;33m:\u001b[0m\u001b[1;33m\u001b[0m\u001b[1;33m\u001b[0m\u001b[0m\n",
      "\u001b[1;32mpandas/_libs/index.pyx\u001b[0m in \u001b[0;36mpandas._libs.index.IndexEngine.get_loc\u001b[1;34m()\u001b[0m\n",
      "\u001b[1;32mpandas/_libs/index.pyx\u001b[0m in \u001b[0;36mpandas._libs.index.IndexEngine.get_loc\u001b[1;34m()\u001b[0m\n",
      "\u001b[1;32mpandas/_libs/hashtable_class_helper.pxi\u001b[0m in \u001b[0;36mpandas._libs.hashtable.PyObjectHashTable.get_item\u001b[1;34m()\u001b[0m\n",
      "\u001b[1;32mpandas/_libs/hashtable_class_helper.pxi\u001b[0m in \u001b[0;36mpandas._libs.hashtable.PyObjectHashTable.get_item\u001b[1;34m()\u001b[0m\n",
      "\u001b[1;31mKeyError\u001b[0m: 'min'",
      "\nDuring handling of the above exception, another exception occurred:\n",
      "\u001b[1;31mKeyError\u001b[0m                                  Traceback (most recent call last)",
      "\u001b[1;32m<ipython-input-70-2bf05da24320>\u001b[0m in \u001b[0;36m<module>\u001b[1;34m\u001b[0m\n\u001b[0;32m      1\u001b[0m \u001b[0mtemp2\u001b[0m \u001b[1;33m=\u001b[0m \u001b[0mtemp\u001b[0m\u001b[1;33m[\u001b[0m\u001b[0mtemp\u001b[0m\u001b[1;33m[\u001b[0m\u001b[1;34m'7 Day ADT'\u001b[0m\u001b[1;33m]\u001b[0m\u001b[1;33m[\u001b[0m\u001b[1;34m'count'\u001b[0m\u001b[1;33m]\u001b[0m\u001b[1;33m>\u001b[0m\u001b[1;36m2\u001b[0m\u001b[1;33m]\u001b[0m\u001b[1;33m\u001b[0m\u001b[1;33m\u001b[0m\u001b[0m\n\u001b[1;32m----> 2\u001b[1;33m \u001b[0mtemp2\u001b[0m\u001b[1;33m[\u001b[0m\u001b[1;34m'diff'\u001b[0m\u001b[1;33m]\u001b[0m \u001b[1;33m=\u001b[0m \u001b[0mtemp\u001b[0m\u001b[1;33m[\u001b[0m\u001b[1;34m'min'\u001b[0m\u001b[1;33m]\u001b[0m \u001b[1;33m-\u001b[0m \u001b[0mtemp\u001b[0m\u001b[1;33m[\u001b[0m\u001b[1;34m'max'\u001b[0m\u001b[1;33m]\u001b[0m\u001b[1;33m\u001b[0m\u001b[1;33m\u001b[0m\u001b[0m\n\u001b[0m\u001b[0;32m      3\u001b[0m \u001b[0mtemp2\u001b[0m\u001b[1;33m[\u001b[0m\u001b[1;34m'diff'\u001b[0m\u001b[1;33m]\u001b[0m\u001b[1;33m.\u001b[0m\u001b[0mmean\u001b[0m\u001b[1;33m(\u001b[0m\u001b[1;33m)\u001b[0m\u001b[1;33m\u001b[0m\u001b[1;33m\u001b[0m\u001b[0m\n",
      "\u001b[1;32m~\\Anaconda3\\lib\\site-packages\\pandas\\core\\frame.py\u001b[0m in \u001b[0;36m__getitem__\u001b[1;34m(self, key)\u001b[0m\n\u001b[0;32m   2924\u001b[0m         \u001b[1;32mif\u001b[0m \u001b[0mis_single_key\u001b[0m\u001b[1;33m:\u001b[0m\u001b[1;33m\u001b[0m\u001b[1;33m\u001b[0m\u001b[0m\n\u001b[0;32m   2925\u001b[0m             \u001b[1;32mif\u001b[0m \u001b[0mself\u001b[0m\u001b[1;33m.\u001b[0m\u001b[0mcolumns\u001b[0m\u001b[1;33m.\u001b[0m\u001b[0mnlevels\u001b[0m \u001b[1;33m>\u001b[0m \u001b[1;36m1\u001b[0m\u001b[1;33m:\u001b[0m\u001b[1;33m\u001b[0m\u001b[1;33m\u001b[0m\u001b[0m\n\u001b[1;32m-> 2926\u001b[1;33m                 \u001b[1;32mreturn\u001b[0m \u001b[0mself\u001b[0m\u001b[1;33m.\u001b[0m\u001b[0m_getitem_multilevel\u001b[0m\u001b[1;33m(\u001b[0m\u001b[0mkey\u001b[0m\u001b[1;33m)\u001b[0m\u001b[1;33m\u001b[0m\u001b[1;33m\u001b[0m\u001b[0m\n\u001b[0m\u001b[0;32m   2927\u001b[0m             \u001b[0mindexer\u001b[0m \u001b[1;33m=\u001b[0m \u001b[0mself\u001b[0m\u001b[1;33m.\u001b[0m\u001b[0mcolumns\u001b[0m\u001b[1;33m.\u001b[0m\u001b[0mget_loc\u001b[0m\u001b[1;33m(\u001b[0m\u001b[0mkey\u001b[0m\u001b[1;33m)\u001b[0m\u001b[1;33m\u001b[0m\u001b[1;33m\u001b[0m\u001b[0m\n\u001b[0;32m   2928\u001b[0m             \u001b[1;32mif\u001b[0m \u001b[0mis_integer\u001b[0m\u001b[1;33m(\u001b[0m\u001b[0mindexer\u001b[0m\u001b[1;33m)\u001b[0m\u001b[1;33m:\u001b[0m\u001b[1;33m\u001b[0m\u001b[1;33m\u001b[0m\u001b[0m\n",
      "\u001b[1;32m~\\Anaconda3\\lib\\site-packages\\pandas\\core\\frame.py\u001b[0m in \u001b[0;36m_getitem_multilevel\u001b[1;34m(self, key)\u001b[0m\n\u001b[0;32m   2970\u001b[0m \u001b[1;33m\u001b[0m\u001b[0m\n\u001b[0;32m   2971\u001b[0m     \u001b[1;32mdef\u001b[0m \u001b[0m_getitem_multilevel\u001b[0m\u001b[1;33m(\u001b[0m\u001b[0mself\u001b[0m\u001b[1;33m,\u001b[0m \u001b[0mkey\u001b[0m\u001b[1;33m)\u001b[0m\u001b[1;33m:\u001b[0m\u001b[1;33m\u001b[0m\u001b[1;33m\u001b[0m\u001b[0m\n\u001b[1;32m-> 2972\u001b[1;33m         \u001b[0mloc\u001b[0m \u001b[1;33m=\u001b[0m \u001b[0mself\u001b[0m\u001b[1;33m.\u001b[0m\u001b[0mcolumns\u001b[0m\u001b[1;33m.\u001b[0m\u001b[0mget_loc\u001b[0m\u001b[1;33m(\u001b[0m\u001b[0mkey\u001b[0m\u001b[1;33m)\u001b[0m\u001b[1;33m\u001b[0m\u001b[1;33m\u001b[0m\u001b[0m\n\u001b[0m\u001b[0;32m   2973\u001b[0m         \u001b[1;32mif\u001b[0m \u001b[0misinstance\u001b[0m\u001b[1;33m(\u001b[0m\u001b[0mloc\u001b[0m\u001b[1;33m,\u001b[0m \u001b[1;33m(\u001b[0m\u001b[0mslice\u001b[0m\u001b[1;33m,\u001b[0m \u001b[0mSeries\u001b[0m\u001b[1;33m,\u001b[0m \u001b[0mnp\u001b[0m\u001b[1;33m.\u001b[0m\u001b[0mndarray\u001b[0m\u001b[1;33m,\u001b[0m \u001b[0mIndex\u001b[0m\u001b[1;33m)\u001b[0m\u001b[1;33m)\u001b[0m\u001b[1;33m:\u001b[0m\u001b[1;33m\u001b[0m\u001b[1;33m\u001b[0m\u001b[0m\n\u001b[0;32m   2974\u001b[0m             \u001b[0mnew_columns\u001b[0m \u001b[1;33m=\u001b[0m \u001b[0mself\u001b[0m\u001b[1;33m.\u001b[0m\u001b[0mcolumns\u001b[0m\u001b[1;33m[\u001b[0m\u001b[0mloc\u001b[0m\u001b[1;33m]\u001b[0m\u001b[1;33m\u001b[0m\u001b[1;33m\u001b[0m\u001b[0m\n",
      "\u001b[1;32m~\\Anaconda3\\lib\\site-packages\\pandas\\core\\indexes\\multi.py\u001b[0m in \u001b[0;36mget_loc\u001b[1;34m(self, key, method)\u001b[0m\n\u001b[0;32m   2395\u001b[0m \u001b[1;33m\u001b[0m\u001b[0m\n\u001b[0;32m   2396\u001b[0m         \u001b[1;32mif\u001b[0m \u001b[1;32mnot\u001b[0m \u001b[0misinstance\u001b[0m\u001b[1;33m(\u001b[0m\u001b[0mkey\u001b[0m\u001b[1;33m,\u001b[0m \u001b[0mtuple\u001b[0m\u001b[1;33m)\u001b[0m\u001b[1;33m:\u001b[0m\u001b[1;33m\u001b[0m\u001b[1;33m\u001b[0m\u001b[0m\n\u001b[1;32m-> 2397\u001b[1;33m             \u001b[0mloc\u001b[0m \u001b[1;33m=\u001b[0m \u001b[0mself\u001b[0m\u001b[1;33m.\u001b[0m\u001b[0m_get_level_indexer\u001b[0m\u001b[1;33m(\u001b[0m\u001b[0mkey\u001b[0m\u001b[1;33m,\u001b[0m \u001b[0mlevel\u001b[0m\u001b[1;33m=\u001b[0m\u001b[1;36m0\u001b[0m\u001b[1;33m)\u001b[0m\u001b[1;33m\u001b[0m\u001b[1;33m\u001b[0m\u001b[0m\n\u001b[0m\u001b[0;32m   2398\u001b[0m             \u001b[1;32mreturn\u001b[0m \u001b[0m_maybe_to_slice\u001b[0m\u001b[1;33m(\u001b[0m\u001b[0mloc\u001b[0m\u001b[1;33m)\u001b[0m\u001b[1;33m\u001b[0m\u001b[1;33m\u001b[0m\u001b[0m\n\u001b[0;32m   2399\u001b[0m \u001b[1;33m\u001b[0m\u001b[0m\n",
      "\u001b[1;32m~\\Anaconda3\\lib\\site-packages\\pandas\\core\\indexes\\multi.py\u001b[0m in \u001b[0;36m_get_level_indexer\u001b[1;34m(self, key, level, indexer)\u001b[0m\n\u001b[0;32m   2650\u001b[0m         \u001b[1;32melse\u001b[0m\u001b[1;33m:\u001b[0m\u001b[1;33m\u001b[0m\u001b[1;33m\u001b[0m\u001b[0m\n\u001b[0;32m   2651\u001b[0m \u001b[1;33m\u001b[0m\u001b[0m\n\u001b[1;32m-> 2652\u001b[1;33m             \u001b[0mcode\u001b[0m \u001b[1;33m=\u001b[0m \u001b[0mlevel_index\u001b[0m\u001b[1;33m.\u001b[0m\u001b[0mget_loc\u001b[0m\u001b[1;33m(\u001b[0m\u001b[0mkey\u001b[0m\u001b[1;33m)\u001b[0m\u001b[1;33m\u001b[0m\u001b[1;33m\u001b[0m\u001b[0m\n\u001b[0m\u001b[0;32m   2653\u001b[0m \u001b[1;33m\u001b[0m\u001b[0m\n\u001b[0;32m   2654\u001b[0m             \u001b[1;32mif\u001b[0m \u001b[0mlevel\u001b[0m \u001b[1;33m>\u001b[0m \u001b[1;36m0\u001b[0m \u001b[1;32mor\u001b[0m \u001b[0mself\u001b[0m\u001b[1;33m.\u001b[0m\u001b[0mlexsort_depth\u001b[0m \u001b[1;33m==\u001b[0m \u001b[1;36m0\u001b[0m\u001b[1;33m:\u001b[0m\u001b[1;33m\u001b[0m\u001b[1;33m\u001b[0m\u001b[0m\n",
      "\u001b[1;32m~\\Anaconda3\\lib\\site-packages\\pandas\\core\\indexes\\base.py\u001b[0m in \u001b[0;36mget_loc\u001b[1;34m(self, key, method, tolerance)\u001b[0m\n\u001b[0;32m   2657\u001b[0m                 \u001b[1;32mreturn\u001b[0m \u001b[0mself\u001b[0m\u001b[1;33m.\u001b[0m\u001b[0m_engine\u001b[0m\u001b[1;33m.\u001b[0m\u001b[0mget_loc\u001b[0m\u001b[1;33m(\u001b[0m\u001b[0mkey\u001b[0m\u001b[1;33m)\u001b[0m\u001b[1;33m\u001b[0m\u001b[1;33m\u001b[0m\u001b[0m\n\u001b[0;32m   2658\u001b[0m             \u001b[1;32mexcept\u001b[0m \u001b[0mKeyError\u001b[0m\u001b[1;33m:\u001b[0m\u001b[1;33m\u001b[0m\u001b[1;33m\u001b[0m\u001b[0m\n\u001b[1;32m-> 2659\u001b[1;33m                 \u001b[1;32mreturn\u001b[0m \u001b[0mself\u001b[0m\u001b[1;33m.\u001b[0m\u001b[0m_engine\u001b[0m\u001b[1;33m.\u001b[0m\u001b[0mget_loc\u001b[0m\u001b[1;33m(\u001b[0m\u001b[0mself\u001b[0m\u001b[1;33m.\u001b[0m\u001b[0m_maybe_cast_indexer\u001b[0m\u001b[1;33m(\u001b[0m\u001b[0mkey\u001b[0m\u001b[1;33m)\u001b[0m\u001b[1;33m)\u001b[0m\u001b[1;33m\u001b[0m\u001b[1;33m\u001b[0m\u001b[0m\n\u001b[0m\u001b[0;32m   2660\u001b[0m         \u001b[0mindexer\u001b[0m \u001b[1;33m=\u001b[0m \u001b[0mself\u001b[0m\u001b[1;33m.\u001b[0m\u001b[0mget_indexer\u001b[0m\u001b[1;33m(\u001b[0m\u001b[1;33m[\u001b[0m\u001b[0mkey\u001b[0m\u001b[1;33m]\u001b[0m\u001b[1;33m,\u001b[0m \u001b[0mmethod\u001b[0m\u001b[1;33m=\u001b[0m\u001b[0mmethod\u001b[0m\u001b[1;33m,\u001b[0m \u001b[0mtolerance\u001b[0m\u001b[1;33m=\u001b[0m\u001b[0mtolerance\u001b[0m\u001b[1;33m)\u001b[0m\u001b[1;33m\u001b[0m\u001b[1;33m\u001b[0m\u001b[0m\n\u001b[0;32m   2661\u001b[0m         \u001b[1;32mif\u001b[0m \u001b[0mindexer\u001b[0m\u001b[1;33m.\u001b[0m\u001b[0mndim\u001b[0m \u001b[1;33m>\u001b[0m \u001b[1;36m1\u001b[0m \u001b[1;32mor\u001b[0m \u001b[0mindexer\u001b[0m\u001b[1;33m.\u001b[0m\u001b[0msize\u001b[0m \u001b[1;33m>\u001b[0m \u001b[1;36m1\u001b[0m\u001b[1;33m:\u001b[0m\u001b[1;33m\u001b[0m\u001b[1;33m\u001b[0m\u001b[0m\n",
      "\u001b[1;32mpandas/_libs/index.pyx\u001b[0m in \u001b[0;36mpandas._libs.index.IndexEngine.get_loc\u001b[1;34m()\u001b[0m\n",
      "\u001b[1;32mpandas/_libs/index.pyx\u001b[0m in \u001b[0;36mpandas._libs.index.IndexEngine.get_loc\u001b[1;34m()\u001b[0m\n",
      "\u001b[1;32mpandas/_libs/hashtable_class_helper.pxi\u001b[0m in \u001b[0;36mpandas._libs.hashtable.PyObjectHashTable.get_item\u001b[1;34m()\u001b[0m\n",
      "\u001b[1;32mpandas/_libs/hashtable_class_helper.pxi\u001b[0m in \u001b[0;36mpandas._libs.hashtable.PyObjectHashTable.get_item\u001b[1;34m()\u001b[0m\n",
      "\u001b[1;31mKeyError\u001b[0m: 'min'"
     ]
    }
   ],
   "source": [
    "temp2 = temp[temp['7 Day ADT']['count']>2]\n",
    "temp2['diff'] = temp2['min'] - temp['max']\n",
    "temp2['diff'].mean()"
   ]
  },
  {
   "cell_type": "code",
   "execution_count": 61,
   "metadata": {},
   "outputs": [
    {
     "data": {
      "text/plain": [
       "<matplotlib.axes._subplots.AxesSubplot at 0xe6e27b8>"
      ]
     },
     "execution_count": 61,
     "metadata": {},
     "output_type": "execute_result"
    },
    {
     "data": {
      "text/plain": [
       "<matplotlib.axes._subplots.AxesSubplot at 0xe6e27b8>"
      ]
     },
     "execution_count": 61,
     "metadata": {},
     "output_type": "execute_result"
    },
    {
     "data": {
      "text/plain": [
       "<matplotlib.axes._subplots.AxesSubplot at 0xe6e27b8>"
      ]
     },
     "execution_count": 61,
     "metadata": {},
     "output_type": "execute_result"
    },
    {
     "data": {
      "text/plain": [
       "<matplotlib.axes._subplots.AxesSubplot at 0xe6e27b8>"
      ]
     },
     "execution_count": 61,
     "metadata": {},
     "output_type": "execute_result"
    },
    {
     "data": {
      "text/plain": [
       "<matplotlib.axes._subplots.AxesSubplot at 0xe6e27b8>"
      ]
     },
     "execution_count": 61,
     "metadata": {},
     "output_type": "execute_result"
    },
    {
     "data": {
      "text/plain": [
       "<matplotlib.axes._subplots.AxesSubplot at 0xe6e27b8>"
      ]
     },
     "execution_count": 61,
     "metadata": {},
     "output_type": "execute_result"
    },
    {
     "data": {
      "text/plain": [
       "<matplotlib.axes._subplots.AxesSubplot at 0xe6e27b8>"
      ]
     },
     "execution_count": 61,
     "metadata": {},
     "output_type": "execute_result"
    },
    {
     "data": {
      "text/plain": [
       "<matplotlib.axes._subplots.AxesSubplot at 0xe6e27b8>"
      ]
     },
     "execution_count": 61,
     "metadata": {},
     "output_type": "execute_result"
    },
    {
     "data": {
      "text/plain": [
       "<matplotlib.axes._subplots.AxesSubplot at 0xe6e27b8>"
      ]
     },
     "execution_count": 61,
     "metadata": {},
     "output_type": "execute_result"
    },
    {
     "data": {
      "text/plain": [
       "<matplotlib.axes._subplots.AxesSubplot at 0xe6e27b8>"
      ]
     },
     "execution_count": 61,
     "metadata": {},
     "output_type": "execute_result"
    },
    {
     "data": {
      "text/plain": [
       "<matplotlib.axes._subplots.AxesSubplot at 0xe6e27b8>"
      ]
     },
     "execution_count": 61,
     "metadata": {},
     "output_type": "execute_result"
    },
    {
     "data": {
      "text/plain": [
       "<matplotlib.axes._subplots.AxesSubplot at 0xe6e27b8>"
      ]
     },
     "execution_count": 61,
     "metadata": {},
     "output_type": "execute_result"
    },
    {
     "data": {
      "text/plain": [
       "<matplotlib.axes._subplots.AxesSubplot at 0xe6e27b8>"
      ]
     },
     "execution_count": 61,
     "metadata": {},
     "output_type": "execute_result"
    },
    {
     "data": {
      "text/plain": [
       "<matplotlib.axes._subplots.AxesSubplot at 0xe6e27b8>"
      ]
     },
     "execution_count": 61,
     "metadata": {},
     "output_type": "execute_result"
    },
    {
     "data": {
      "text/plain": [
       "<matplotlib.axes._subplots.AxesSubplot at 0xe6e27b8>"
      ]
     },
     "execution_count": 61,
     "metadata": {},
     "output_type": "execute_result"
    },
    {
     "data": {
      "text/plain": [
       "<matplotlib.axes._subplots.AxesSubplot at 0xe6e27b8>"
      ]
     },
     "execution_count": 61,
     "metadata": {},
     "output_type": "execute_result"
    },
    {
     "data": {
      "text/plain": [
       "<matplotlib.axes._subplots.AxesSubplot at 0xe6e27b8>"
      ]
     },
     "execution_count": 61,
     "metadata": {},
     "output_type": "execute_result"
    },
    {
     "data": {
      "text/plain": [
       "<matplotlib.axes._subplots.AxesSubplot at 0xe6e27b8>"
      ]
     },
     "execution_count": 61,
     "metadata": {},
     "output_type": "execute_result"
    },
    {
     "data": {
      "text/plain": [
       "<matplotlib.axes._subplots.AxesSubplot at 0xe6e27b8>"
      ]
     },
     "execution_count": 61,
     "metadata": {},
     "output_type": "execute_result"
    },
    {
     "data": {
      "text/plain": [
       "<matplotlib.axes._subplots.AxesSubplot at 0xe6e27b8>"
      ]
     },
     "execution_count": 61,
     "metadata": {},
     "output_type": "execute_result"
    },
    {
     "data": {
      "text/plain": [
       "<matplotlib.axes._subplots.AxesSubplot at 0xe6e27b8>"
      ]
     },
     "execution_count": 61,
     "metadata": {},
     "output_type": "execute_result"
    },
    {
     "data": {
      "text/plain": [
       "<matplotlib.axes._subplots.AxesSubplot at 0xe6e27b8>"
      ]
     },
     "execution_count": 61,
     "metadata": {},
     "output_type": "execute_result"
    },
    {
     "data": {
      "text/plain": [
       "<matplotlib.axes._subplots.AxesSubplot at 0xe6e27b8>"
      ]
     },
     "execution_count": 61,
     "metadata": {},
     "output_type": "execute_result"
    },
    {
     "data": {
      "text/plain": [
       "<matplotlib.axes._subplots.AxesSubplot at 0xe6e27b8>"
      ]
     },
     "execution_count": 61,
     "metadata": {},
     "output_type": "execute_result"
    },
    {
     "data": {
      "text/plain": [
       "<matplotlib.axes._subplots.AxesSubplot at 0xe6e27b8>"
      ]
     },
     "execution_count": 61,
     "metadata": {},
     "output_type": "execute_result"
    },
    {
     "data": {
      "text/plain": [
       "<matplotlib.axes._subplots.AxesSubplot at 0xe6e27b8>"
      ]
     },
     "execution_count": 61,
     "metadata": {},
     "output_type": "execute_result"
    },
    {
     "data": {
      "text/plain": [
       "<matplotlib.axes._subplots.AxesSubplot at 0xe6e27b8>"
      ]
     },
     "execution_count": 61,
     "metadata": {},
     "output_type": "execute_result"
    },
    {
     "data": {
      "text/plain": [
       "<matplotlib.axes._subplots.AxesSubplot at 0xe6e27b8>"
      ]
     },
     "execution_count": 61,
     "metadata": {},
     "output_type": "execute_result"
    },
    {
     "data": {
      "text/plain": [
       "<matplotlib.axes._subplots.AxesSubplot at 0xe6e27b8>"
      ]
     },
     "execution_count": 61,
     "metadata": {},
     "output_type": "execute_result"
    },
    {
     "data": {
      "text/plain": [
       "<matplotlib.axes._subplots.AxesSubplot at 0xe6e27b8>"
      ]
     },
     "execution_count": 61,
     "metadata": {},
     "output_type": "execute_result"
    },
    {
     "data": {
      "text/plain": [
       "<matplotlib.axes._subplots.AxesSubplot at 0xe6e27b8>"
      ]
     },
     "execution_count": 61,
     "metadata": {},
     "output_type": "execute_result"
    },
    {
     "data": {
      "text/plain": [
       "<matplotlib.axes._subplots.AxesSubplot at 0xe6e27b8>"
      ]
     },
     "execution_count": 61,
     "metadata": {},
     "output_type": "execute_result"
    },
    {
     "data": {
      "text/plain": [
       "<matplotlib.axes._subplots.AxesSubplot at 0xe6e27b8>"
      ]
     },
     "execution_count": 61,
     "metadata": {},
     "output_type": "execute_result"
    },
    {
     "data": {
      "text/plain": [
       "<matplotlib.axes._subplots.AxesSubplot at 0xe6e27b8>"
      ]
     },
     "execution_count": 61,
     "metadata": {},
     "output_type": "execute_result"
    },
    {
     "data": {
      "text/plain": [
       "<matplotlib.axes._subplots.AxesSubplot at 0xe6e27b8>"
      ]
     },
     "execution_count": 61,
     "metadata": {},
     "output_type": "execute_result"
    },
    {
     "data": {
      "text/plain": [
       "<matplotlib.axes._subplots.AxesSubplot at 0xe6e27b8>"
      ]
     },
     "execution_count": 61,
     "metadata": {},
     "output_type": "execute_result"
    },
    {
     "data": {
      "text/plain": [
       "<matplotlib.axes._subplots.AxesSubplot at 0xe6e27b8>"
      ]
     },
     "execution_count": 61,
     "metadata": {},
     "output_type": "execute_result"
    },
    {
     "data": {
      "text/plain": [
       "<matplotlib.axes._subplots.AxesSubplot at 0xe6e27b8>"
      ]
     },
     "execution_count": 61,
     "metadata": {},
     "output_type": "execute_result"
    },
    {
     "data": {
      "text/plain": [
       "<matplotlib.axes._subplots.AxesSubplot at 0xe6e27b8>"
      ]
     },
     "execution_count": 61,
     "metadata": {},
     "output_type": "execute_result"
    },
    {
     "data": {
      "text/plain": [
       "<matplotlib.axes._subplots.AxesSubplot at 0xe6e27b8>"
      ]
     },
     "execution_count": 61,
     "metadata": {},
     "output_type": "execute_result"
    },
    {
     "data": {
      "text/plain": [
       "<matplotlib.axes._subplots.AxesSubplot at 0xe6e27b8>"
      ]
     },
     "execution_count": 61,
     "metadata": {},
     "output_type": "execute_result"
    },
    {
     "data": {
      "text/plain": [
       "<matplotlib.axes._subplots.AxesSubplot at 0xe6e27b8>"
      ]
     },
     "execution_count": 61,
     "metadata": {},
     "output_type": "execute_result"
    },
    {
     "data": {
      "text/plain": [
       "<matplotlib.axes._subplots.AxesSubplot at 0xe6e27b8>"
      ]
     },
     "execution_count": 61,
     "metadata": {},
     "output_type": "execute_result"
    },
    {
     "data": {
      "text/plain": [
       "<matplotlib.axes._subplots.AxesSubplot at 0xe6e27b8>"
      ]
     },
     "execution_count": 61,
     "metadata": {},
     "output_type": "execute_result"
    },
    {
     "data": {
      "text/plain": [
       "<matplotlib.axes._subplots.AxesSubplot at 0xe6e27b8>"
      ]
     },
     "execution_count": 61,
     "metadata": {},
     "output_type": "execute_result"
    },
    {
     "data": {
      "text/plain": [
       "<matplotlib.axes._subplots.AxesSubplot at 0xe6e27b8>"
      ]
     },
     "execution_count": 61,
     "metadata": {},
     "output_type": "execute_result"
    },
    {
     "data": {
      "text/plain": [
       "<matplotlib.axes._subplots.AxesSubplot at 0xe6e27b8>"
      ]
     },
     "execution_count": 61,
     "metadata": {},
     "output_type": "execute_result"
    },
    {
     "data": {
      "text/plain": [
       "<matplotlib.axes._subplots.AxesSubplot at 0xe6e27b8>"
      ]
     },
     "execution_count": 61,
     "metadata": {},
     "output_type": "execute_result"
    },
    {
     "data": {
      "text/plain": [
       "<matplotlib.axes._subplots.AxesSubplot at 0xe6e27b8>"
      ]
     },
     "execution_count": 61,
     "metadata": {},
     "output_type": "execute_result"
    },
    {
     "data": {
      "text/plain": [
       "<matplotlib.axes._subplots.AxesSubplot at 0xe6e27b8>"
      ]
     },
     "execution_count": 61,
     "metadata": {},
     "output_type": "execute_result"
    },
    {
     "data": {
      "text/plain": [
       "<matplotlib.axes._subplots.AxesSubplot at 0xe6e27b8>"
      ]
     },
     "execution_count": 61,
     "metadata": {},
     "output_type": "execute_result"
    },
    {
     "data": {
      "text/plain": [
       "<matplotlib.axes._subplots.AxesSubplot at 0xe6e27b8>"
      ]
     },
     "execution_count": 61,
     "metadata": {},
     "output_type": "execute_result"
    },
    {
     "data": {
      "text/plain": [
       "<matplotlib.axes._subplots.AxesSubplot at 0xe6e27b8>"
      ]
     },
     "execution_count": 61,
     "metadata": {},
     "output_type": "execute_result"
    },
    {
     "data": {
      "text/plain": [
       "<matplotlib.axes._subplots.AxesSubplot at 0xe6e27b8>"
      ]
     },
     "execution_count": 61,
     "metadata": {},
     "output_type": "execute_result"
    },
    {
     "data": {
      "text/plain": [
       "<matplotlib.axes._subplots.AxesSubplot at 0xe6e27b8>"
      ]
     },
     "execution_count": 61,
     "metadata": {},
     "output_type": "execute_result"
    },
    {
     "data": {
      "text/plain": [
       "<matplotlib.axes._subplots.AxesSubplot at 0xe6e27b8>"
      ]
     },
     "execution_count": 61,
     "metadata": {},
     "output_type": "execute_result"
    },
    {
     "data": {
      "text/plain": [
       "<matplotlib.axes._subplots.AxesSubplot at 0xe6e27b8>"
      ]
     },
     "execution_count": 61,
     "metadata": {},
     "output_type": "execute_result"
    },
    {
     "data": {
      "text/plain": [
       "<matplotlib.axes._subplots.AxesSubplot at 0xe6e27b8>"
      ]
     },
     "execution_count": 61,
     "metadata": {},
     "output_type": "execute_result"
    },
    {
     "data": {
      "text/plain": [
       "<matplotlib.axes._subplots.AxesSubplot at 0xe6e27b8>"
      ]
     },
     "execution_count": 61,
     "metadata": {},
     "output_type": "execute_result"
    },
    {
     "data": {
      "text/plain": [
       "<matplotlib.axes._subplots.AxesSubplot at 0xe6e27b8>"
      ]
     },
     "execution_count": 61,
     "metadata": {},
     "output_type": "execute_result"
    },
    {
     "data": {
      "text/plain": [
       "<matplotlib.axes._subplots.AxesSubplot at 0xe6e27b8>"
      ]
     },
     "execution_count": 61,
     "metadata": {},
     "output_type": "execute_result"
    },
    {
     "data": {
      "text/plain": [
       "<matplotlib.axes._subplots.AxesSubplot at 0xe6e27b8>"
      ]
     },
     "execution_count": 61,
     "metadata": {},
     "output_type": "execute_result"
    },
    {
     "data": {
      "text/plain": [
       "<matplotlib.axes._subplots.AxesSubplot at 0xe6e27b8>"
      ]
     },
     "execution_count": 61,
     "metadata": {},
     "output_type": "execute_result"
    },
    {
     "data": {
      "text/plain": [
       "<matplotlib.axes._subplots.AxesSubplot at 0xe6e27b8>"
      ]
     },
     "execution_count": 61,
     "metadata": {},
     "output_type": "execute_result"
    },
    {
     "data": {
      "text/plain": [
       "<matplotlib.axes._subplots.AxesSubplot at 0xe6e27b8>"
      ]
     },
     "execution_count": 61,
     "metadata": {},
     "output_type": "execute_result"
    },
    {
     "data": {
      "text/plain": [
       "<matplotlib.axes._subplots.AxesSubplot at 0xe6e27b8>"
      ]
     },
     "execution_count": 61,
     "metadata": {},
     "output_type": "execute_result"
    },
    {
     "data": {
      "text/plain": [
       "<matplotlib.axes._subplots.AxesSubplot at 0xe6e27b8>"
      ]
     },
     "execution_count": 61,
     "metadata": {},
     "output_type": "execute_result"
    },
    {
     "data": {
      "text/plain": [
       "<matplotlib.axes._subplots.AxesSubplot at 0xe6e27b8>"
      ]
     },
     "execution_count": 61,
     "metadata": {},
     "output_type": "execute_result"
    },
    {
     "data": {
      "text/plain": [
       "<matplotlib.axes._subplots.AxesSubplot at 0xe6e27b8>"
      ]
     },
     "execution_count": 61,
     "metadata": {},
     "output_type": "execute_result"
    },
    {
     "data": {
      "text/plain": [
       "<matplotlib.axes._subplots.AxesSubplot at 0xe6e27b8>"
      ]
     },
     "execution_count": 61,
     "metadata": {},
     "output_type": "execute_result"
    },
    {
     "data": {
      "text/plain": [
       "<matplotlib.axes._subplots.AxesSubplot at 0xe6e27b8>"
      ]
     },
     "execution_count": 61,
     "metadata": {},
     "output_type": "execute_result"
    },
    {
     "data": {
      "text/plain": [
       "<matplotlib.axes._subplots.AxesSubplot at 0xe6e27b8>"
      ]
     },
     "execution_count": 61,
     "metadata": {},
     "output_type": "execute_result"
    },
    {
     "data": {
      "text/plain": [
       "<matplotlib.axes._subplots.AxesSubplot at 0xe6e27b8>"
      ]
     },
     "execution_count": 61,
     "metadata": {},
     "output_type": "execute_result"
    },
    {
     "data": {
      "text/plain": [
       "<matplotlib.axes._subplots.AxesSubplot at 0xe6e27b8>"
      ]
     },
     "execution_count": 61,
     "metadata": {},
     "output_type": "execute_result"
    },
    {
     "data": {
      "text/plain": [
       "<matplotlib.axes._subplots.AxesSubplot at 0xe6e27b8>"
      ]
     },
     "execution_count": 61,
     "metadata": {},
     "output_type": "execute_result"
    },
    {
     "data": {
      "text/plain": [
       "<matplotlib.axes._subplots.AxesSubplot at 0xe6e27b8>"
      ]
     },
     "execution_count": 61,
     "metadata": {},
     "output_type": "execute_result"
    },
    {
     "data": {
      "text/plain": [
       "<matplotlib.axes._subplots.AxesSubplot at 0xe6e27b8>"
      ]
     },
     "execution_count": 61,
     "metadata": {},
     "output_type": "execute_result"
    },
    {
     "data": {
      "text/plain": [
       "<matplotlib.axes._subplots.AxesSubplot at 0xe6e27b8>"
      ]
     },
     "execution_count": 61,
     "metadata": {},
     "output_type": "execute_result"
    },
    {
     "data": {
      "text/plain": [
       "<matplotlib.axes._subplots.AxesSubplot at 0xe6e27b8>"
      ]
     },
     "execution_count": 61,
     "metadata": {},
     "output_type": "execute_result"
    },
    {
     "data": {
      "text/plain": [
       "<matplotlib.axes._subplots.AxesSubplot at 0xe6e27b8>"
      ]
     },
     "execution_count": 61,
     "metadata": {},
     "output_type": "execute_result"
    },
    {
     "data": {
      "text/plain": [
       "<matplotlib.axes._subplots.AxesSubplot at 0xe6e27b8>"
      ]
     },
     "execution_count": 61,
     "metadata": {},
     "output_type": "execute_result"
    },
    {
     "data": {
      "text/plain": [
       "<matplotlib.axes._subplots.AxesSubplot at 0xe6e27b8>"
      ]
     },
     "execution_count": 61,
     "metadata": {},
     "output_type": "execute_result"
    },
    {
     "data": {
      "text/plain": [
       "<matplotlib.axes._subplots.AxesSubplot at 0xe6e27b8>"
      ]
     },
     "execution_count": 61,
     "metadata": {},
     "output_type": "execute_result"
    },
    {
     "data": {
      "text/plain": [
       "<matplotlib.axes._subplots.AxesSubplot at 0xe6e27b8>"
      ]
     },
     "execution_count": 61,
     "metadata": {},
     "output_type": "execute_result"
    },
    {
     "data": {
      "text/plain": [
       "<matplotlib.axes._subplots.AxesSubplot at 0xe6e27b8>"
      ]
     },
     "execution_count": 61,
     "metadata": {},
     "output_type": "execute_result"
    },
    {
     "data": {
      "text/plain": [
       "<matplotlib.axes._subplots.AxesSubplot at 0xe6e27b8>"
      ]
     },
     "execution_count": 61,
     "metadata": {},
     "output_type": "execute_result"
    },
    {
     "data": {
      "text/plain": [
       "<matplotlib.axes._subplots.AxesSubplot at 0xe6e27b8>"
      ]
     },
     "execution_count": 61,
     "metadata": {},
     "output_type": "execute_result"
    },
    {
     "data": {
      "text/plain": [
       "<matplotlib.axes._subplots.AxesSubplot at 0xe6e27b8>"
      ]
     },
     "execution_count": 61,
     "metadata": {},
     "output_type": "execute_result"
    },
    {
     "data": {
      "text/plain": [
       "<matplotlib.axes._subplots.AxesSubplot at 0xe6e27b8>"
      ]
     },
     "execution_count": 61,
     "metadata": {},
     "output_type": "execute_result"
    },
    {
     "data": {
      "text/plain": [
       "<matplotlib.axes._subplots.AxesSubplot at 0xe6e27b8>"
      ]
     },
     "execution_count": 61,
     "metadata": {},
     "output_type": "execute_result"
    },
    {
     "data": {
      "text/plain": [
       "<matplotlib.axes._subplots.AxesSubplot at 0xe6e27b8>"
      ]
     },
     "execution_count": 61,
     "metadata": {},
     "output_type": "execute_result"
    },
    {
     "data": {
      "text/plain": [
       "<matplotlib.axes._subplots.AxesSubplot at 0xe6e27b8>"
      ]
     },
     "execution_count": 61,
     "metadata": {},
     "output_type": "execute_result"
    },
    {
     "data": {
      "text/plain": [
       "<matplotlib.axes._subplots.AxesSubplot at 0xe6e27b8>"
      ]
     },
     "execution_count": 61,
     "metadata": {},
     "output_type": "execute_result"
    },
    {
     "data": {
      "text/plain": [
       "<matplotlib.axes._subplots.AxesSubplot at 0xe6e27b8>"
      ]
     },
     "execution_count": 61,
     "metadata": {},
     "output_type": "execute_result"
    },
    {
     "data": {
      "text/plain": [
       "<matplotlib.axes._subplots.AxesSubplot at 0xe6e27b8>"
      ]
     },
     "execution_count": 61,
     "metadata": {},
     "output_type": "execute_result"
    },
    {
     "data": {
      "text/plain": [
       "<matplotlib.axes._subplots.AxesSubplot at 0xe6e27b8>"
      ]
     },
     "execution_count": 61,
     "metadata": {},
     "output_type": "execute_result"
    },
    {
     "data": {
      "text/plain": [
       "<matplotlib.axes._subplots.AxesSubplot at 0xe6e27b8>"
      ]
     },
     "execution_count": 61,
     "metadata": {},
     "output_type": "execute_result"
    },
    {
     "data": {
      "text/plain": [
       "<matplotlib.axes._subplots.AxesSubplot at 0xe6e27b8>"
      ]
     },
     "execution_count": 61,
     "metadata": {},
     "output_type": "execute_result"
    },
    {
     "data": {
      "text/plain": [
       "<matplotlib.axes._subplots.AxesSubplot at 0xe6e27b8>"
      ]
     },
     "execution_count": 61,
     "metadata": {},
     "output_type": "execute_result"
    },
    {
     "data": {
      "text/plain": [
       "<matplotlib.axes._subplots.AxesSubplot at 0xe6e27b8>"
      ]
     },
     "execution_count": 61,
     "metadata": {},
     "output_type": "execute_result"
    },
    {
     "data": {
      "text/plain": [
       "<matplotlib.axes._subplots.AxesSubplot at 0xe6e27b8>"
      ]
     },
     "execution_count": 61,
     "metadata": {},
     "output_type": "execute_result"
    },
    {
     "data": {
      "text/plain": [
       "<matplotlib.axes._subplots.AxesSubplot at 0xe6e27b8>"
      ]
     },
     "execution_count": 61,
     "metadata": {},
     "output_type": "execute_result"
    },
    {
     "data": {
      "text/plain": [
       "<matplotlib.axes._subplots.AxesSubplot at 0xe6e27b8>"
      ]
     },
     "execution_count": 61,
     "metadata": {},
     "output_type": "execute_result"
    },
    {
     "data": {
      "text/plain": [
       "<matplotlib.axes._subplots.AxesSubplot at 0xe6e27b8>"
      ]
     },
     "execution_count": 61,
     "metadata": {},
     "output_type": "execute_result"
    },
    {
     "data": {
      "text/plain": [
       "<matplotlib.axes._subplots.AxesSubplot at 0xe6e27b8>"
      ]
     },
     "execution_count": 61,
     "metadata": {},
     "output_type": "execute_result"
    },
    {
     "data": {
      "text/plain": [
       "<matplotlib.axes._subplots.AxesSubplot at 0xe6e27b8>"
      ]
     },
     "execution_count": 61,
     "metadata": {},
     "output_type": "execute_result"
    },
    {
     "data": {
      "text/plain": [
       "<matplotlib.axes._subplots.AxesSubplot at 0xe6e27b8>"
      ]
     },
     "execution_count": 61,
     "metadata": {},
     "output_type": "execute_result"
    },
    {
     "data": {
      "text/plain": [
       "<matplotlib.axes._subplots.AxesSubplot at 0xe6e27b8>"
      ]
     },
     "execution_count": 61,
     "metadata": {},
     "output_type": "execute_result"
    },
    {
     "data": {
      "text/plain": [
       "<matplotlib.axes._subplots.AxesSubplot at 0xe6e27b8>"
      ]
     },
     "execution_count": 61,
     "metadata": {},
     "output_type": "execute_result"
    },
    {
     "data": {
      "text/plain": [
       "<matplotlib.axes._subplots.AxesSubplot at 0xe6e27b8>"
      ]
     },
     "execution_count": 61,
     "metadata": {},
     "output_type": "execute_result"
    },
    {
     "data": {
      "text/plain": [
       "<matplotlib.axes._subplots.AxesSubplot at 0xe6e27b8>"
      ]
     },
     "execution_count": 61,
     "metadata": {},
     "output_type": "execute_result"
    },
    {
     "data": {
      "text/plain": [
       "<matplotlib.axes._subplots.AxesSubplot at 0xe6e27b8>"
      ]
     },
     "execution_count": 61,
     "metadata": {},
     "output_type": "execute_result"
    },
    {
     "data": {
      "text/plain": [
       "<matplotlib.axes._subplots.AxesSubplot at 0xe6e27b8>"
      ]
     },
     "execution_count": 61,
     "metadata": {},
     "output_type": "execute_result"
    },
    {
     "data": {
      "text/plain": [
       "<matplotlib.axes._subplots.AxesSubplot at 0xe6e27b8>"
      ]
     },
     "execution_count": 61,
     "metadata": {},
     "output_type": "execute_result"
    },
    {
     "data": {
      "text/plain": [
       "<matplotlib.axes._subplots.AxesSubplot at 0xe6e27b8>"
      ]
     },
     "execution_count": 61,
     "metadata": {},
     "output_type": "execute_result"
    },
    {
     "data": {
      "text/plain": [
       "<matplotlib.axes._subplots.AxesSubplot at 0xe6e27b8>"
      ]
     },
     "execution_count": 61,
     "metadata": {},
     "output_type": "execute_result"
    },
    {
     "data": {
      "text/plain": [
       "<matplotlib.axes._subplots.AxesSubplot at 0xe6e27b8>"
      ]
     },
     "execution_count": 61,
     "metadata": {},
     "output_type": "execute_result"
    },
    {
     "data": {
      "text/plain": [
       "<matplotlib.axes._subplots.AxesSubplot at 0xe6e27b8>"
      ]
     },
     "execution_count": 61,
     "metadata": {},
     "output_type": "execute_result"
    },
    {
     "data": {
      "text/plain": [
       "<matplotlib.axes._subplots.AxesSubplot at 0xe6e27b8>"
      ]
     },
     "execution_count": 61,
     "metadata": {},
     "output_type": "execute_result"
    },
    {
     "data": {
      "text/plain": [
       "<matplotlib.axes._subplots.AxesSubplot at 0xe6e27b8>"
      ]
     },
     "execution_count": 61,
     "metadata": {},
     "output_type": "execute_result"
    },
    {
     "data": {
      "text/plain": [
       "<matplotlib.axes._subplots.AxesSubplot at 0xe6e27b8>"
      ]
     },
     "execution_count": 61,
     "metadata": {},
     "output_type": "execute_result"
    },
    {
     "data": {
      "text/plain": [
       "<matplotlib.axes._subplots.AxesSubplot at 0xe6e27b8>"
      ]
     },
     "execution_count": 61,
     "metadata": {},
     "output_type": "execute_result"
    },
    {
     "data": {
      "text/plain": [
       "<matplotlib.axes._subplots.AxesSubplot at 0xe6e27b8>"
      ]
     },
     "execution_count": 61,
     "metadata": {},
     "output_type": "execute_result"
    },
    {
     "data": {
      "text/plain": [
       "<matplotlib.axes._subplots.AxesSubplot at 0xe6e27b8>"
      ]
     },
     "execution_count": 61,
     "metadata": {},
     "output_type": "execute_result"
    },
    {
     "data": {
      "text/plain": [
       "<matplotlib.axes._subplots.AxesSubplot at 0xe6e27b8>"
      ]
     },
     "execution_count": 61,
     "metadata": {},
     "output_type": "execute_result"
    },
    {
     "data": {
      "text/plain": [
       "<matplotlib.axes._subplots.AxesSubplot at 0xe6e27b8>"
      ]
     },
     "execution_count": 61,
     "metadata": {},
     "output_type": "execute_result"
    },
    {
     "data": {
      "text/plain": [
       "<matplotlib.axes._subplots.AxesSubplot at 0xe6e27b8>"
      ]
     },
     "execution_count": 61,
     "metadata": {},
     "output_type": "execute_result"
    },
    {
     "data": {
      "text/plain": [
       "<matplotlib.axes._subplots.AxesSubplot at 0xe6e27b8>"
      ]
     },
     "execution_count": 61,
     "metadata": {},
     "output_type": "execute_result"
    },
    {
     "data": {
      "text/plain": [
       "<matplotlib.axes._subplots.AxesSubplot at 0xe6e27b8>"
      ]
     },
     "execution_count": 61,
     "metadata": {},
     "output_type": "execute_result"
    },
    {
     "data": {
      "text/plain": [
       "<matplotlib.axes._subplots.AxesSubplot at 0xe6e27b8>"
      ]
     },
     "execution_count": 61,
     "metadata": {},
     "output_type": "execute_result"
    },
    {
     "data": {
      "text/plain": [
       "<matplotlib.axes._subplots.AxesSubplot at 0xe6e27b8>"
      ]
     },
     "execution_count": 61,
     "metadata": {},
     "output_type": "execute_result"
    },
    {
     "data": {
      "text/plain": [
       "<matplotlib.axes._subplots.AxesSubplot at 0xe6e27b8>"
      ]
     },
     "execution_count": 61,
     "metadata": {},
     "output_type": "execute_result"
    },
    {
     "data": {
      "image/png": "[encoded data removed]",
      "text/plain": [
       "<Figure size 432x288 with 1 Axes>"
      ]
     },
     "metadata": {
      "needs_background": "light"
     },
     "output_type": "display_data"
    }
   ],
   "source": [
    "# plot 7 day adc over time\n",
    "fig, ax = plt.subplots()\n",
    "for long, lat in zip(count_more_than_1['longitude'], count_more_than_1['latitude']):\n",
    "    df_temp = df[(df.longitude == long) & (df.latitude == lat)]\n",
    "    sns.lineplot(x = df_temp.index, y = df_temp['7 Day ADT'], ax = ax)"
   ]
  },
  {
   "cell_type": "markdown",
   "metadata": {},
   "source": [
    "There seem to be a similar time period between two records of the same coordinate. The change in traffic volume doesn't seem to vary a lot for the majority of cases."
   ]
  },
  {
   "cell_type": "code",
   "execution_count": null,
   "metadata": {},
   "outputs": [],
   "source": []
  },
  {
   "cell_type": "markdown",
   "metadata": {},
   "source": [
    "From pandas profiling we know that all the traffic volume measures are highly correlated with each other. Here we will focus on 7 day average daily traffic"
   ]
  },
  {
   "cell_type": "code",
   "execution_count": 12,
   "metadata": {},
   "outputs": [],
   "source": [
    "col = '7 Day ADT'"
   ]
  },
  {
   "cell_type": "code",
   "execution_count": 7,
   "metadata": {},
   "outputs": [],
   "source": [
    "start_year = 2018\n",
    "start_month = 5\n",
    "start_day = 1\n",
    "end_year = 2018\n",
    "end_month = 6\n",
    "end_day = 1\n",
    "start_date = 1"
   ]
  },
  {
   "cell_type": "code",
   "execution_count": 9,
   "metadata": {},
   "outputs": [
    {
     "data": {
      "text/plain": [
       "14849.0"
      ]
     },
     "execution_count": 9,
     "metadata": {},
     "output_type": "execute_result"
    }
   ],
   "source": [
    "p80 = np.nanpercentile(df[col], 75)\n",
    "p80"
   ]
  },
  {
   "cell_type": "code",
   "execution_count": 10,
   "metadata": {},
   "outputs": [],
   "source": [
    "df_temp = df.loc['2018-05-01':'2018-05-31']\n",
    "df_temp = df_temp[df_temp[col] > p80]"
   ]
  },
  {
   "cell_type": "code",
   "execution_count": 11,
   "metadata": {},
   "outputs": [],
   "source": [
    "import branca\n",
    "colorscale = branca.colormap.linear.YlGnBu_09.scale(min(df[col]), max(df[col]))"
   ]
  },
  {
   "cell_type": "code",
   "execution_count": 12,
   "metadata": {},
   "outputs": [],
   "source": []
  },
  {
   "cell_type": "code",
   "execution_count": 29,
   "metadata": {},
   "outputs": [
    {
     "data": {
      "text/html": [
       "<div style=\"width:100%;\"><div style=\"position:relative;width:100%;height:0;padding-bottom:60%;\"><iframe src=\"data:text/html;charset=utf-8;base64,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\" style=\"position:absolute;width:100%;height:100%;left:0;top:0;border:none !important;\" allowfullscreen webkitallowfullscreen mozallowfullscreen></iframe></div></div>"
      ],
      "text/plain": [
       "<folium.folium.Map at 0xb6de860>"
      ]
     },
     "execution_count": 29,
     "metadata": {},
     "output_type": "execute_result"
    }
   ],
   "source": [
    "m = folium.Map(location = [-36.848461, 174.763336])  #show Auckland\n",
    "radius = 5\n",
    "for long, lat, volume, road in zip(df_temp['longitude'], df_temp['latitude'], df_temp[col], df_temp['Road Name']):\n",
    "    folium.CircleMarker(location=(lat, long),\n",
    "                        popup = f'{road}:{volume}',\n",
    "                        radius=radius,\n",
    "                        color=colorscale(volume),\n",
    "                        fill=True).add_to(m)\n",
    "m"
   ]
  },
  {
   "cell_type": "code",
   "execution_count": 36,
   "metadata": {},
   "outputs": [
    {
     "data": {
      "text/html": [
       "<div style=\"width:100%;\"><div style=\"position:relative;width:100%;height:0;padding-bottom:60%;\"><iframe src=\"data:text/html;charset=utf-8;base64,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\" style=\"position:absolute;width:100%;height:100%;left:0;top:0;border:none !important;\" allowfullscreen webkitallowfullscreen mozallowfullscreen></iframe></div></div>"
      ],
      "text/plain": [
       "<folium.folium.Map at 0xafac550>"
      ]
     },
     "execution_count": 36,
     "metadata": {},
     "output_type": "execute_result"
    }
   ],
   "source": [
    "m = folium.Map(location = [-36.848461, 174.763336])  #show Auckland\n",
    "heatmapdata = [[row['latitude'], row['longitude'], row[col]] for index, row in df_temp.iterrows()]\n",
    "HeatMap(heatmapdata, min_opacity = 0.5, radius=10, max_val = df_temp[col].max(), overlay = True).add_to(m)\n",
    "# for long, lat, volume in zip(df_temp['latitude'], df_temp['longitude'], df_temp[col]):\n",
    "#     heatmapdata\n",
    "#     HeatMap(data = [lat, long, volume]\n",
    "#                         ).add_to(m)\n",
    "m"
   ]
  },
  {
   "cell_type": "code",
   "execution_count": 34,
   "metadata": {},
   "outputs": [
    {
     "data": {
      "text/plain": [
       "42944.0"
      ]
     },
     "execution_count": 34,
     "metadata": {},
     "output_type": "execute_result"
    }
   ],
   "source": [
    "df_temp[col].max()"
   ]
  },
  {
   "cell_type": "code",
   "execution_count": null,
   "metadata": {},
   "outputs": [],
   "source": []
  }
 ],
 "metadata": {
  "anaconda-cloud": {},
  "kernelspec": {
   "display_name": "Python 3",
   "language": "python",
   "name": "python3"
  },
  "language_info": {
   "codemirror_mode": {
    "name": "ipython",
    "version": 3
   },
   "file_extension": ".py",
   "mimetype": "text/x-python",
   "name": "python",
   "nbconvert_exporter": "python",
   "pygments_lexer": "ipython3",
   "version": "3.7.3"
  },
  "toc": {
   "base_numbering": 1,
   "nav_menu": {},
   "number_sections": true,
   "sideBar": true,
   "skip_h1_title": false,
   "title_cell": "Table of Contents",
   "title_sidebar": "Contents",
   "toc_cell": false,
   "toc_position": {},
   "toc_section_display": true,
   "toc_window_display": false
  }
 },
 "nbformat": 4,
 "nbformat_minor": 2
}
