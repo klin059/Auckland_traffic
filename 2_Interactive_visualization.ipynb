{
 "cells": [
  {
   "cell_type": "code",
   "execution_count": 48,
   "metadata": {},
   "outputs": [],
   "source": [
    "%reload_ext autoreload\n",
    "%autoreload 2\n",
    "%matplotlib inline\n",
    "%qtconsole\n",
    "\n",
    "from IPython.core.interactiveshell import InteractiveShell\n",
    "InteractiveShell.ast_node_interactivity = \"last\"\n",
    "\n",
    "from IPython.display import display\n",
    "def display_all(df):\n",
    "    with pd.option_context(\"display.max_rows\", 1000): \n",
    "        with pd.option_context(\"display.max_columns\", 1000): \n",
    "            display(df)\n",
    "\t\t\t\n",
    "import pandas as pd\n",
    "import numpy as np\n",
    "from pathlib import Path\t\t\n",
    "\n",
    "import warnings\n",
    "warnings.filterwarnings('ignore')\n",
    "# warnings.filterwarnings(action='once')"
   ]
  },
  {
   "cell_type": "code",
   "execution_count": 2,
   "metadata": {},
   "outputs": [],
   "source": [
    "import folium"
   ]
  },
  {
   "cell_type": "code",
   "execution_count": 12,
   "metadata": {},
   "outputs": [
    {
     "data": {
      "text/html": [
       "<div>\n",
       "<style scoped>\n",
       "    .dataframe tbody tr th:only-of-type {\n",
       "        vertical-align: middle;\n",
       "    }\n",
       "\n",
       "    .dataframe tbody tr th {\n",
       "        vertical-align: top;\n",
       "    }\n",
       "\n",
       "    .dataframe thead th {\n",
       "        text-align: right;\n",
       "    }\n",
       "</style>\n",
       "<table border=\"1\" class=\"dataframe\">\n",
       "  <thead>\n",
       "    <tr style=\"text-align: right;\">\n",
       "      <th></th>\n",
       "      <th>Road Name</th>\n",
       "      <th>Carriageway Start Name</th>\n",
       "      <th>Carriageway End Name</th>\n",
       "      <th>5 Day ADT</th>\n",
       "      <th>7 Day ADT</th>\n",
       "      <th>Saturday Volume</th>\n",
       "      <th>Sunday Volume</th>\n",
       "      <th>AM Peak Volume</th>\n",
       "      <th>AM Peak Hour</th>\n",
       "      <th>Mid Peak Volume</th>\n",
       "      <th>Mid Peak Hour</th>\n",
       "      <th>PM Peak Volume</th>\n",
       "      <th>PM Peak Hour</th>\n",
       "      <th>Car</th>\n",
       "      <th>LCV</th>\n",
       "      <th>MCV</th>\n",
       "      <th>HCV-I</th>\n",
       "      <th>HCV-II</th>\n",
       "      <th>HCV Total</th>\n",
       "      <th>latitude</th>\n",
       "      <th>longitude</th>\n",
       "    </tr>\n",
       "    <tr>\n",
       "      <th>Count Start Date</th>\n",
       "      <th></th>\n",
       "      <th></th>\n",
       "      <th></th>\n",
       "      <th></th>\n",
       "      <th></th>\n",
       "      <th></th>\n",
       "      <th></th>\n",
       "      <th></th>\n",
       "      <th></th>\n",
       "      <th></th>\n",
       "      <th></th>\n",
       "      <th></th>\n",
       "      <th></th>\n",
       "      <th></th>\n",
       "      <th></th>\n",
       "      <th></th>\n",
       "      <th></th>\n",
       "      <th></th>\n",
       "      <th></th>\n",
       "      <th></th>\n",
       "      <th></th>\n",
       "    </tr>\n",
       "  </thead>\n",
       "  <tbody>\n",
       "    <tr>\n",
       "      <th>2015-11-04</th>\n",
       "      <td>LADIES MILE (REMUERA)</td>\n",
       "      <td>REMUERA RD</td>\n",
       "      <td>ORMONDE RD</td>\n",
       "      <td>11488.0</td>\n",
       "      <td>10346.0</td>\n",
       "      <td>8471.0</td>\n",
       "      <td>6513.0</td>\n",
       "      <td>1101</td>\n",
       "      <td>745.0</td>\n",
       "      <td>873</td>\n",
       "      <td>1400.0</td>\n",
       "      <td>1212</td>\n",
       "      <td>1700.0</td>\n",
       "      <td>0.95</td>\n",
       "      <td>0.01</td>\n",
       "      <td>0.02</td>\n",
       "      <td>0.01</td>\n",
       "      <td>0.00</td>\n",
       "      <td>0.03</td>\n",
       "      <td>-36.883006</td>\n",
       "      <td>174.809151</td>\n",
       "    </tr>\n",
       "    <tr>\n",
       "      <th>2016-05-05</th>\n",
       "      <td>GRANDE VUE RD (MANUREWA)</td>\n",
       "      <td>MOTORWAY ONRAMP (END ISLAND LHS)</td>\n",
       "      <td>HILL RD</td>\n",
       "      <td>17898.0</td>\n",
       "      <td>17580.0</td>\n",
       "      <td>17770.0</td>\n",
       "      <td>15795.0</td>\n",
       "      <td>1460</td>\n",
       "      <td>NaN</td>\n",
       "      <td>1393</td>\n",
       "      <td>NaN</td>\n",
       "      <td>1279</td>\n",
       "      <td>NaN</td>\n",
       "      <td>0.90</td>\n",
       "      <td>0.01</td>\n",
       "      <td>0.08</td>\n",
       "      <td>0.00</td>\n",
       "      <td>0.00</td>\n",
       "      <td>0.09</td>\n",
       "      <td>-37.014364</td>\n",
       "      <td>174.904840</td>\n",
       "    </tr>\n",
       "    <tr>\n",
       "      <th>2017-05-04</th>\n",
       "      <td>GRANDE VUE RD (MANUREWA)</td>\n",
       "      <td>MOTORWAY ONRAMP (END ISLAND LHS)</td>\n",
       "      <td>HILL RD</td>\n",
       "      <td>18810.0</td>\n",
       "      <td>18014.0</td>\n",
       "      <td>17674.0</td>\n",
       "      <td>14374.0</td>\n",
       "      <td>1572</td>\n",
       "      <td>NaN</td>\n",
       "      <td>1369</td>\n",
       "      <td>NaN</td>\n",
       "      <td>1343</td>\n",
       "      <td>NaN</td>\n",
       "      <td>0.91</td>\n",
       "      <td>0.01</td>\n",
       "      <td>0.07</td>\n",
       "      <td>0.01</td>\n",
       "      <td>0.00</td>\n",
       "      <td>0.08</td>\n",
       "      <td>-37.014364</td>\n",
       "      <td>174.904840</td>\n",
       "    </tr>\n",
       "    <tr>\n",
       "      <th>2017-12-14</th>\n",
       "      <td>ST LUKES RD</td>\n",
       "      <td>CORNWALLIS ST</td>\n",
       "      <td>SANDRINGHAM RD (LHS)</td>\n",
       "      <td>29674.0</td>\n",
       "      <td>28867.0</td>\n",
       "      <td>28201.0</td>\n",
       "      <td>25499.0</td>\n",
       "      <td>1849</td>\n",
       "      <td>900.0</td>\n",
       "      <td>2355</td>\n",
       "      <td>1130.0</td>\n",
       "      <td>2372</td>\n",
       "      <td>1800.0</td>\n",
       "      <td>0.92</td>\n",
       "      <td>0.01</td>\n",
       "      <td>0.02</td>\n",
       "      <td>0.03</td>\n",
       "      <td>0.01</td>\n",
       "      <td>0.05</td>\n",
       "      <td>-36.884606</td>\n",
       "      <td>174.736356</td>\n",
       "    </tr>\n",
       "    <tr>\n",
       "      <th>2017-12-18</th>\n",
       "      <td>KAWAKAWA BAY COAST RD-HC-WK1</td>\n",
       "      <td>TE PAPA RD</td>\n",
       "      <td>END</td>\n",
       "      <td>167.0</td>\n",
       "      <td>200.0</td>\n",
       "      <td>301.0</td>\n",
       "      <td>269.0</td>\n",
       "      <td>18</td>\n",
       "      <td>845.0</td>\n",
       "      <td>41</td>\n",
       "      <td>NaN</td>\n",
       "      <td>39</td>\n",
       "      <td>NaN</td>\n",
       "      <td>0.94</td>\n",
       "      <td>0.02</td>\n",
       "      <td>0.04</td>\n",
       "      <td>0.00</td>\n",
       "      <td>0.00</td>\n",
       "      <td>0.04</td>\n",
       "      <td>-36.938205</td>\n",
       "      <td>175.182248</td>\n",
       "    </tr>\n",
       "  </tbody>\n",
       "</table>\n",
       "</div>"
      ],
      "text/plain": [
       "                                     Road Name  \\\n",
       "Count Start Date                                 \n",
       "2015-11-04               LADIES MILE (REMUERA)   \n",
       "2016-05-05            GRANDE VUE RD (MANUREWA)   \n",
       "2017-05-04            GRANDE VUE RD (MANUREWA)   \n",
       "2017-12-14                         ST LUKES RD   \n",
       "2017-12-18        KAWAKAWA BAY COAST RD-HC-WK1   \n",
       "\n",
       "                            Carriageway Start Name  Carriageway End Name  \\\n",
       "Count Start Date                                                           \n",
       "2015-11-04                              REMUERA RD            ORMONDE RD   \n",
       "2016-05-05        MOTORWAY ONRAMP (END ISLAND LHS)               HILL RD   \n",
       "2017-05-04        MOTORWAY ONRAMP (END ISLAND LHS)               HILL RD   \n",
       "2017-12-14                           CORNWALLIS ST  SANDRINGHAM RD (LHS)   \n",
       "2017-12-18                              TE PAPA RD                   END   \n",
       "\n",
       "                  5 Day ADT  7 Day ADT  Saturday Volume  Sunday Volume  \\\n",
       "Count Start Date                                                         \n",
       "2015-11-04          11488.0    10346.0           8471.0         6513.0   \n",
       "2016-05-05          17898.0    17580.0          17770.0        15795.0   \n",
       "2017-05-04          18810.0    18014.0          17674.0        14374.0   \n",
       "2017-12-14          29674.0    28867.0          28201.0        25499.0   \n",
       "2017-12-18            167.0      200.0            301.0          269.0   \n",
       "\n",
       "                  AM Peak Volume  AM Peak Hour  Mid Peak Volume  \\\n",
       "Count Start Date                                                  \n",
       "2015-11-04                  1101         745.0              873   \n",
       "2016-05-05                  1460           NaN             1393   \n",
       "2017-05-04                  1572           NaN             1369   \n",
       "2017-12-14                  1849         900.0             2355   \n",
       "2017-12-18                    18         845.0               41   \n",
       "\n",
       "                  Mid Peak Hour  PM Peak Volume  PM Peak Hour   Car   LCV  \\\n",
       "Count Start Date                                                            \n",
       "2015-11-04               1400.0            1212        1700.0  0.95  0.01   \n",
       "2016-05-05                  NaN            1279           NaN  0.90  0.01   \n",
       "2017-05-04                  NaN            1343           NaN  0.91  0.01   \n",
       "2017-12-14               1130.0            2372        1800.0  0.92  0.01   \n",
       "2017-12-18                  NaN              39           NaN  0.94  0.02   \n",
       "\n",
       "                   MCV  HCV-I  HCV-II  HCV Total   latitude   longitude  \n",
       "Count Start Date                                                         \n",
       "2015-11-04        0.02   0.01    0.00       0.03 -36.883006  174.809151  \n",
       "2016-05-05        0.08   0.00    0.00       0.09 -37.014364  174.904840  \n",
       "2017-05-04        0.07   0.01    0.00       0.08 -37.014364  174.904840  \n",
       "2017-12-14        0.02   0.03    0.01       0.05 -36.884606  174.736356  \n",
       "2017-12-18        0.04   0.00    0.00       0.04 -36.938205  175.182248  "
      ]
     },
     "metadata": {},
     "output_type": "display_data"
    },
    {
     "name": "stdout",
     "output_type": "stream",
     "text": [
      "<class 'pandas.core.frame.DataFrame'>\n",
      "Index: 2695 entries, 2015-11-04 to 2019-04-09\n",
      "Data columns (total 21 columns):\n",
      "Road Name                 2695 non-null object\n",
      "Carriageway Start Name    2691 non-null object\n",
      "Carriageway End Name      2694 non-null object\n",
      "5 Day ADT                 2694 non-null float64\n",
      "7 Day ADT                 2694 non-null float64\n",
      "Saturday Volume           2695 non-null float64\n",
      "Sunday Volume             2695 non-null float64\n",
      "AM Peak Volume            2695 non-null int64\n",
      "AM Peak Hour              561 non-null float64\n",
      "Mid Peak Volume           2695 non-null int64\n",
      "Mid Peak Hour             867 non-null float64\n",
      "PM Peak Volume            2695 non-null int64\n",
      "PM Peak Hour              683 non-null float64\n",
      "Car                       2695 non-null float64\n",
      "LCV                       2695 non-null float64\n",
      "MCV                       2695 non-null float64\n",
      "HCV-I                     2695 non-null float64\n",
      "HCV-II                    2695 non-null float64\n",
      "HCV Total                 2695 non-null float64\n",
      "latitude                  2695 non-null float64\n",
      "longitude                 2695 non-null float64\n",
      "dtypes: float64(15), int64(3), object(3)\n",
      "memory usage: 463.2+ KB\n"
     ]
    }
   ],
   "source": [
    "df = pd.read_csv(r'data/traffic-counts_v1.csv')\n",
    "df.set_index('Count Start Date', inplace = True)\n",
    "display_all(df.head())\n",
    "df.info()"
   ]
  },
  {
   "cell_type": "markdown",
   "metadata": {},
   "source": [
    "# Map points onto map based on traffic volume"
   ]
  },
  {
   "cell_type": "code",
   "execution_count": 15,
   "metadata": {},
   "outputs": [],
   "source": [
    "# import plotly.plotly as py\n",
    "# import plotly.graph_objs as go"
   ]
  },
  {
   "cell_type": "code",
   "execution_count": null,
   "metadata": {},
   "outputs": [],
   "source": [
    "start_year = 2018\n",
    "start_month = 5\n",
    "start_day = 1\n",
    "end_year = 2018\n",
    "end_month = 6\n",
    "end_day = 1\n",
    "start_date = 1"
   ]
  },
  {
   "cell_type": "code",
   "execution_count": 24,
   "metadata": {},
   "outputs": [],
   "source": [
    "col = '7 Day ADT'"
   ]
  },
  {
   "cell_type": "code",
   "execution_count": 51,
   "metadata": {},
   "outputs": [
    {
     "data": {
      "text/plain": [
       "14849.0"
      ]
     },
     "execution_count": 51,
     "metadata": {},
     "output_type": "execute_result"
    }
   ],
   "source": [
    "p80 = np.nanpercentile(df[col], 75)\n",
    "p80"
   ]
  },
  {
   "cell_type": "code",
   "execution_count": 52,
   "metadata": {},
   "outputs": [],
   "source": [
    "df_temp = df.loc['2018-05-01':'2018-05-31']\n",
    "df_temp = df_temp[df_temp[col] > p80]"
   ]
  },
  {
   "cell_type": "code",
   "execution_count": 25,
   "metadata": {},
   "outputs": [],
   "source": [
    "import branca\n",
    "colorscale = branca.colormap.linear.YlGnBu_09.scale(min(df[col]), max(df[col]))"
   ]
  },
  {
   "cell_type": "code",
   "execution_count": 53,
   "metadata": {},
   "outputs": [],
   "source": [
    "m = folium.Map(location = [-36.848461, 174.763336])  #show Auckland"
   ]
  },
  {
   "cell_type": "code",
   "execution_count": 55,
   "metadata": {},
   "outputs": [
    {
     "data": {
      "text/plain": [
       "<folium.vector_layers.CircleMarker at 0x15643438>"
      ]
     },
     "execution_count": 55,
     "metadata": {},
     "output_type": "execute_result"
    },
    {
     "data": {
      "text/plain": [
       "<folium.vector_layers.CircleMarker at 0x15643940>"
      ]
     },
     "execution_count": 55,
     "metadata": {},
     "output_type": "execute_result"
    },
    {
     "data": {
      "text/plain": [
       "<folium.vector_layers.CircleMarker at 0x15643320>"
      ]
     },
     "execution_count": 55,
     "metadata": {},
     "output_type": "execute_result"
    },
    {
     "data": {
      "text/plain": [
       "<folium.vector_layers.CircleMarker at 0x15656898>"
      ]
     },
     "execution_count": 55,
     "metadata": {},
     "output_type": "execute_result"
    },
    {
     "data": {
      "text/plain": [
       "<folium.vector_layers.CircleMarker at 0x15656208>"
      ]
     },
     "execution_count": 55,
     "metadata": {},
     "output_type": "execute_result"
    },
    {
     "data": {
      "text/plain": [
       "<folium.vector_layers.CircleMarker at 0x15656668>"
      ]
     },
     "execution_count": 55,
     "metadata": {},
     "output_type": "execute_result"
    },
    {
     "data": {
      "text/plain": [
       "<folium.vector_layers.CircleMarker at 0x1563acc0>"
      ]
     },
     "execution_count": 55,
     "metadata": {},
     "output_type": "execute_result"
    },
    {
     "data": {
      "text/plain": [
       "<folium.vector_layers.CircleMarker at 0x1563a8d0>"
      ]
     },
     "execution_count": 55,
     "metadata": {},
     "output_type": "execute_result"
    },
    {
     "data": {
      "text/plain": [
       "<folium.vector_layers.CircleMarker at 0x1563a668>"
      ]
     },
     "execution_count": 55,
     "metadata": {},
     "output_type": "execute_result"
    },
    {
     "data": {
      "text/plain": [
       "<folium.vector_layers.CircleMarker at 0x1563a710>"
      ]
     },
     "execution_count": 55,
     "metadata": {},
     "output_type": "execute_result"
    },
    {
     "data": {
      "text/plain": [
       "<folium.vector_layers.CircleMarker at 0x1563a4a8>"
      ]
     },
     "execution_count": 55,
     "metadata": {},
     "output_type": "execute_result"
    },
    {
     "data": {
      "text/plain": [
       "<folium.vector_layers.CircleMarker at 0x1563ed68>"
      ]
     },
     "execution_count": 55,
     "metadata": {},
     "output_type": "execute_result"
    },
    {
     "data": {
      "text/plain": [
       "<folium.vector_layers.CircleMarker at 0x1563eda0>"
      ]
     },
     "execution_count": 55,
     "metadata": {},
     "output_type": "execute_result"
    },
    {
     "data": {
      "text/plain": [
       "<folium.vector_layers.CircleMarker at 0x1563ec50>"
      ]
     },
     "execution_count": 55,
     "metadata": {},
     "output_type": "execute_result"
    },
    {
     "data": {
      "text/plain": [
       "<folium.vector_layers.CircleMarker at 0x15636748>"
      ]
     },
     "execution_count": 55,
     "metadata": {},
     "output_type": "execute_result"
    },
    {
     "data": {
      "text/plain": [
       "<folium.vector_layers.CircleMarker at 0x15636550>"
      ]
     },
     "execution_count": 55,
     "metadata": {},
     "output_type": "execute_result"
    },
    {
     "data": {
      "text/plain": [
       "<folium.vector_layers.CircleMarker at 0x15636278>"
      ]
     },
     "execution_count": 55,
     "metadata": {},
     "output_type": "execute_result"
    },
    {
     "data": {
      "text/plain": [
       "<folium.vector_layers.CircleMarker at 0x15636160>"
      ]
     },
     "execution_count": 55,
     "metadata": {},
     "output_type": "execute_result"
    },
    {
     "data": {
      "text/plain": [
       "<folium.vector_layers.CircleMarker at 0x15644128>"
      ]
     },
     "execution_count": 55,
     "metadata": {},
     "output_type": "execute_result"
    },
    {
     "data": {
      "text/plain": [
       "<folium.vector_layers.CircleMarker at 0x15636080>"
      ]
     },
     "execution_count": 55,
     "metadata": {},
     "output_type": "execute_result"
    },
    {
     "data": {
      "text/plain": [
       "<folium.vector_layers.CircleMarker at 0x1564b4a8>"
      ]
     },
     "execution_count": 55,
     "metadata": {},
     "output_type": "execute_result"
    },
    {
     "data": {
      "text/plain": [
       "<folium.vector_layers.CircleMarker at 0x1564b898>"
      ]
     },
     "execution_count": 55,
     "metadata": {},
     "output_type": "execute_result"
    },
    {
     "data": {
      "text/plain": [
       "<folium.vector_layers.CircleMarker at 0x1564e128>"
      ]
     },
     "execution_count": 55,
     "metadata": {},
     "output_type": "execute_result"
    },
    {
     "data": {
      "text/plain": [
       "<folium.vector_layers.CircleMarker at 0x1564e4a8>"
      ]
     },
     "execution_count": 55,
     "metadata": {},
     "output_type": "execute_result"
    },
    {
     "data": {
      "text/plain": [
       "<folium.vector_layers.CircleMarker at 0x1564be48>"
      ]
     },
     "execution_count": 55,
     "metadata": {},
     "output_type": "execute_result"
    },
    {
     "data": {
      "text/plain": [
       "<folium.vector_layers.CircleMarker at 0x1564bcf8>"
      ]
     },
     "execution_count": 55,
     "metadata": {},
     "output_type": "execute_result"
    },
    {
     "data": {
      "text/plain": [
       "<folium.vector_layers.CircleMarker at 0x15660dd8>"
      ]
     },
     "execution_count": 55,
     "metadata": {},
     "output_type": "execute_result"
    },
    {
     "data": {
      "text/plain": [
       "<folium.vector_layers.CircleMarker at 0x15660d68>"
      ]
     },
     "execution_count": 55,
     "metadata": {},
     "output_type": "execute_result"
    },
    {
     "data": {
      "text/plain": [
       "<folium.vector_layers.CircleMarker at 0x15663438>"
      ]
     },
     "execution_count": 55,
     "metadata": {},
     "output_type": "execute_result"
    },
    {
     "data": {
      "text/plain": [
       "<folium.vector_layers.CircleMarker at 0x156637b8>"
      ]
     },
     "execution_count": 55,
     "metadata": {},
     "output_type": "execute_result"
    },
    {
     "data": {
      "text/plain": [
       "<folium.vector_layers.CircleMarker at 0x15663ac8>"
      ]
     },
     "execution_count": 55,
     "metadata": {},
     "output_type": "execute_result"
    },
    {
     "data": {
      "text/plain": [
       "<folium.vector_layers.CircleMarker at 0x15663dd8>"
      ]
     },
     "execution_count": 55,
     "metadata": {},
     "output_type": "execute_result"
    },
    {
     "data": {
      "text/plain": [
       "<folium.vector_layers.CircleMarker at 0x15663f98>"
      ]
     },
     "execution_count": 55,
     "metadata": {},
     "output_type": "execute_result"
    },
    {
     "data": {
      "text/plain": [
       "<folium.vector_layers.CircleMarker at 0x156663c8>"
      ]
     },
     "execution_count": 55,
     "metadata": {},
     "output_type": "execute_result"
    },
    {
     "data": {
      "text/plain": [
       "<folium.vector_layers.CircleMarker at 0x156666d8>"
      ]
     },
     "execution_count": 55,
     "metadata": {},
     "output_type": "execute_result"
    },
    {
     "data": {
      "text/plain": [
       "<folium.vector_layers.CircleMarker at 0x15666ac8>"
      ]
     },
     "execution_count": 55,
     "metadata": {},
     "output_type": "execute_result"
    },
    {
     "data": {
      "text/plain": [
       "<folium.vector_layers.CircleMarker at 0x15666cf8>"
      ]
     },
     "execution_count": 55,
     "metadata": {},
     "output_type": "execute_result"
    },
    {
     "data": {
      "text/plain": [
       "<folium.vector_layers.CircleMarker at 0x14f49710>"
      ]
     },
     "execution_count": 55,
     "metadata": {},
     "output_type": "execute_result"
    },
    {
     "data": {
      "text/plain": [
       "<folium.vector_layers.CircleMarker at 0x14f492b0>"
      ]
     },
     "execution_count": 55,
     "metadata": {},
     "output_type": "execute_result"
    },
    {
     "data": {
      "text/plain": [
       "<folium.vector_layers.CircleMarker at 0x15667a58>"
      ]
     },
     "execution_count": 55,
     "metadata": {},
     "output_type": "execute_result"
    },
    {
     "data": {
      "text/plain": [
       "<folium.vector_layers.CircleMarker at 0x15667278>"
      ]
     },
     "execution_count": 55,
     "metadata": {},
     "output_type": "execute_result"
    },
    {
     "data": {
      "text/plain": [
       "<folium.vector_layers.CircleMarker at 0x15667588>"
      ]
     },
     "execution_count": 55,
     "metadata": {},
     "output_type": "execute_result"
    },
    {
     "data": {
      "text/plain": [
       "<folium.vector_layers.CircleMarker at 0x156677b8>"
      ]
     },
     "execution_count": 55,
     "metadata": {},
     "output_type": "execute_result"
    },
    {
     "data": {
      "text/plain": [
       "<folium.vector_layers.CircleMarker at 0x15667ba8>"
      ]
     },
     "execution_count": 55,
     "metadata": {},
     "output_type": "execute_result"
    },
    {
     "data": {
      "text/plain": [
       "<folium.vector_layers.CircleMarker at 0x15667d68>"
      ]
     },
     "execution_count": 55,
     "metadata": {},
     "output_type": "execute_result"
    },
    {
     "data": {
      "text/plain": [
       "<folium.vector_layers.CircleMarker at 0x15667828>"
      ]
     },
     "execution_count": 55,
     "metadata": {},
     "output_type": "execute_result"
    },
    {
     "data": {
      "text/plain": [
       "<folium.vector_layers.CircleMarker at 0x15667d30>"
      ]
     },
     "execution_count": 55,
     "metadata": {},
     "output_type": "execute_result"
    },
    {
     "data": {
      "text/plain": [
       "<folium.vector_layers.CircleMarker at 0x1565bb38>"
      ]
     },
     "execution_count": 55,
     "metadata": {},
     "output_type": "execute_result"
    },
    {
     "data": {
      "text/plain": [
       "<folium.vector_layers.CircleMarker at 0x1565bac8>"
      ]
     },
     "execution_count": 55,
     "metadata": {},
     "output_type": "execute_result"
    },
    {
     "data": {
      "text/plain": [
       "<folium.vector_layers.CircleMarker at 0x1565b438>"
      ]
     },
     "execution_count": 55,
     "metadata": {},
     "output_type": "execute_result"
    },
    {
     "data": {
      "text/plain": [
       "<folium.vector_layers.CircleMarker at 0x1565b358>"
      ]
     },
     "execution_count": 55,
     "metadata": {},
     "output_type": "execute_result"
    },
    {
     "data": {
      "text/plain": [
       "<folium.vector_layers.CircleMarker at 0x15667c18>"
      ]
     },
     "execution_count": 55,
     "metadata": {},
     "output_type": "execute_result"
    },
    {
     "data": {
      "text/plain": [
       "<folium.vector_layers.CircleMarker at 0x157ac278>"
      ]
     },
     "execution_count": 55,
     "metadata": {},
     "output_type": "execute_result"
    },
    {
     "data": {
      "text/plain": [
       "<folium.vector_layers.CircleMarker at 0x157ac400>"
      ]
     },
     "execution_count": 55,
     "metadata": {},
     "output_type": "execute_result"
    },
    {
     "data": {
      "text/plain": [
       "<folium.vector_layers.CircleMarker at 0x157ac588>"
      ]
     },
     "execution_count": 55,
     "metadata": {},
     "output_type": "execute_result"
    },
    {
     "data": {
      "text/plain": [
       "<folium.vector_layers.CircleMarker at 0x157ac710>"
      ]
     },
     "execution_count": 55,
     "metadata": {},
     "output_type": "execute_result"
    },
    {
     "data": {
      "text/plain": [
       "<folium.vector_layers.CircleMarker at 0x157ac898>"
      ]
     },
     "execution_count": 55,
     "metadata": {},
     "output_type": "execute_result"
    },
    {
     "data": {
      "text/plain": [
       "<folium.vector_layers.CircleMarker at 0x157aca90>"
      ]
     },
     "execution_count": 55,
     "metadata": {},
     "output_type": "execute_result"
    },
    {
     "data": {
      "text/plain": [
       "<folium.vector_layers.CircleMarker at 0x157acb70>"
      ]
     },
     "execution_count": 55,
     "metadata": {},
     "output_type": "execute_result"
    },
    {
     "data": {
      "text/plain": [
       "<folium.vector_layers.CircleMarker at 0x157acd30>"
      ]
     },
     "execution_count": 55,
     "metadata": {},
     "output_type": "execute_result"
    },
    {
     "data": {
      "text/plain": [
       "<folium.vector_layers.CircleMarker at 0x157aceb8>"
      ]
     },
     "execution_count": 55,
     "metadata": {},
     "output_type": "execute_result"
    },
    {
     "data": {
      "text/plain": [
       "<folium.vector_layers.CircleMarker at 0x157acef0>"
      ]
     },
     "execution_count": 55,
     "metadata": {},
     "output_type": "execute_result"
    },
    {
     "data": {
      "text/plain": [
       "<folium.vector_layers.CircleMarker at 0x157b7208>"
      ]
     },
     "execution_count": 55,
     "metadata": {},
     "output_type": "execute_result"
    },
    {
     "data": {
      "text/plain": [
       "<folium.vector_layers.CircleMarker at 0x157b73c8>"
      ]
     },
     "execution_count": 55,
     "metadata": {},
     "output_type": "execute_result"
    },
    {
     "data": {
      "text/plain": [
       "<folium.vector_layers.CircleMarker at 0x157b7550>"
      ]
     },
     "execution_count": 55,
     "metadata": {},
     "output_type": "execute_result"
    },
    {
     "data": {
      "text/plain": [
       "<folium.vector_layers.CircleMarker at 0x157b7668>"
      ]
     },
     "execution_count": 55,
     "metadata": {},
     "output_type": "execute_result"
    },
    {
     "data": {
      "text/plain": [
       "<folium.vector_layers.CircleMarker at 0x157b7828>"
      ]
     },
     "execution_count": 55,
     "metadata": {},
     "output_type": "execute_result"
    },
    {
     "data": {
      "text/plain": [
       "<folium.vector_layers.CircleMarker at 0x157b7860>"
      ]
     },
     "execution_count": 55,
     "metadata": {},
     "output_type": "execute_result"
    },
    {
     "data": {
      "text/plain": [
       "<folium.vector_layers.CircleMarker at 0x157b7b38>"
      ]
     },
     "execution_count": 55,
     "metadata": {},
     "output_type": "execute_result"
    },
    {
     "data": {
      "text/plain": [
       "<folium.vector_layers.CircleMarker at 0x157b7cf8>"
      ]
     },
     "execution_count": 55,
     "metadata": {},
     "output_type": "execute_result"
    },
    {
     "data": {
      "text/plain": [
       "<folium.vector_layers.CircleMarker at 0x157b7e48>"
      ]
     },
     "execution_count": 55,
     "metadata": {},
     "output_type": "execute_result"
    },
    {
     "data": {
      "text/plain": [
       "<folium.vector_layers.CircleMarker at 0x157b7b00>"
      ]
     },
     "execution_count": 55,
     "metadata": {},
     "output_type": "execute_result"
    },
    {
     "data": {
      "text/plain": [
       "<folium.vector_layers.CircleMarker at 0x157c30f0>"
      ]
     },
     "execution_count": 55,
     "metadata": {},
     "output_type": "execute_result"
    },
    {
     "data": {
      "text/plain": [
       "<folium.vector_layers.CircleMarker at 0x157c3358>"
      ]
     },
     "execution_count": 55,
     "metadata": {},
     "output_type": "execute_result"
    },
    {
     "data": {
      "text/plain": [
       "<folium.vector_layers.CircleMarker at 0x157c3400>"
      ]
     },
     "execution_count": 55,
     "metadata": {},
     "output_type": "execute_result"
    },
    {
     "data": {
      "text/plain": [
       "<folium.vector_layers.CircleMarker at 0x157c34a8>"
      ]
     },
     "execution_count": 55,
     "metadata": {},
     "output_type": "execute_result"
    },
    {
     "data": {
      "text/plain": [
       "<folium.vector_layers.CircleMarker at 0x157c37b8>"
      ]
     },
     "execution_count": 55,
     "metadata": {},
     "output_type": "execute_result"
    },
    {
     "data": {
      "text/plain": [
       "<folium.vector_layers.CircleMarker at 0x157c3940>"
      ]
     },
     "execution_count": 55,
     "metadata": {},
     "output_type": "execute_result"
    },
    {
     "data": {
      "text/plain": [
       "<folium.vector_layers.CircleMarker at 0x157c3ac8>"
      ]
     },
     "execution_count": 55,
     "metadata": {},
     "output_type": "execute_result"
    },
    {
     "data": {
      "text/plain": [
       "<folium.vector_layers.CircleMarker at 0x157c3c50>"
      ]
     },
     "execution_count": 55,
     "metadata": {},
     "output_type": "execute_result"
    },
    {
     "data": {
      "text/plain": [
       "<folium.vector_layers.CircleMarker at 0x157c3e48>"
      ]
     },
     "execution_count": 55,
     "metadata": {},
     "output_type": "execute_result"
    },
    {
     "data": {
      "text/plain": [
       "<folium.vector_layers.CircleMarker at 0x157c3f28>"
      ]
     },
     "execution_count": 55,
     "metadata": {},
     "output_type": "execute_result"
    },
    {
     "data": {
      "text/plain": [
       "<folium.vector_layers.CircleMarker at 0x157d2160>"
      ]
     },
     "execution_count": 55,
     "metadata": {},
     "output_type": "execute_result"
    },
    {
     "data": {
      "text/plain": [
       "<folium.vector_layers.CircleMarker at 0x157c3f60>"
      ]
     },
     "execution_count": 55,
     "metadata": {},
     "output_type": "execute_result"
    }
   ],
   "source": [
    "radius = 5\n",
    "for long, lat, volume, road in zip(df_temp['longitude'], df_temp['latitude'], df_temp[col], df_temp['Road Name']):\n",
    "    folium.CircleMarker(location=(lat, long),\n",
    "                        popup = f'{road}:{volume}',\n",
    "                        radius=radius,\n",
    "                        color=colorscale(volume),\n",
    "                        fill=True).add_to(m)"
   ]
  },
  {
   "cell_type": "code",
   "execution_count": 56,
   "metadata": {},
   "outputs": [
    {
     "data": {
      "text/html": [
       "<div style=\"width:100%;\"><div style=\"position:relative;width:100%;height:0;padding-bottom:60%;\"><iframe src=\"data:text/html;charset=utf-8;base64,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\" style=\"position:absolute;width:100%;height:100%;left:0;top:0;border:none !important;\" allowfullscreen webkitallowfullscreen mozallowfullscreen></iframe></div></div>"
      ],
      "text/plain": [
       "<folium.folium.Map at 0x15644eb8>"
      ]
     },
     "execution_count": 56,
     "metadata": {},
     "output_type": "execute_result"
    }
   ],
   "source": [
    "m"
   ]
  },
  {
   "cell_type": "code",
   "execution_count": null,
   "metadata": {},
   "outputs": [],
   "source": []
  }
 ],
 "metadata": {
  "kernelspec": {
   "display_name": "Python 3",
   "language": "python",
   "name": "python3"
  },
  "language_info": {
   "codemirror_mode": {
    "name": "ipython",
    "version": 3
   },
   "file_extension": ".py",
   "mimetype": "text/x-python",
   "name": "python",
   "nbconvert_exporter": "python",
   "pygments_lexer": "ipython3",
   "version": "3.6.7"
  },
  "toc": {
   "base_numbering": 1,
   "nav_menu": {},
   "number_sections": true,
   "sideBar": true,
   "skip_h1_title": false,
   "title_cell": "Table of Contents",
   "title_sidebar": "Contents",
   "toc_cell": false,
   "toc_position": {},
   "toc_section_display": true,
   "toc_window_display": false
  }
 },
 "nbformat": 4,
 "nbformat_minor": 2
}
