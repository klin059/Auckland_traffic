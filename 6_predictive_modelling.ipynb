{
 "cells": [
  {
   "cell_type": "code",
   "execution_count": 1,
   "metadata": {
    "colab": {},
    "colab_type": "code",
    "id": "Qh4fUDq-UWr5"
   },
   "outputs": [],
   "source": [
    "%reload_ext autoreload\n",
    "%autoreload 2\n",
    "%matplotlib inline\n",
    "# %qtconsole\n",
    "\n",
    "from IPython.core.interactiveshell import InteractiveShell\n",
    "InteractiveShell.ast_node_interactivity = \"all\"\n",
    "\n",
    "from IPython.display import display\n",
    "def display_all(df):\n",
    "    with pd.option_context(\"display.max_rows\", 1000): \n",
    "        with pd.option_context(\"display.max_columns\", 1000): \n",
    "            display(df)\n",
    "\t\t\t\n",
    "import pandas as pd\n",
    "import numpy as np\n",
    "from pathlib import Path\t\t\n",
    "\n",
    "import warnings\n",
    "warnings.filterwarnings('ignore')\n",
    "# warnings.filterwarnings(action='once')"
   ]
  },
  {
   "cell_type": "code",
   "execution_count": 2,
   "metadata": {
    "colab": {},
    "colab_type": "code",
    "id": "0nkwjN-kUWr_"
   },
   "outputs": [],
   "source": [
    "from datetime import datetime, timedelta \n",
    "from dateutil.relativedelta import relativedelta"
   ]
  },
  {
   "cell_type": "code",
   "execution_count": 3,
   "metadata": {
    "colab": {},
    "colab_type": "code",
    "id": "t2kH3GFhU3Q3"
   },
   "outputs": [],
   "source": [
    "# url = r'https://raw.githubusercontent.com/klin059/Auckland_traffic_analysis/master/data/merged_data_20190728.csv'\n",
    "url = r'data/merged_data_20190728.csv'"
   ]
  },
  {
   "cell_type": "code",
   "execution_count": 4,
   "metadata": {
    "colab": {
     "base_uri": "https://localhost:8080/",
     "height": 727
    },
    "colab_type": "code",
    "id": "3GvWvpvWUWsC",
    "outputId": "f35b2d95-e55a-4582-fedd-65dd6170ea9e"
   },
   "outputs": [
    {
     "data": {
      "text/html": [
       "<div>\n",
       "<style scoped>\n",
       "    .dataframe tbody tr th:only-of-type {\n",
       "        vertical-align: middle;\n",
       "    }\n",
       "\n",
       "    .dataframe tbody tr th {\n",
       "        vertical-align: top;\n",
       "    }\n",
       "\n",
       "    .dataframe thead th {\n",
       "        text-align: right;\n",
       "    }\n",
       "</style>\n",
       "<table border=\"1\" class=\"dataframe\">\n",
       "  <thead>\n",
       "    <tr style=\"text-align: right;\">\n",
       "      <th></th>\n",
       "      <th>carr_way_no</th>\n",
       "      <th>road_id</th>\n",
       "      <th>road_name</th>\n",
       "      <th>start_name</th>\n",
       "      <th>end_name</th>\n",
       "      <th>location</th>\n",
       "      <th>latest</th>\n",
       "      <th>count_date</th>\n",
       "      <th>adt</th>\n",
       "      <th>latitude</th>\n",
       "      <th>longitude</th>\n",
       "      <th>cway_width</th>\n",
       "      <th>traff_manage_level</th>\n",
       "      <th>Shape__Length</th>\n",
       "    </tr>\n",
       "  </thead>\n",
       "  <tbody>\n",
       "    <tr>\n",
       "      <th>4682</th>\n",
       "      <td>12411.0</td>\n",
       "      <td>40986</td>\n",
       "      <td>COLWILL RD</td>\n",
       "      <td>SPARGO RD</td>\n",
       "      <td>END</td>\n",
       "      <td>1704.0</td>\n",
       "      <td>No</td>\n",
       "      <td>1974-07-12</td>\n",
       "      <td>125.0</td>\n",
       "      <td>-36.832191</td>\n",
       "      <td>174.636777</td>\n",
       "      <td>6.8</td>\n",
       "      <td>&lt; 10,000 vpd Rural/&lt;15,000 vpd Urban</td>\n",
       "      <td>396.674078</td>\n",
       "    </tr>\n",
       "    <tr>\n",
       "      <th>11389</th>\n",
       "      <td>13617.0</td>\n",
       "      <td>40854</td>\n",
       "      <td>GLORIA AVE</td>\n",
       "      <td>OLD TE ATATU RD</td>\n",
       "      <td>GRAHAM AVE</td>\n",
       "      <td>99.0</td>\n",
       "      <td>No</td>\n",
       "      <td>1974-08-11</td>\n",
       "      <td>1823.0</td>\n",
       "      <td>-36.848907</td>\n",
       "      <td>174.650109</td>\n",
       "      <td>11.2</td>\n",
       "      <td>&lt; 10,000 vpd Rural/&lt;15,000 vpd Urban</td>\n",
       "      <td>113.001344</td>\n",
       "    </tr>\n",
       "    <tr>\n",
       "      <th>65</th>\n",
       "      <td>10376.0</td>\n",
       "      <td>40798</td>\n",
       "      <td>HOBSONVILLE RD</td>\n",
       "      <td>LUCKENS RD</td>\n",
       "      <td>WESTPARK DR</td>\n",
       "      <td>1517.0</td>\n",
       "      <td>No</td>\n",
       "      <td>1974-08-11</td>\n",
       "      <td>2163.0</td>\n",
       "      <td>-36.814264</td>\n",
       "      <td>174.630139</td>\n",
       "      <td>9.0</td>\n",
       "      <td>&gt;= 15,000 vpd Urban road, low speed</td>\n",
       "      <td>581.914617</td>\n",
       "    </tr>\n",
       "    <tr>\n",
       "      <th>49</th>\n",
       "      <td>10308.0</td>\n",
       "      <td>40798</td>\n",
       "      <td>HOBSONVILLE RD</td>\n",
       "      <td>MOTORWAY OVERBRIDGE (EAST ABUTMENT)</td>\n",
       "      <td>OREIL AVE</td>\n",
       "      <td>158.0</td>\n",
       "      <td>No</td>\n",
       "      <td>1974-08-11</td>\n",
       "      <td>3900.0</td>\n",
       "      <td>-36.818091</td>\n",
       "      <td>174.615882</td>\n",
       "      <td>28.0</td>\n",
       "      <td>&gt;= 15,000 vpd Urban road, low speed</td>\n",
       "      <td>199.169213</td>\n",
       "    </tr>\n",
       "    <tr>\n",
       "      <th>12333</th>\n",
       "      <td>11261.0</td>\n",
       "      <td>40365</td>\n",
       "      <td>TAIKATA RD</td>\n",
       "      <td>TE ATATU RD RAB</td>\n",
       "      <td>PEACHGROVE RD</td>\n",
       "      <td>30.0</td>\n",
       "      <td>No</td>\n",
       "      <td>1974-08-11</td>\n",
       "      <td>2490.0</td>\n",
       "      <td>-36.841192</td>\n",
       "      <td>174.651345</td>\n",
       "      <td>10.1</td>\n",
       "      <td>&lt; 10,000 vpd Rural/&lt;15,000 vpd Urban</td>\n",
       "      <td>131.001559</td>\n",
       "    </tr>\n",
       "  </tbody>\n",
       "</table>\n",
       "</div>"
      ],
      "text/plain": [
       "       carr_way_no  road_id       road_name  \\\n",
       "4682       12411.0    40986      COLWILL RD   \n",
       "11389      13617.0    40854      GLORIA AVE   \n",
       "65         10376.0    40798  HOBSONVILLE RD   \n",
       "49         10308.0    40798  HOBSONVILLE RD   \n",
       "12333      11261.0    40365      TAIKATA RD   \n",
       "\n",
       "                                start_name       end_name  location latest  \\\n",
       "4682                             SPARGO RD            END    1704.0     No   \n",
       "11389                      OLD TE ATATU RD     GRAHAM AVE      99.0     No   \n",
       "65                              LUCKENS RD    WESTPARK DR    1517.0     No   \n",
       "49     MOTORWAY OVERBRIDGE (EAST ABUTMENT)      OREIL AVE     158.0     No   \n",
       "12333                      TE ATATU RD RAB  PEACHGROVE RD      30.0     No   \n",
       "\n",
       "      count_date     adt   latitude   longitude  cway_width  \\\n",
       "4682  1974-07-12   125.0 -36.832191  174.636777         6.8   \n",
       "11389 1974-08-11  1823.0 -36.848907  174.650109        11.2   \n",
       "65    1974-08-11  2163.0 -36.814264  174.630139         9.0   \n",
       "49    1974-08-11  3900.0 -36.818091  174.615882        28.0   \n",
       "12333 1974-08-11  2490.0 -36.841192  174.651345        10.1   \n",
       "\n",
       "                         traff_manage_level  Shape__Length  \n",
       "4682   < 10,000 vpd Rural/<15,000 vpd Urban     396.674078  \n",
       "11389  < 10,000 vpd Rural/<15,000 vpd Urban     113.001344  \n",
       "65      >= 15,000 vpd Urban road, low speed     581.914617  \n",
       "49      >= 15,000 vpd Urban road, low speed     199.169213  \n",
       "12333  < 10,000 vpd Rural/<15,000 vpd Urban     131.001559  "
      ]
     },
     "execution_count": 4,
     "metadata": {},
     "output_type": "execute_result"
    },
    {
     "data": {
      "text/html": [
       "<div>\n",
       "<style scoped>\n",
       "    .dataframe tbody tr th:only-of-type {\n",
       "        vertical-align: middle;\n",
       "    }\n",
       "\n",
       "    .dataframe tbody tr th {\n",
       "        vertical-align: top;\n",
       "    }\n",
       "\n",
       "    .dataframe thead th {\n",
       "        text-align: right;\n",
       "    }\n",
       "</style>\n",
       "<table border=\"1\" class=\"dataframe\">\n",
       "  <thead>\n",
       "    <tr style=\"text-align: right;\">\n",
       "      <th></th>\n",
       "      <th>carr_way_no</th>\n",
       "      <th>road_id</th>\n",
       "      <th>road_name</th>\n",
       "      <th>start_name</th>\n",
       "      <th>end_name</th>\n",
       "      <th>location</th>\n",
       "      <th>latest</th>\n",
       "      <th>count_date</th>\n",
       "      <th>adt</th>\n",
       "      <th>latitude</th>\n",
       "      <th>longitude</th>\n",
       "      <th>cway_width</th>\n",
       "      <th>traff_manage_level</th>\n",
       "      <th>Shape__Length</th>\n",
       "    </tr>\n",
       "  </thead>\n",
       "  <tbody>\n",
       "    <tr>\n",
       "      <th>22943</th>\n",
       "      <td>11585.0</td>\n",
       "      <td>40522</td>\n",
       "      <td>POMARIA RD</td>\n",
       "      <td>KINGDALE RD</td>\n",
       "      <td>LONGBURN RD</td>\n",
       "      <td>448.0</td>\n",
       "      <td>Yes</td>\n",
       "      <td>2019-03-06</td>\n",
       "      <td>6994.0</td>\n",
       "      <td>-36.861600</td>\n",
       "      <td>174.623820</td>\n",
       "      <td>8.6</td>\n",
       "      <td>&lt; 10,000 vpd Rural/&lt;15,000 vpd Urban</td>\n",
       "      <td>185.273683</td>\n",
       "    </tr>\n",
       "    <tr>\n",
       "      <th>22964</th>\n",
       "      <td>13123.0</td>\n",
       "      <td>40909</td>\n",
       "      <td>FAIRDENE AVE</td>\n",
       "      <td>STEPHEN AVE</td>\n",
       "      <td>EDWARDS AVE</td>\n",
       "      <td>308.0</td>\n",
       "      <td>Yes</td>\n",
       "      <td>2019-03-06</td>\n",
       "      <td>3089.0</td>\n",
       "      <td>-36.865612</td>\n",
       "      <td>174.626350</td>\n",
       "      <td>7.5</td>\n",
       "      <td>&lt; 10,000 vpd Rural/&lt;15,000 vpd Urban</td>\n",
       "      <td>337.605067</td>\n",
       "    </tr>\n",
       "    <tr>\n",
       "      <th>22942</th>\n",
       "      <td>11330.0</td>\n",
       "      <td>40389</td>\n",
       "      <td>STEPHEN AVE</td>\n",
       "      <td>POMARIA RD</td>\n",
       "      <td>KONA CRES (NORTH)</td>\n",
       "      <td>107.0</td>\n",
       "      <td>Yes</td>\n",
       "      <td>2019-03-06</td>\n",
       "      <td>828.0</td>\n",
       "      <td>-36.863331</td>\n",
       "      <td>174.627693</td>\n",
       "      <td>7.0</td>\n",
       "      <td>&lt;500 vpd (Low Volume)</td>\n",
       "      <td>196.603260</td>\n",
       "    </tr>\n",
       "    <tr>\n",
       "      <th>22945</th>\n",
       "      <td>11747.0</td>\n",
       "      <td>40624</td>\n",
       "      <td>MILDMAY RD</td>\n",
       "      <td>HARRINGTON RD (AT TEE)</td>\n",
       "      <td>LARISSA AVE</td>\n",
       "      <td>215.0</td>\n",
       "      <td>Yes</td>\n",
       "      <td>2019-03-06</td>\n",
       "      <td>294.0</td>\n",
       "      <td>-36.861519</td>\n",
       "      <td>174.617166</td>\n",
       "      <td>6.8</td>\n",
       "      <td>&lt;500 vpd (Low Volume)</td>\n",
       "      <td>175.769275</td>\n",
       "    </tr>\n",
       "    <tr>\n",
       "      <th>22952</th>\n",
       "      <td>12107.0</td>\n",
       "      <td>40823</td>\n",
       "      <td>HARRINGTON RD</td>\n",
       "      <td>HARRY WARD PL</td>\n",
       "      <td>ASCOT AVE</td>\n",
       "      <td>215.0</td>\n",
       "      <td>Yes</td>\n",
       "      <td>2019-03-06</td>\n",
       "      <td>1568.0</td>\n",
       "      <td>-36.859423</td>\n",
       "      <td>174.619489</td>\n",
       "      <td>7.0</td>\n",
       "      <td>&lt; 10,000 vpd Rural/&lt;15,000 vpd Urban</td>\n",
       "      <td>113.234506</td>\n",
       "    </tr>\n",
       "  </tbody>\n",
       "</table>\n",
       "</div>"
      ],
      "text/plain": [
       "       carr_way_no  road_id      road_name              start_name  \\\n",
       "22943      11585.0    40522     POMARIA RD             KINGDALE RD   \n",
       "22964      13123.0    40909   FAIRDENE AVE             STEPHEN AVE   \n",
       "22942      11330.0    40389    STEPHEN AVE              POMARIA RD   \n",
       "22945      11747.0    40624     MILDMAY RD  HARRINGTON RD (AT TEE)   \n",
       "22952      12107.0    40823  HARRINGTON RD           HARRY WARD PL   \n",
       "\n",
       "                end_name  location latest count_date     adt   latitude  \\\n",
       "22943        LONGBURN RD     448.0    Yes 2019-03-06  6994.0 -36.861600   \n",
       "22964        EDWARDS AVE     308.0    Yes 2019-03-06  3089.0 -36.865612   \n",
       "22942  KONA CRES (NORTH)     107.0    Yes 2019-03-06   828.0 -36.863331   \n",
       "22945        LARISSA AVE     215.0    Yes 2019-03-06   294.0 -36.861519   \n",
       "22952          ASCOT AVE     215.0    Yes 2019-03-06  1568.0 -36.859423   \n",
       "\n",
       "        longitude  cway_width                    traff_manage_level  \\\n",
       "22943  174.623820         8.6  < 10,000 vpd Rural/<15,000 vpd Urban   \n",
       "22964  174.626350         7.5  < 10,000 vpd Rural/<15,000 vpd Urban   \n",
       "22942  174.627693         7.0                 <500 vpd (Low Volume)   \n",
       "22945  174.617166         6.8                 <500 vpd (Low Volume)   \n",
       "22952  174.619489         7.0  < 10,000 vpd Rural/<15,000 vpd Urban   \n",
       "\n",
       "       Shape__Length  \n",
       "22943     185.273683  \n",
       "22964     337.605067  \n",
       "22942     196.603260  \n",
       "22945     175.769275  \n",
       "22952     113.234506  "
      ]
     },
     "execution_count": 4,
     "metadata": {},
     "output_type": "execute_result"
    }
   ],
   "source": [
    "df_orig = pd.read_csv(url, parse_dates = ['count_date'])\n",
    "df = df_orig.copy()\n",
    "df.sort_values(by = \"count_date\", inplace = True)\n",
    "df.head()\n",
    "df.tail()"
   ]
  },
  {
   "cell_type": "code",
   "execution_count": 5,
   "metadata": {
    "colab": {},
    "colab_type": "code",
    "id": "9PSFEyoHUWsG"
   },
   "outputs": [],
   "source": [
    "# # consider only traffic counts after 2010\n",
    "# df.shape\n",
    "df = df[df['count_date'] > pd.to_datetime('2009-12-31')]"
   ]
  },
  {
   "cell_type": "code",
   "execution_count": 6,
   "metadata": {
    "colab": {},
    "colab_type": "code",
    "id": "6-gEwq2vUWsJ"
   },
   "outputs": [],
   "source": [
    "import re\n",
    "def add_datepart(df, fldname, drop=False, time=False, errors=\"raise\"):\t\n",
    "\n",
    "    fld = df[fldname]\n",
    "    fld_dtype = fld.dtype\n",
    "    if isinstance(fld_dtype, pd.core.dtypes.dtypes.DatetimeTZDtype):\n",
    "        fld_dtype = np.datetime64\n",
    "\n",
    "    if not np.issubdtype(fld_dtype, np.datetime64):\n",
    "        df[fldname] = fld = pd.to_datetime(fld, infer_datetime_format=True, errors=errors)\n",
    "    targ_pre = re.sub('[Dd]ate$', '', fldname)\n",
    "    attr = ['Dayofyear', 'Week', 'Year', 'Month', 'Is_month_end', 'Is_month_start', 'Is_quarter_end', 'Is_quarter_start', 'Is_year_end', 'Is_year_start']\n",
    "#     , , 'Day',''Dayofweek''\n",
    "#             'Is_month_end', 'Is_month_start', 'Is_quarter_end', 'Is_quarter_start', 'Is_year_end', 'Is_year_start']\n",
    "    if time: attr = attr + ['Hour', 'Minute', 'Second']\n",
    "    for n in attr: df[targ_pre + n] = getattr(fld.dt, n.lower())\n",
    "    df[targ_pre + 'Elapsed'] = fld.astype(np.int64) // 10 ** 9\n",
    "    if drop: df.drop(fldname, axis=1, inplace=True)"
   ]
  },
  {
   "cell_type": "code",
   "execution_count": 7,
   "metadata": {
    "colab": {
     "base_uri": "https://localhost:8080/",
     "height": 305
    },
    "colab_type": "code",
    "id": "pQ_pCtHRUWsM",
    "outputId": "d8648688-fa9b-4d4b-fff7-0502a91ebc05"
   },
   "outputs": [
    {
     "data": {
      "text/html": [
       "<div>\n",
       "<style scoped>\n",
       "    .dataframe tbody tr th:only-of-type {\n",
       "        vertical-align: middle;\n",
       "    }\n",
       "\n",
       "    .dataframe tbody tr th {\n",
       "        vertical-align: top;\n",
       "    }\n",
       "\n",
       "    .dataframe thead th {\n",
       "        text-align: right;\n",
       "    }\n",
       "</style>\n",
       "<table border=\"1\" class=\"dataframe\">\n",
       "  <thead>\n",
       "    <tr style=\"text-align: right;\">\n",
       "      <th></th>\n",
       "      <th>carr_way_no</th>\n",
       "      <th>road_id</th>\n",
       "      <th>road_name</th>\n",
       "      <th>start_name</th>\n",
       "      <th>end_name</th>\n",
       "      <th>location</th>\n",
       "      <th>latest</th>\n",
       "      <th>count_date</th>\n",
       "      <th>adt</th>\n",
       "      <th>latitude</th>\n",
       "      <th>longitude</th>\n",
       "      <th>cway_width</th>\n",
       "      <th>traff_manage_level</th>\n",
       "      <th>Shape__Length</th>\n",
       "    </tr>\n",
       "  </thead>\n",
       "  <tbody>\n",
       "    <tr>\n",
       "      <th>2020</th>\n",
       "      <td>6933.0</td>\n",
       "      <td>20038</td>\n",
       "      <td>HURSTMERE RD</td>\n",
       "      <td>MINNEHAHA AVE</td>\n",
       "      <td>KITCHENER RD</td>\n",
       "      <td>1315.0</td>\n",
       "      <td>No</td>\n",
       "      <td>2010-01-04</td>\n",
       "      <td>11946.0</td>\n",
       "      <td>-36.777666</td>\n",
       "      <td>174.775108</td>\n",
       "      <td>12.6</td>\n",
       "      <td>&gt;= 15,000 vpd Urban road, low speed</td>\n",
       "      <td>254.802502</td>\n",
       "    </tr>\n",
       "    <tr>\n",
       "      <th>3319</th>\n",
       "      <td>6681.0</td>\n",
       "      <td>20001</td>\n",
       "      <td>EAST COAST RD (TAKA/GLENFIELD/E.C</td>\n",
       "      <td>SPENCER RD</td>\n",
       "      <td>JOHN DOWNS DR</td>\n",
       "      <td>8046.0</td>\n",
       "      <td>No</td>\n",
       "      <td>2010-01-04</td>\n",
       "      <td>10089.0</td>\n",
       "      <td>-36.720712</td>\n",
       "      <td>174.724027</td>\n",
       "      <td>13.4</td>\n",
       "      <td>&gt;= 15,000 vpd Urban road, low speed</td>\n",
       "      <td>820.181010</td>\n",
       "    </tr>\n",
       "    <tr>\n",
       "      <th>1176</th>\n",
       "      <td>6745.0</td>\n",
       "      <td>20011</td>\n",
       "      <td>GLENFIELD RD</td>\n",
       "      <td>SPEEDY CRES</td>\n",
       "      <td>CORONATION RD</td>\n",
       "      <td>1046.0</td>\n",
       "      <td>No</td>\n",
       "      <td>2010-01-04</td>\n",
       "      <td>16507.0</td>\n",
       "      <td>-36.794472</td>\n",
       "      <td>174.723897</td>\n",
       "      <td>13.0</td>\n",
       "      <td>&gt;= 15,000 vpd Urban road, low speed</td>\n",
       "      <td>426.472519</td>\n",
       "    </tr>\n",
       "    <tr>\n",
       "      <th>944</th>\n",
       "      <td>6701.0</td>\n",
       "      <td>20002</td>\n",
       "      <td>LAKE RD (DEVONPORT)</td>\n",
       "      <td>BARDIA ST</td>\n",
       "      <td>EVERSLEIGH RD</td>\n",
       "      <td>2623.0</td>\n",
       "      <td>No</td>\n",
       "      <td>2010-01-04</td>\n",
       "      <td>23655.0</td>\n",
       "      <td>-36.802798</td>\n",
       "      <td>174.787569</td>\n",
       "      <td>12.0</td>\n",
       "      <td>&gt;= 15,000 vpd Urban road, low speed</td>\n",
       "      <td>529.999614</td>\n",
       "    </tr>\n",
       "    <tr>\n",
       "      <th>4330</th>\n",
       "      <td>8486.0</td>\n",
       "      <td>22135</td>\n",
       "      <td>MOKOIA RD</td>\n",
       "      <td>ROSEBERRY AVE</td>\n",
       "      <td>BALMAIN RD</td>\n",
       "      <td>1261.0</td>\n",
       "      <td>No</td>\n",
       "      <td>2010-01-04</td>\n",
       "      <td>17588.0</td>\n",
       "      <td>-36.810808</td>\n",
       "      <td>174.712481</td>\n",
       "      <td>12.5</td>\n",
       "      <td>&gt;= 15,000 vpd Urban road, low speed</td>\n",
       "      <td>427.289597</td>\n",
       "    </tr>\n",
       "  </tbody>\n",
       "</table>\n",
       "</div>"
      ],
      "text/plain": [
       "      carr_way_no  road_id                          road_name     start_name  \\\n",
       "2020       6933.0    20038                       HURSTMERE RD  MINNEHAHA AVE   \n",
       "3319       6681.0    20001  EAST COAST RD (TAKA/GLENFIELD/E.C     SPENCER RD   \n",
       "1176       6745.0    20011                       GLENFIELD RD    SPEEDY CRES   \n",
       "944        6701.0    20002                LAKE RD (DEVONPORT)      BARDIA ST   \n",
       "4330       8486.0    22135                          MOKOIA RD  ROSEBERRY AVE   \n",
       "\n",
       "           end_name  location latest count_date      adt   latitude  \\\n",
       "2020   KITCHENER RD    1315.0     No 2010-01-04  11946.0 -36.777666   \n",
       "3319  JOHN DOWNS DR    8046.0     No 2010-01-04  10089.0 -36.720712   \n",
       "1176  CORONATION RD    1046.0     No 2010-01-04  16507.0 -36.794472   \n",
       "944   EVERSLEIGH RD    2623.0     No 2010-01-04  23655.0 -36.802798   \n",
       "4330     BALMAIN RD    1261.0     No 2010-01-04  17588.0 -36.810808   \n",
       "\n",
       "       longitude  cway_width                   traff_manage_level  \\\n",
       "2020  174.775108        12.6  >= 15,000 vpd Urban road, low speed   \n",
       "3319  174.724027        13.4  >= 15,000 vpd Urban road, low speed   \n",
       "1176  174.723897        13.0  >= 15,000 vpd Urban road, low speed   \n",
       "944   174.787569        12.0  >= 15,000 vpd Urban road, low speed   \n",
       "4330  174.712481        12.5  >= 15,000 vpd Urban road, low speed   \n",
       "\n",
       "      Shape__Length  \n",
       "2020     254.802502  \n",
       "3319     820.181010  \n",
       "1176     426.472519  \n",
       "944      529.999614  \n",
       "4330     427.289597  "
      ]
     },
     "execution_count": 7,
     "metadata": {},
     "output_type": "execute_result"
    }
   ],
   "source": [
    "df.head()"
   ]
  },
  {
   "cell_type": "code",
   "execution_count": 8,
   "metadata": {
    "colab": {
     "base_uri": "https://localhost:8080/",
     "height": 218
    },
    "colab_type": "code",
    "id": "ejV2MRj3UWsP",
    "outputId": "69c37c29-410e-49e8-c522-a3d25a8db357"
   },
   "outputs": [
    {
     "data": {
      "text/html": [
       "<div>\n",
       "<style scoped>\n",
       "    .dataframe tbody tr th:only-of-type {\n",
       "        vertical-align: middle;\n",
       "    }\n",
       "\n",
       "    .dataframe tbody tr th {\n",
       "        vertical-align: top;\n",
       "    }\n",
       "\n",
       "    .dataframe thead th {\n",
       "        text-align: right;\n",
       "    }\n",
       "</style>\n",
       "<table border=\"1\" class=\"dataframe\">\n",
       "  <thead>\n",
       "    <tr style=\"text-align: right;\">\n",
       "      <th></th>\n",
       "      <th>carr_way_no</th>\n",
       "      <th>road_id</th>\n",
       "      <th>road_name</th>\n",
       "      <th>start_name</th>\n",
       "      <th>end_name</th>\n",
       "      <th>location</th>\n",
       "      <th>latest</th>\n",
       "      <th>count_date</th>\n",
       "      <th>adt</th>\n",
       "      <th>latitude</th>\n",
       "      <th>longitude</th>\n",
       "      <th>cway_width</th>\n",
       "      <th>traff_manage_level</th>\n",
       "      <th>Shape__Length</th>\n",
       "    </tr>\n",
       "  </thead>\n",
       "  <tbody>\n",
       "    <tr>\n",
       "      <th>2020</th>\n",
       "      <td>1803</td>\n",
       "      <td>764</td>\n",
       "      <td>1378</td>\n",
       "      <td>2281</td>\n",
       "      <td>2120</td>\n",
       "      <td>1269</td>\n",
       "      <td>0</td>\n",
       "      <td>2010-01-04</td>\n",
       "      <td>11946.0</td>\n",
       "      <td>-36.777666</td>\n",
       "      <td>174.775108</td>\n",
       "      <td>12.6</td>\n",
       "      <td>3</td>\n",
       "      <td>254.802502</td>\n",
       "    </tr>\n",
       "    <tr>\n",
       "      <th>3319</th>\n",
       "      <td>1676</td>\n",
       "      <td>733</td>\n",
       "      <td>814</td>\n",
       "      <td>3359</td>\n",
       "      <td>1960</td>\n",
       "      <td>3291</td>\n",
       "      <td>0</td>\n",
       "      <td>2010-01-04</td>\n",
       "      <td>10089.0</td>\n",
       "      <td>-36.720712</td>\n",
       "      <td>174.724027</td>\n",
       "      <td>13.4</td>\n",
       "      <td>3</td>\n",
       "      <td>820.181010</td>\n",
       "    </tr>\n",
       "    <tr>\n",
       "      <th>1176</th>\n",
       "      <td>1712</td>\n",
       "      <td>741</td>\n",
       "      <td>1075</td>\n",
       "      <td>3356</td>\n",
       "      <td>847</td>\n",
       "      <td>1024</td>\n",
       "      <td>0</td>\n",
       "      <td>2010-01-04</td>\n",
       "      <td>16507.0</td>\n",
       "      <td>-36.794472</td>\n",
       "      <td>174.723897</td>\n",
       "      <td>13.0</td>\n",
       "      <td>3</td>\n",
       "      <td>426.472519</td>\n",
       "    </tr>\n",
       "    <tr>\n",
       "      <th>944</th>\n",
       "      <td>1686</td>\n",
       "      <td>734</td>\n",
       "      <td>1627</td>\n",
       "      <td>256</td>\n",
       "      <td>1270</td>\n",
       "      <td>2105</td>\n",
       "      <td>0</td>\n",
       "      <td>2010-01-04</td>\n",
       "      <td>23655.0</td>\n",
       "      <td>-36.802798</td>\n",
       "      <td>174.787569</td>\n",
       "      <td>12.0</td>\n",
       "      <td>3</td>\n",
       "      <td>529.999614</td>\n",
       "    </tr>\n",
       "    <tr>\n",
       "      <th>4330</th>\n",
       "      <td>2235</td>\n",
       "      <td>1072</td>\n",
       "      <td>1982</td>\n",
       "      <td>3076</td>\n",
       "      <td>279</td>\n",
       "      <td>1220</td>\n",
       "      <td>0</td>\n",
       "      <td>2010-01-04</td>\n",
       "      <td>17588.0</td>\n",
       "      <td>-36.810808</td>\n",
       "      <td>174.712481</td>\n",
       "      <td>12.5</td>\n",
       "      <td>3</td>\n",
       "      <td>427.289597</td>\n",
       "    </tr>\n",
       "  </tbody>\n",
       "</table>\n",
       "</div>"
      ],
      "text/plain": [
       "      carr_way_no  road_id  road_name  start_name  end_name  location  latest  \\\n",
       "2020         1803      764       1378        2281      2120      1269       0   \n",
       "3319         1676      733        814        3359      1960      3291       0   \n",
       "1176         1712      741       1075        3356       847      1024       0   \n",
       "944          1686      734       1627         256      1270      2105       0   \n",
       "4330         2235     1072       1982        3076       279      1220       0   \n",
       "\n",
       "     count_date      adt   latitude   longitude  cway_width  \\\n",
       "2020 2010-01-04  11946.0 -36.777666  174.775108        12.6   \n",
       "3319 2010-01-04  10089.0 -36.720712  174.724027        13.4   \n",
       "1176 2010-01-04  16507.0 -36.794472  174.723897        13.0   \n",
       "944  2010-01-04  23655.0 -36.802798  174.787569        12.0   \n",
       "4330 2010-01-04  17588.0 -36.810808  174.712481        12.5   \n",
       "\n",
       "      traff_manage_level  Shape__Length  \n",
       "2020                   3     254.802502  \n",
       "3319                   3     820.181010  \n",
       "1176                   3     426.472519  \n",
       "944                    3     529.999614  \n",
       "4330                   3     427.289597  "
      ]
     },
     "metadata": {},
     "output_type": "display_data"
    }
   ],
   "source": [
    "# encode cat columns\n",
    "from sklearn.preprocessing import LabelEncoder\n",
    "cat_cols = ['carr_way_no', 'road_id', 'road_name', 'start_name', 'end_name', \n",
    "            'location', 'latest', 'traff_manage_level']\n",
    "label_encoders_dict = {}\n",
    "for col in cat_cols:\n",
    "    new_le = LabelEncoder()\n",
    "    df[col] = new_le.fit_transform(df[col])\n",
    "    label_encoders_dict[col] = new_le\n",
    "display_all(df.head())"
   ]
  },
  {
   "cell_type": "code",
   "execution_count": 9,
   "metadata": {
    "colab": {
     "base_uri": "https://localhost:8080/",
     "height": 163
    },
    "colab_type": "code",
    "id": "5nRPtIIMUWsS",
    "outputId": "889a549d-6003-42c2-99e3-cf213a1e734e"
   },
   "outputs": [
    {
     "data": {
      "text/plain": [
       "Index(['carr_way_no', 'road_id', 'road_name', 'start_name', 'end_name',\n",
       "       'location', 'latest', 'count_date', 'adt', 'latitude', 'longitude',\n",
       "       'cway_width', 'Shape__Length', 'traff_manage_level__0',\n",
       "       'traff_manage_level__1', 'traff_manage_level__2',\n",
       "       'traff_manage_level__3', 'traff_manage_level__4',\n",
       "       'traff_manage_level__5', 'traff_manage_level__6',\n",
       "       'traff_manage_level__7'],\n",
       "      dtype='object')"
      ]
     },
     "execution_count": 9,
     "metadata": {},
     "output_type": "execute_result"
    }
   ],
   "source": [
    "# one hot encode traff_manage_level\n",
    "df = pd.get_dummies(df, prefix_sep = \"__\", columns = ['traff_manage_level'])\n",
    "df.columns"
   ]
  },
  {
   "cell_type": "code",
   "execution_count": 10,
   "metadata": {
    "colab": {
     "base_uri": "https://localhost:8080/",
     "height": 490
    },
    "colab_type": "code",
    "id": "d_kBhBP0UWsV",
    "outputId": "e41b9e99-aa77-4b8d-b28f-22c826e34226",
    "scrolled": true
   },
   "outputs": [
    {
     "name": "stdout",
     "output_type": "stream",
     "text": [
      "<class 'pandas.core.frame.DataFrame'>\n",
      "Int64Index: 17826 entries, 2020 to 22952\n",
      "Data columns (total 21 columns):\n",
      "carr_way_no              17826 non-null int64\n",
      "road_id                  17826 non-null int64\n",
      "road_name                17826 non-null int32\n",
      "start_name               17826 non-null int32\n",
      "end_name                 17826 non-null int32\n",
      "location                 17826 non-null int64\n",
      "latest                   17826 non-null int32\n",
      "count_date               17826 non-null datetime64[ns]\n",
      "adt                      17826 non-null float64\n",
      "latitude                 17826 non-null float64\n",
      "longitude                17826 non-null float64\n",
      "cway_width               17826 non-null float64\n",
      "Shape__Length            17826 non-null float64\n",
      "traff_manage_level__0    17826 non-null uint8\n",
      "traff_manage_level__1    17826 non-null uint8\n",
      "traff_manage_level__2    17826 non-null uint8\n",
      "traff_manage_level__3    17826 non-null uint8\n",
      "traff_manage_level__4    17826 non-null uint8\n",
      "traff_manage_level__5    17826 non-null uint8\n",
      "traff_manage_level__6    17826 non-null uint8\n",
      "traff_manage_level__7    17826 non-null uint8\n",
      "dtypes: datetime64[ns](1), float64(5), int32(4), int64(3), uint8(8)\n",
      "memory usage: 1.8 MB\n"
     ]
    }
   ],
   "source": [
    "df.info()"
   ]
  },
  {
   "cell_type": "code",
   "execution_count": 11,
   "metadata": {
    "colab": {},
    "colab_type": "code",
    "id": "Dil7p0tQUWsY"
   },
   "outputs": [],
   "source": [
    "add_datepart(df, 'count_date')"
   ]
  },
  {
   "cell_type": "code",
   "execution_count": 12,
   "metadata": {
    "colab": {},
    "colab_type": "code",
    "id": "XiIlSObKUWsb"
   },
   "outputs": [],
   "source": [
    "from sklearn.ensemble import RandomForestRegressor\n",
    "import math\n",
    "from sklearn.utils import shuffle\n",
    "def split_vals(df, n):\n",
    "    return df[:n].copy(), df[n:].copy()\n",
    "\n",
    "def rmse(x,y): \n",
    "    # calculates r^2\n",
    "    return math.sqrt(np.square(np.subtract(x,y)).mean())\n",
    "def get_scores(m, X_train, X_valid, y_train, y_valid):\n",
    "    # returns rmsq training, r^2 validation, avg accuracy training, avg accuracy validation, oob\n",
    "    res = [rmse(m.predict(X_train), y_train), rmse(m.predict(X_valid), y_valid),\n",
    "                m.score(X_train, y_train), m.score(X_valid, y_valid)]\n",
    "    if hasattr(m, 'oob_score_'): \n",
    "        res.append(m.oob_score_)\n",
    "    return res\n",
    "\n",
    "def train_test_split(df, xcols, ycol, train_size_f = 0.75, shuffle_bool = False):\n",
    "    train_size = int(df.shape[0] * train_size_f)\n",
    "    if shuffle_bool:\n",
    "        df_model = shuffle(df)\n",
    "    else:\n",
    "        df_model = df.copy()\n",
    "    X, y = df_model[xcols], df_model[ycol]\n",
    "    X_train, X_test = split_vals(X, train_size)\n",
    "    y_train, y_test = split_vals(y, train_size)\n",
    "    return X_train, X_test, y_train, y_test\n",
    "\n",
    "def tt_split_by_years(df, xcols, ycol, train_years = [2016, 2017, 2018], test_years = [2019]):\n",
    "#     train-test split by year\n",
    "    df_train = df[df.count_Year.isin(train_years)]\n",
    "    df_test = df[df.count_Year.isin(test_years)]\n",
    "    X_train, X_test = df_train[xcols], df_test[xcols]\n",
    "    y_train, y_test = df_train[ycol], df_test[ycol]\n",
    "    return X_train, X_test, y_train, y_test\n",
    "\n",
    "def split_by_forward_period(df, xcols, ycol, split_date = '2018-12-31', train_months = 36, test_months = 3):\n",
    "#     walk forward train-test split\n",
    "    d = pd.to_datetime(split_date)\n",
    "    train_lb = d - relativedelta(months = train_months)\n",
    "    test_ub = d + relativedelta(months = test_months)\n",
    "    df_train = df[(df.count_date >= train_lb)&(df.count_date < d)]\n",
    "    df_test = df[(df.count_date >= d)&(df.count_date < test_ub)]\n",
    "    X_train, X_test = df_train[xcols], df_test[xcols]\n",
    "    y_train, y_test = df_train[ycol], df_test[ycol]\n",
    "    return X_train, X_test, y_train, y_test\n",
    "\n",
    "def expanding_window_split(df, xcols, ycol, split_date = '2018-01-01', test_months = 2):\n",
    "    # expanding window split\n",
    "    d = pd.to_datetime(split_date)\n",
    "    test_ub = d + relativedelta(months = test_months)\n",
    "    df_train = df[df.count_date < d]\n",
    "    df_test = df[(df.count_date >= d)&(df.count_date < test_ub)]\n",
    "    X_train, X_test = df_train[xcols], df_test[xcols]\n",
    "    y_train, y_test = df_train[ycol], df_test[ycol]\n",
    "    return X_train, X_test, y_train, y_test\n",
    "\n",
    "def rf_feat_importance(m, df):\n",
    "    return pd.DataFrame({'cols':df.columns, 'imp':m.feature_importances_}\n",
    "                       ).sort_values('imp', ascending=False)"
   ]
  },
  {
   "cell_type": "code",
   "execution_count": 13,
   "metadata": {
    "colab": {
     "base_uri": "https://localhost:8080/",
     "height": 217
    },
    "colab_type": "code",
    "id": "jhsAJYDiUWse",
    "outputId": "34a781bd-f33f-49f0-ba10-48fafbc15627"
   },
   "outputs": [
    {
     "data": {
      "text/plain": [
       "Index(['carr_way_no', 'road_id', 'road_name', 'start_name', 'end_name',\n",
       "       'location', 'latest', 'count_date', 'adt', 'latitude', 'longitude',\n",
       "       'cway_width', 'Shape__Length', 'traff_manage_level__0',\n",
       "       'traff_manage_level__1', 'traff_manage_level__2',\n",
       "       'traff_manage_level__3', 'traff_manage_level__4',\n",
       "       'traff_manage_level__5', 'traff_manage_level__6',\n",
       "       'traff_manage_level__7', 'count_Dayofyear', 'count_Week', 'count_Year',\n",
       "       'count_Month', 'count_Is_month_end', 'count_Is_month_start',\n",
       "       'count_Is_quarter_end', 'count_Is_quarter_start', 'count_Is_year_end',\n",
       "       'count_Is_year_start', 'count_Elapsed'],\n",
       "      dtype='object')"
      ]
     },
     "execution_count": 13,
     "metadata": {},
     "output_type": "execute_result"
    }
   ],
   "source": [
    "df.columns"
   ]
  },
  {
   "cell_type": "code",
   "execution_count": 14,
   "metadata": {
    "colab": {},
    "colab_type": "code",
    "id": "HxYixbluUWsg"
   },
   "outputs": [],
   "source": [
    "xcols = [col for col in df.columns]\n",
    "xcols.remove('adt')\n",
    "xcols.remove('road_name')\n",
    "xcols.remove('count_date')\n",
    "xcols.remove('latest')\n",
    "ycol = 'adt'"
   ]
  },
  {
   "cell_type": "code",
   "execution_count": 0,
   "metadata": {
    "colab": {
     "base_uri": "https://localhost:8080/",
     "height": 217
    },
    "colab_type": "code",
    "id": "IRUQ42sVUWsj",
    "outputId": "01008692-79c0-4db0-c315-c0a63f18b73a"
   },
   "outputs": [
    {
     "data": {
      "text/plain": [
       "RandomForestRegressor(bootstrap=True, criterion='mse', max_depth=28,\n",
       "                      max_features=0.5, max_leaf_nodes=None,\n",
       "                      min_impurity_decrease=0.0, min_impurity_split=None,\n",
       "                      min_samples_leaf=1, min_samples_split=2,\n",
       "                      min_weight_fraction_leaf=0.0, n_estimators=300, n_jobs=-1,\n",
       "                      oob_score=True, random_state=1, verbose=0,\n",
       "                      warm_start=False)"
      ]
     },
     "execution_count": 21,
     "metadata": {
      "tags": []
     },
     "output_type": "execute_result"
    },
    {
     "data": {
      "text/plain": [
       "[1056.08629769755,\n",
       " 4615.050130968227,\n",
       " 0.9927399704362636,\n",
       " 0.7198623741925434,\n",
       " 0.9473770599010185]"
      ]
     },
     "execution_count": 21,
     "metadata": {
      "tags": []
     },
     "output_type": "execute_result"
    }
   ],
   "source": [
    "# expanding_window_split performs better than sliding window\n",
    "X_train, X_test, y_train, y_test = split_by_forward_period(df, xcols, ycol, split_date = '2018-05-31', train_months = 36, test_months = 2)\n",
    "m = RandomForestRegressor(n_estimators=300, max_depth=28, max_features=0.5, oob_score= True, random_state=1, n_jobs  = -1)\n",
    "m.fit(X_train, y_train)\n",
    "get_scores(m, X_train, X_test, y_train, y_test)\n",
    "# m.score(X_train, y_train)\n",
    "# m.score(X_test, y_test)\n",
    "# m.oob_score_\n",
    "# rf_feat_importance(m, X_train)"
   ]
  },
  {
   "cell_type": "code",
   "execution_count": 0,
   "metadata": {
    "colab": {
     "base_uri": "https://localhost:8080/",
     "height": 217
    },
    "colab_type": "code",
    "id": "wKXascEfUWsm",
    "outputId": "e8d77d83-6476-47d6-ae34-2a406f1a8d0b"
   },
   "outputs": [
    {
     "data": {
      "text/plain": [
       "RandomForestRegressor(bootstrap=True, criterion='mse', max_depth=28,\n",
       "                      max_features=0.5, max_leaf_nodes=None,\n",
       "                      min_impurity_decrease=0.0, min_impurity_split=None,\n",
       "                      min_samples_leaf=1, min_samples_split=2,\n",
       "                      min_weight_fraction_leaf=0.0, n_estimators=300, n_jobs=-1,\n",
       "                      oob_score=True, random_state=1, verbose=0,\n",
       "                      warm_start=False)"
      ]
     },
     "execution_count": 22,
     "metadata": {
      "tags": []
     },
     "output_type": "execute_result"
    },
    {
     "data": {
      "text/plain": [
       "[821.4664352633803,\n",
       " 4503.942253645377,\n",
       " 0.9965181228659281,\n",
       " 0.7331886961522794,\n",
       " 0.9747351274855336]"
      ]
     },
     "execution_count": 22,
     "metadata": {
      "tags": []
     },
     "output_type": "execute_result"
    }
   ],
   "source": [
    "X_train, X_test, y_train, y_test = expanding_window_split(df, xcols, ycol, split_date = '2018-05-31', test_months = 2)\n",
    "m = RandomForestRegressor(n_estimators=300, max_depth=28, max_features=0.5, oob_score= True, random_state=1, n_jobs  = -1)\n",
    "m.fit(X_train, y_train)\n",
    "get_scores(m, X_train, X_test, y_train, y_test)\n"
   ]
  },
  {
   "cell_type": "code",
   "execution_count": 0,
   "metadata": {
    "colab": {
     "base_uri": "https://localhost:8080/",
     "height": 888
    },
    "colab_type": "code",
    "id": "s4L-oxVFWqYM",
    "outputId": "2c580796-27ed-490d-b482-071c63051119"
   },
   "outputs": [
    {
     "data": {
      "text/html": [
       "<div>\n",
       "<style scoped>\n",
       "    .dataframe tbody tr th:only-of-type {\n",
       "        vertical-align: middle;\n",
       "    }\n",
       "\n",
       "    .dataframe tbody tr th {\n",
       "        vertical-align: top;\n",
       "    }\n",
       "\n",
       "    .dataframe thead th {\n",
       "        text-align: right;\n",
       "    }\n",
       "</style>\n",
       "<table border=\"1\" class=\"dataframe\">\n",
       "  <thead>\n",
       "    <tr style=\"text-align: right;\">\n",
       "      <th></th>\n",
       "      <th>cols</th>\n",
       "      <th>imp</th>\n",
       "    </tr>\n",
       "  </thead>\n",
       "  <tbody>\n",
       "    <tr>\n",
       "      <th>11</th>\n",
       "      <td>traff_manage_level__2</td>\n",
       "      <td>0.271832</td>\n",
       "    </tr>\n",
       "    <tr>\n",
       "      <th>7</th>\n",
       "      <td>cway_width</td>\n",
       "      <td>0.199340</td>\n",
       "    </tr>\n",
       "    <tr>\n",
       "      <th>1</th>\n",
       "      <td>road_id</td>\n",
       "      <td>0.123585</td>\n",
       "    </tr>\n",
       "    <tr>\n",
       "      <th>4</th>\n",
       "      <td>location</td>\n",
       "      <td>0.063909</td>\n",
       "    </tr>\n",
       "    <tr>\n",
       "      <th>0</th>\n",
       "      <td>carr_way_no</td>\n",
       "      <td>0.049712</td>\n",
       "    </tr>\n",
       "    <tr>\n",
       "      <th>12</th>\n",
       "      <td>traff_manage_level__3</td>\n",
       "      <td>0.047307</td>\n",
       "    </tr>\n",
       "    <tr>\n",
       "      <th>5</th>\n",
       "      <td>latitude</td>\n",
       "      <td>0.036543</td>\n",
       "    </tr>\n",
       "    <tr>\n",
       "      <th>17</th>\n",
       "      <td>count_Dayofyear</td>\n",
       "      <td>0.032763</td>\n",
       "    </tr>\n",
       "    <tr>\n",
       "      <th>9</th>\n",
       "      <td>traff_manage_level__0</td>\n",
       "      <td>0.032636</td>\n",
       "    </tr>\n",
       "    <tr>\n",
       "      <th>6</th>\n",
       "      <td>longitude</td>\n",
       "      <td>0.031407</td>\n",
       "    </tr>\n",
       "    <tr>\n",
       "      <th>8</th>\n",
       "      <td>Shape__Length</td>\n",
       "      <td>0.025948</td>\n",
       "    </tr>\n",
       "    <tr>\n",
       "      <th>13</th>\n",
       "      <td>traff_manage_level__4</td>\n",
       "      <td>0.018309</td>\n",
       "    </tr>\n",
       "    <tr>\n",
       "      <th>10</th>\n",
       "      <td>traff_manage_level__1</td>\n",
       "      <td>0.016262</td>\n",
       "    </tr>\n",
       "    <tr>\n",
       "      <th>2</th>\n",
       "      <td>start_name</td>\n",
       "      <td>0.012798</td>\n",
       "    </tr>\n",
       "    <tr>\n",
       "      <th>3</th>\n",
       "      <td>end_name</td>\n",
       "      <td>0.011149</td>\n",
       "    </tr>\n",
       "    <tr>\n",
       "      <th>20</th>\n",
       "      <td>count_Month</td>\n",
       "      <td>0.006764</td>\n",
       "    </tr>\n",
       "    <tr>\n",
       "      <th>25</th>\n",
       "      <td>count_Is_year_end</td>\n",
       "      <td>0.005810</td>\n",
       "    </tr>\n",
       "    <tr>\n",
       "      <th>27</th>\n",
       "      <td>count_Elapsed</td>\n",
       "      <td>0.005100</td>\n",
       "    </tr>\n",
       "    <tr>\n",
       "      <th>19</th>\n",
       "      <td>count_Year</td>\n",
       "      <td>0.002475</td>\n",
       "    </tr>\n",
       "    <tr>\n",
       "      <th>23</th>\n",
       "      <td>count_Is_quarter_end</td>\n",
       "      <td>0.002260</td>\n",
       "    </tr>\n",
       "    <tr>\n",
       "      <th>18</th>\n",
       "      <td>count_Week</td>\n",
       "      <td>0.002058</td>\n",
       "    </tr>\n",
       "    <tr>\n",
       "      <th>16</th>\n",
       "      <td>traff_manage_level__7</td>\n",
       "      <td>0.001554</td>\n",
       "    </tr>\n",
       "    <tr>\n",
       "      <th>21</th>\n",
       "      <td>count_Is_month_end</td>\n",
       "      <td>0.000199</td>\n",
       "    </tr>\n",
       "    <tr>\n",
       "      <th>22</th>\n",
       "      <td>count_Is_month_start</td>\n",
       "      <td>0.000125</td>\n",
       "    </tr>\n",
       "    <tr>\n",
       "      <th>14</th>\n",
       "      <td>traff_manage_level__5</td>\n",
       "      <td>0.000115</td>\n",
       "    </tr>\n",
       "    <tr>\n",
       "      <th>24</th>\n",
       "      <td>count_Is_quarter_start</td>\n",
       "      <td>0.000021</td>\n",
       "    </tr>\n",
       "    <tr>\n",
       "      <th>15</th>\n",
       "      <td>traff_manage_level__6</td>\n",
       "      <td>0.000016</td>\n",
       "    </tr>\n",
       "    <tr>\n",
       "      <th>26</th>\n",
       "      <td>count_Is_year_start</td>\n",
       "      <td>0.000003</td>\n",
       "    </tr>\n",
       "  </tbody>\n",
       "</table>\n",
       "</div>"
      ],
      "text/plain": [
       "                      cols       imp\n",
       "11   traff_manage_level__2  0.271832\n",
       "7               cway_width  0.199340\n",
       "1                  road_id  0.123585\n",
       "4                 location  0.063909\n",
       "0              carr_way_no  0.049712\n",
       "12   traff_manage_level__3  0.047307\n",
       "5                 latitude  0.036543\n",
       "17         count_Dayofyear  0.032763\n",
       "9    traff_manage_level__0  0.032636\n",
       "6                longitude  0.031407\n",
       "8            Shape__Length  0.025948\n",
       "13   traff_manage_level__4  0.018309\n",
       "10   traff_manage_level__1  0.016262\n",
       "2               start_name  0.012798\n",
       "3                 end_name  0.011149\n",
       "20             count_Month  0.006764\n",
       "25       count_Is_year_end  0.005810\n",
       "27           count_Elapsed  0.005100\n",
       "19              count_Year  0.002475\n",
       "23    count_Is_quarter_end  0.002260\n",
       "18              count_Week  0.002058\n",
       "16   traff_manage_level__7  0.001554\n",
       "21      count_Is_month_end  0.000199\n",
       "22    count_Is_month_start  0.000125\n",
       "14   traff_manage_level__5  0.000115\n",
       "24  count_Is_quarter_start  0.000021\n",
       "15   traff_manage_level__6  0.000016\n",
       "26     count_Is_year_start  0.000003"
      ]
     },
     "execution_count": 23,
     "metadata": {
      "tags": []
     },
     "output_type": "execute_result"
    }
   ],
   "source": [
    "rf_feat_importance(m, X_train)"
   ]
  },
  {
   "cell_type": "markdown",
   "metadata": {
    "colab_type": "text",
    "id": "yahpKLGqUWsq"
   },
   "source": [
    "Got a much better results once road info are added into the model"
   ]
  },
  {
   "cell_type": "code",
   "execution_count": 0,
   "metadata": {
    "colab": {
     "base_uri": "https://localhost:8080/",
     "height": 55
    },
    "colab_type": "code",
    "id": "t5AJMIPmUWss",
    "outputId": "e8f98475-3d32-4290-9c59-1e4a226c261a"
   },
   "outputs": [
    {
     "name": "stdout",
     "output_type": "stream",
     "text": [
      "[Timestamp('2017-01-01 00:00:00'), Timestamp('2017-03-01 00:00:00'), Timestamp('2017-05-01 00:00:00'), Timestamp('2017-07-01 00:00:00'), Timestamp('2017-09-01 00:00:00'), Timestamp('2017-11-01 00:00:00'), Timestamp('2018-01-01 00:00:00'), Timestamp('2018-03-01 00:00:00'), Timestamp('2018-05-01 00:00:00'), Timestamp('2018-07-01 00:00:00'), Timestamp('2018-09-01 00:00:00'), Timestamp('2018-11-01 00:00:00'), Timestamp('2019-01-01 00:00:00'), Timestamp('2019-03-01 00:00:00')]\n"
     ]
    }
   ],
   "source": [
    "m = RandomForestRegressor(n_estimators=300, max_depth=28, max_features=0.5, oob_score= True, random_state=1, n_jobs  = -1)\n",
    "def get_list_of_split_dates(df, start_date = '2017-01-01', test_months = 2):\n",
    "    d = pd.to_datetime(start_date)\n",
    "    last_date = df.count_date.max()\n",
    "    test_ub = d + relativedelta(months = test_months)\n",
    "    list_of_split_dates = [d]\n",
    "    while test_ub < last_date:  \n",
    "        list_of_split_dates.append(test_ub)\n",
    "        test_ub += relativedelta(months = test_months)\n",
    "    return list_of_split_dates\n",
    "\n",
    "def back_testing(df, xcols, ycol, list_of_split_dates, test_months = 2):\n",
    "    results = []\n",
    "    for split_date in list_of_split_dates:\n",
    "        X_train, X_test, y_train, y_test = expanding_window_split(df, xcols, ycol, split_date = split_date, test_months = test_months)\n",
    "        m.fit(X_train, y_train)\n",
    "        r = get_scores(m, X_train, X_test, y_train, y_test)\n",
    "        results.append(r)\n",
    "    return np.vstack(results)\n",
    "list_of_split_dates = get_list_of_split_dates(df, start_date =  '2017-01-01', test_months = 2)\n",
    "print(list_of_split_dates)\n",
    "results = back_testing(df, xcols, ycol, list_of_split_dates, test_months = 2)"
   ]
  },
  {
   "cell_type": "code",
   "execution_count": 0,
   "metadata": {
    "colab": {
     "base_uri": "https://localhost:8080/",
     "height": 526
    },
    "colab_type": "code",
    "id": "BXgfvePxUWsw",
    "outputId": "9128e9a6-ab3a-4b35-9000-236290506dd8"
   },
   "outputs": [
    {
     "data": {
      "text/plain": [
       "array([[8.22877468e+02, 2.08510159e+03, 9.96926026e-01, 9.41559829e-01,\n",
       "        9.77336602e-01],\n",
       "       [8.18611094e+02, 3.00234621e+03, 9.96922549e-01, 8.97705065e-01,\n",
       "        9.77374914e-01],\n",
       "       [8.15963954e+02, 3.77634032e+03, 9.96901052e-01, 8.69469225e-01,\n",
       "        9.77225519e-01],\n",
       "       [8.16997179e+02, 2.41211920e+03, 9.96857407e-01, 9.09550947e-01,\n",
       "        9.76978912e-01],\n",
       "       [8.13895842e+02, 2.92087190e+03, 9.96827514e-01, 8.84511478e-01,\n",
       "        9.76758605e-01],\n",
       "       [8.11658871e+02, 3.09021960e+03, 9.96797287e-01, 8.69620949e-01,\n",
       "        9.76527877e-01],\n",
       "       [8.10444309e+02, 2.35029104e+03, 9.96755384e-01, 8.96527154e-01,\n",
       "        9.76277528e-01],\n",
       "       [8.06797246e+02, 3.03755994e+03, 9.96742738e-01, 8.33012545e-01,\n",
       "        9.76213034e-01],\n",
       "       [8.05521133e+02, 4.29219408e+03, 9.96688354e-01, 7.83049473e-01,\n",
       "        9.75808188e-01],\n",
       "       [8.30785881e+02, 2.76667774e+03, 9.96407626e-01, 8.83665177e-01,\n",
       "        9.73954455e-01],\n",
       "       [8.27034107e+02, 3.06416515e+03, 9.96374423e-01, 8.88201212e-01,\n",
       "        9.73740725e-01],\n",
       "       [8.24673115e+02, 2.74289353e+03, 9.96364494e-01, 8.30148688e-01,\n",
       "        9.73528430e-01],\n",
       "       [8.26344687e+02, 2.43929562e+03, 9.96327858e-01, 9.20950413e-01,\n",
       "        9.73344544e-01],\n",
       "       [8.22749489e+02, 1.12569935e+03, 9.96339305e-01, 7.51796953e-01,\n",
       "        9.73433890e-01]])"
      ]
     },
     "execution_count": 25,
     "metadata": {
      "tags": []
     },
     "output_type": "execute_result"
    }
   ],
   "source": [
    "results  # rmse_train rmse_test, r2_train, r2_test, oob"
   ]
  },
  {
   "cell_type": "code",
   "execution_count": 0,
   "metadata": {
    "colab": {
     "base_uri": "https://localhost:8080/",
     "height": 54
    },
    "colab_type": "code",
    "id": "lINQUVH5UWsz",
    "outputId": "c6a46b81-9ab1-4b72-c0ce-e593ea665022"
   },
   "outputs": [
    {
     "data": {
      "text/plain": [
       "array([8.18168170e+02, 2.79326966e+03, 9.96659430e-01, 8.68554936e-01,\n",
       "       9.75607373e-01])"
      ]
     },
     "execution_count": 26,
     "metadata": {
      "tags": []
     },
     "output_type": "execute_result"
    }
   ],
   "source": [
    "results.mean(axis = 0)"
   ]
  },
  {
   "cell_type": "code",
   "execution_count": 0,
   "metadata": {
    "colab": {
     "base_uri": "https://localhost:8080/",
     "height": 310
    },
    "colab_type": "code",
    "id": "MoyEXeIwcoYl",
    "outputId": "4ccbb97a-cb3f-4b9a-e5a4-beac1f9ba151"
   },
   "outputs": [
    {
     "name": "stdout",
     "output_type": "stream",
     "text": [
      "Requirement already satisfied: pdpbox in /usr/local/lib/python3.6/dist-packages (0.2.0)\n",
      "Requirement already satisfied: scikit-learn in /usr/local/lib/python3.6/dist-packages (from pdpbox) (0.21.2)\n",
      "Requirement already satisfied: matplotlib>=2.1.2 in /usr/local/lib/python3.6/dist-packages (from pdpbox) (3.0.3)\n",
      "Requirement already satisfied: psutil in /usr/local/lib/python3.6/dist-packages (from pdpbox) (5.4.8)\n",
      "Requirement already satisfied: numpy in /usr/local/lib/python3.6/dist-packages (from pdpbox) (1.16.4)\n",
      "Requirement already satisfied: pandas in /usr/local/lib/python3.6/dist-packages (from pdpbox) (0.24.2)\n",
      "Requirement already satisfied: joblib in /usr/local/lib/python3.6/dist-packages (from pdpbox) (0.13.2)\n",
      "Requirement already satisfied: scipy in /usr/local/lib/python3.6/dist-packages (from pdpbox) (1.3.0)\n",
      "Requirement already satisfied: python-dateutil>=2.1 in /usr/local/lib/python3.6/dist-packages (from matplotlib>=2.1.2->pdpbox) (2.5.3)\n",
      "Requirement already satisfied: cycler>=0.10 in /usr/local/lib/python3.6/dist-packages (from matplotlib>=2.1.2->pdpbox) (0.10.0)\n",
      "Requirement already satisfied: pyparsing!=2.0.4,!=2.1.2,!=2.1.6,>=2.0.1 in /usr/local/lib/python3.6/dist-packages (from matplotlib>=2.1.2->pdpbox) (2.4.0)\n",
      "Requirement already satisfied: kiwisolver>=1.0.1 in /usr/local/lib/python3.6/dist-packages (from matplotlib>=2.1.2->pdpbox) (1.1.0)\n",
      "Requirement already satisfied: pytz>=2011k in /usr/local/lib/python3.6/dist-packages (from pandas->pdpbox) (2018.9)\n",
      "Requirement already satisfied: six>=1.5 in /usr/local/lib/python3.6/dist-packages (from python-dateutil>=2.1->matplotlib>=2.1.2->pdpbox) (1.12.0)\n",
      "Requirement already satisfied: setuptools in /usr/local/lib/python3.6/dist-packages (from kiwisolver>=1.0.1->matplotlib>=2.1.2->pdpbox) (41.0.1)\n"
     ]
    }
   ],
   "source": [
    "# !pip install pdpbox"
   ]
  },
  {
   "cell_type": "code",
   "execution_count": 15,
   "metadata": {
    "colab": {},
    "colab_type": "code",
    "id": "lu9j0319UWs2"
   },
   "outputs": [],
   "source": [
    "from pdpbox import pdp"
   ]
  },
  {
   "cell_type": "code",
   "execution_count": null,
   "metadata": {},
   "outputs": [],
   "source": [
    "# cross validate model performance\n",
    "def train_test_split(df, xcols, ycol, train_size_f = 0.75, shuffle_bool = False):\n",
    "    train_size = int(df.shape[0] * train_size_f)\n",
    "    if shuffle_bool:\n",
    "        df_model = shuffle(df)\n",
    "    else:\n",
    "        df_model = df.copy()\n",
    "    X, y = df_model[xcols], df_model[ycol]\n",
    "    X_train, X_test = split_vals(X, train_size)\n",
    "    y_train, y_test = split_vals(y, train_size)\n",
    "    return X_train, X_test, y_train, y_test\n"
   ]
  },
  {
   "cell_type": "code",
   "execution_count": 24,
   "metadata": {
    "colab": {
     "base_uri": "https://localhost:8080/",
     "height": 145
    },
    "colab_type": "code",
    "id": "G9mX_szrUWs5",
    "outputId": "7091cc40-05f5-4064-e1ff-ab366fcead81"
   },
   "outputs": [
    {
     "data": {
      "text/plain": [
       "RandomForestRegressor(bootstrap=True, criterion='mse', max_depth=28,\n",
       "           max_features=0.5, max_leaf_nodes=None,\n",
       "           min_impurity_decrease=0.0, min_impurity_split=None,\n",
       "           min_samples_leaf=1, min_samples_split=2,\n",
       "           min_weight_fraction_leaf=0.0, n_estimators=300, n_jobs=-1,\n",
       "           oob_score=True, random_state=1, verbose=0, warm_start=False)"
      ]
     },
     "execution_count": 24,
     "metadata": {},
     "output_type": "execute_result"
    },
    {
     "data": {
      "text/plain": [
       "[906.3946447753998,\n",
       " 2362.2097366929747,\n",
       " 0.9955063177478658,\n",
       " 0.970770498840017,\n",
       " 0.9672578729075567]"
      ]
     },
     "execution_count": 24,
     "metadata": {},
     "output_type": "execute_result"
    }
   ],
   "source": [
    "m = RandomForestRegressor(n_estimators=300, max_depth=28, max_features=0.5, oob_score= True, random_state=1, n_jobs  = -1)\n",
    "xcols2 = xcols.copy()\n",
    "xcols2.remove('count_Elapsed')  # remove count_Elapsed to better capture the effects of time\n",
    "X_train, X_test, y_train, y_test = train_test_split(df, xcols, ycol, shuffle_bool=True)\n",
    "m.fit(X_train, y_train)\n",
    "r = get_scores(m, X_train, X_test, y_train, y_test)\n",
    "r"
   ]
  },
  {
   "cell_type": "code",
   "execution_count": 26,
   "metadata": {},
   "outputs": [
    {
     "data": {
      "text/plain": [
       "RandomForestRegressor(bootstrap=True, criterion='mse', max_depth=28,\n",
       "           max_features=0.5, max_leaf_nodes=None,\n",
       "           min_impurity_decrease=0.0, min_impurity_split=None,\n",
       "           min_samples_leaf=1, min_samples_split=2,\n",
       "           min_weight_fraction_leaf=0.0, n_estimators=300, n_jobs=-1,\n",
       "           oob_score=True, random_state=1, verbose=0, warm_start=False)"
      ]
     },
     "execution_count": 26,
     "metadata": {},
     "output_type": "execute_result"
    },
    {
     "data": {
      "text/plain": [
       "0.9734445510332033"
      ]
     },
     "execution_count": 26,
     "metadata": {},
     "output_type": "execute_result"
    }
   ],
   "source": [
    "# train on the full dataset\n",
    "m.fit(df[xcols2], df[ycol])\n",
    "m.oob_score_"
   ]
  },
  {
   "cell_type": "code",
   "execution_count": 27,
   "metadata": {
    "colab": {
     "base_uri": "https://localhost:8080/",
     "height": 604
    },
    "colab_type": "code",
    "id": "YKR9vsaDUWs_",
    "outputId": "69329416-482d-46c9-d28f-aa03ee200fad"
   },
   "outputs": [
    {
     "data": {
      "image/png": "[encoded data removed]",
      "text/plain": [
       "<Figure size 1080x684 with 2 Axes>"
      ]
     },
     "metadata": {
      "needs_background": "light"
     },
     "output_type": "display_data"
    }
   ],
   "source": [
    "pdp_year = pdp.pdp_isolate(\n",
    "    model=m, dataset=df[xcols2], model_features=xcols2, feature='count_Year'\n",
    ")\n",
    "fig, axes = pdp.pdp_plot(pdp_year, 'count_Year')\n"
   ]
  },
  {
   "cell_type": "code",
   "execution_count": 28,
   "metadata": {},
   "outputs": [],
   "source": [
    "fig.savefig(r'images/pdp_plot.png')"
   ]
  },
  {
   "cell_type": "code",
   "execution_count": 19,
   "metadata": {
    "colab": {
     "base_uri": "https://localhost:8080/",
     "height": 604
    },
    "colab_type": "code",
    "id": "3QBfhKogUWtH",
    "outputId": "9f9da0f7-7c1f-4456-d47b-3aee11fc960c",
    "scrolled": true
   },
   "outputs": [
    {
     "data": {
      "image/png": "[encoded data removed]",
      "text/plain": [
       "<Figure size 1080x684 with 4 Axes>"
      ]
     },
     "metadata": {
      "needs_background": "light"
     },
     "output_type": "display_data"
    }
   ],
   "source": [
    "pdp_year = pdp.pdp_isolate(\n",
    "    model=m, dataset=df[xcols2], model_features=xcols2, feature='count_Year'\n",
    ")\n",
    "fig, axes = pdp.pdp_plot(\n",
    "    pdp_year, 'count_Year', plot_lines=True, frac_to_plot=100, x_quantile=True, \n",
    "    plot_pts_dist=True, show_percentile=True\n",
    ")"
   ]
  }
 ],
 "metadata": {
  "colab": {
   "collapsed_sections": [],
   "name": "6_predictive_modelling.ipynb",
   "provenance": [],
   "version": "0.3.2"
  },
  "kernelspec": {
   "display_name": "Python 3",
   "language": "python",
   "name": "python3"
  },
  "language_info": {
   "codemirror_mode": {
    "name": "ipython",
    "version": 3
   },
   "file_extension": ".py",
   "mimetype": "text/x-python",
   "name": "python",
   "nbconvert_exporter": "python",
   "pygments_lexer": "ipython3",
   "version": "3.7.3"
  },
  "toc": {
   "base_numbering": 1,
   "nav_menu": {},
   "number_sections": true,
   "sideBar": true,
   "skip_h1_title": false,
   "title_cell": "Table of Contents",
   "title_sidebar": "Contents",
   "toc_cell": false,
   "toc_position": {},
   "toc_section_display": true,
   "toc_window_display": false
  }
 },
 "nbformat": 4,
 "nbformat_minor": 1
}
