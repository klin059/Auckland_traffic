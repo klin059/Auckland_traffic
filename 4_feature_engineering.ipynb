{
 "cells": [
  {
   "cell_type": "code",
   "execution_count": 1,
   "metadata": {},
   "outputs": [],
   "source": [
    "%reload_ext autoreload\n",
    "%autoreload 2\n",
    "%matplotlib inline\n",
    "# %qtconsole\n",
    "\n",
    "from IPython.core.interactiveshell import InteractiveShell\n",
    "InteractiveShell.ast_node_interactivity = \"all\"\n",
    "\n",
    "from IPython.display import display\n",
    "def display_all(df):\n",
    "    with pd.option_context(\"display.max_rows\", 1000): \n",
    "        with pd.option_context(\"display.max_columns\", 1000): \n",
    "            display(df)\n",
    "\t\t\t\n",
    "import pandas as pd\n",
    "import numpy as np\n",
    "from pathlib import Path\t\t\n",
    "\n",
    "import warnings\n",
    "warnings.filterwarnings('ignore')\n",
    "# warnings.filterwarnings(action='once')"
   ]
  },
  {
   "cell_type": "code",
   "execution_count": 2,
   "metadata": {},
   "outputs": [],
   "source": [
    "import matplotlib.pyplot as plt\n",
    "import seaborn as sns\n",
    "import sklearn"
   ]
  },
  {
   "cell_type": "code",
   "execution_count": 20,
   "metadata": {},
   "outputs": [
    {
     "data": {
      "text/html": [
       "<div>\n",
       "<style scoped>\n",
       "    .dataframe tbody tr th:only-of-type {\n",
       "        vertical-align: middle;\n",
       "    }\n",
       "\n",
       "    .dataframe tbody tr th {\n",
       "        vertical-align: top;\n",
       "    }\n",
       "\n",
       "    .dataframe thead th {\n",
       "        text-align: right;\n",
       "    }\n",
       "</style>\n",
       "<table border=\"1\" class=\"dataframe\">\n",
       "  <thead>\n",
       "    <tr style=\"text-align: right;\">\n",
       "      <th></th>\n",
       "      <th>count_date</th>\n",
       "      <th>road_name</th>\n",
       "      <th>adt</th>\n",
       "      <th>latitude</th>\n",
       "      <th>longitude</th>\n",
       "      <th>sampling_count</th>\n",
       "    </tr>\n",
       "  </thead>\n",
       "  <tbody>\n",
       "    <tr>\n",
       "      <th>0</th>\n",
       "      <td>1974-07-12</td>\n",
       "      <td>COLWILL RD</td>\n",
       "      <td>125.0</td>\n",
       "      <td>-36.832191</td>\n",
       "      <td>174.636777</td>\n",
       "      <td>3</td>\n",
       "    </tr>\n",
       "    <tr>\n",
       "      <th>1</th>\n",
       "      <td>1974-08-11</td>\n",
       "      <td>HOBSONVILLE RD</td>\n",
       "      <td>1900.0</td>\n",
       "      <td>-36.803623</td>\n",
       "      <td>174.638971</td>\n",
       "      <td>22</td>\n",
       "    </tr>\n",
       "    <tr>\n",
       "      <th>2</th>\n",
       "      <td>1974-08-11</td>\n",
       "      <td>HOBSONVILLE RD</td>\n",
       "      <td>2853.0</td>\n",
       "      <td>-36.797016</td>\n",
       "      <td>174.650038</td>\n",
       "      <td>1</td>\n",
       "    </tr>\n",
       "    <tr>\n",
       "      <th>3</th>\n",
       "      <td>1974-08-11</td>\n",
       "      <td>TAIKATA RD</td>\n",
       "      <td>2490.0</td>\n",
       "      <td>-36.841192</td>\n",
       "      <td>174.651345</td>\n",
       "      <td>1</td>\n",
       "    </tr>\n",
       "    <tr>\n",
       "      <th>4</th>\n",
       "      <td>1974-08-11</td>\n",
       "      <td>GLORIA AVE</td>\n",
       "      <td>1823.0</td>\n",
       "      <td>-36.848881</td>\n",
       "      <td>174.650064</td>\n",
       "      <td>5</td>\n",
       "    </tr>\n",
       "  </tbody>\n",
       "</table>\n",
       "</div>"
      ],
      "text/plain": [
       "  count_date       road_name     adt   latitude   longitude  sampling_count\n",
       "0 1974-07-12      COLWILL RD   125.0 -36.832191  174.636777               3\n",
       "1 1974-08-11  HOBSONVILLE RD  1900.0 -36.803623  174.638971              22\n",
       "2 1974-08-11  HOBSONVILLE RD  2853.0 -36.797016  174.650038               1\n",
       "3 1974-08-11      TAIKATA RD  2490.0 -36.841192  174.651345               1\n",
       "4 1974-08-11      GLORIA AVE  1823.0 -36.848881  174.650064               5"
      ]
     },
     "execution_count": 20,
     "metadata": {},
     "output_type": "execute_result"
    }
   ],
   "source": [
    "df = pd.read_csv(r'data/merged_date_v2.csv', parse_dates = ['count_date'])\n",
    "df.head()"
   ]
  },
  {
   "cell_type": "code",
   "execution_count": 18,
   "metadata": {},
   "outputs": [],
   "source": [
    "import re\n",
    "def add_datepart(df, fldname, drop=True, time=False, errors=\"raise\"):\t\n",
    "\n",
    "    fld = df[fldname]\n",
    "    fld_dtype = fld.dtype\n",
    "    if isinstance(fld_dtype, pd.core.dtypes.dtypes.DatetimeTZDtype):\n",
    "        fld_dtype = np.datetime64\n",
    "\n",
    "    if not np.issubdtype(fld_dtype, np.datetime64):\n",
    "        df[fldname] = fld = pd.to_datetime(fld, infer_datetime_format=True, errors=errors)\n",
    "    targ_pre = re.sub('[Dd]ate$', '', fldname)\n",
    "    attr = ['Dayofweek', 'Dayofyear']\n",
    "#     'Year', 'Month', 'Week', 'Day',\n",
    "#             'Is_month_end', 'Is_month_start', 'Is_quarter_end', 'Is_quarter_start', 'Is_year_end', 'Is_year_start']\n",
    "    if time: attr = attr + ['Hour', 'Minute', 'Second']\n",
    "    for n in attr: df[targ_pre + n] = getattr(fld.dt, n.lower())\n",
    "    df[targ_pre + 'Elapsed'] = fld.astype(np.int64) // 10 ** 9\n",
    "    if drop: df.drop(fldname, axis=1, inplace=True)"
   ]
  },
  {
   "cell_type": "code",
   "execution_count": 21,
   "metadata": {},
   "outputs": [],
   "source": [
    "# add date parts\n",
    "# df.reset_index(inplace = True)\n",
    "add_datepart(df, 'count_date')"
   ]
  },
  {
   "cell_type": "code",
   "execution_count": 22,
   "metadata": {},
   "outputs": [],
   "source": [
    "df['road_name_code'] = df['road_name'].astype('category').cat.codes.astype('category')\n"
   ]
  },
  {
   "cell_type": "code",
   "execution_count": 14,
   "metadata": {},
   "outputs": [
    {
     "data": {
      "text/plain": [
       "Index(['road_name', 'adt', 'latitude', 'longitude', 'sampling_count',\n",
       "       'count_Year', 'count_Month', 'count_Week', 'count_Day',\n",
       "       'count_Dayofweek', 'count_Dayofyear', 'count_Elapsed',\n",
       "       'road_name_code'],\n",
       "      dtype='object')"
      ]
     },
     "execution_count": 14,
     "metadata": {},
     "output_type": "execute_result"
    }
   ],
   "source": [
    "df.columns"
   ]
  },
  {
   "cell_type": "code",
   "execution_count": 23,
   "metadata": {},
   "outputs": [
    {
     "data": {
      "text/html": [
       "<div>\n",
       "<style scoped>\n",
       "    .dataframe tbody tr th:only-of-type {\n",
       "        vertical-align: middle;\n",
       "    }\n",
       "\n",
       "    .dataframe tbody tr th {\n",
       "        vertical-align: top;\n",
       "    }\n",
       "\n",
       "    .dataframe thead th {\n",
       "        text-align: right;\n",
       "    }\n",
       "</style>\n",
       "<table border=\"1\" class=\"dataframe\">\n",
       "  <thead>\n",
       "    <tr style=\"text-align: right;\">\n",
       "      <th></th>\n",
       "      <th>road_name</th>\n",
       "      <th>adt</th>\n",
       "      <th>latitude</th>\n",
       "      <th>longitude</th>\n",
       "      <th>sampling_count</th>\n",
       "      <th>count_Dayofweek</th>\n",
       "      <th>count_Dayofyear</th>\n",
       "      <th>count_Elapsed</th>\n",
       "      <th>road_name_code</th>\n",
       "    </tr>\n",
       "  </thead>\n",
       "  <tbody>\n",
       "    <tr>\n",
       "      <th>0</th>\n",
       "      <td>COLWILL RD</td>\n",
       "      <td>125.0</td>\n",
       "      <td>-36.832191</td>\n",
       "      <td>174.636777</td>\n",
       "      <td>3</td>\n",
       "      <td>4</td>\n",
       "      <td>193</td>\n",
       "      <td>142819200</td>\n",
       "      <td>774</td>\n",
       "    </tr>\n",
       "    <tr>\n",
       "      <th>1</th>\n",
       "      <td>HOBSONVILLE RD</td>\n",
       "      <td>1900.0</td>\n",
       "      <td>-36.803623</td>\n",
       "      <td>174.638971</td>\n",
       "      <td>22</td>\n",
       "      <td>6</td>\n",
       "      <td>223</td>\n",
       "      <td>145411200</td>\n",
       "      <td>1695</td>\n",
       "    </tr>\n",
       "    <tr>\n",
       "      <th>2</th>\n",
       "      <td>HOBSONVILLE RD</td>\n",
       "      <td>2853.0</td>\n",
       "      <td>-36.797016</td>\n",
       "      <td>174.650038</td>\n",
       "      <td>1</td>\n",
       "      <td>6</td>\n",
       "      <td>223</td>\n",
       "      <td>145411200</td>\n",
       "      <td>1695</td>\n",
       "    </tr>\n",
       "    <tr>\n",
       "      <th>3</th>\n",
       "      <td>TAIKATA RD</td>\n",
       "      <td>2490.0</td>\n",
       "      <td>-36.841192</td>\n",
       "      <td>174.651345</td>\n",
       "      <td>1</td>\n",
       "      <td>6</td>\n",
       "      <td>223</td>\n",
       "      <td>145411200</td>\n",
       "      <td>3628</td>\n",
       "    </tr>\n",
       "    <tr>\n",
       "      <th>4</th>\n",
       "      <td>GLORIA AVE</td>\n",
       "      <td>1823.0</td>\n",
       "      <td>-36.848881</td>\n",
       "      <td>174.650064</td>\n",
       "      <td>5</td>\n",
       "      <td>6</td>\n",
       "      <td>223</td>\n",
       "      <td>145411200</td>\n",
       "      <td>1365</td>\n",
       "    </tr>\n",
       "  </tbody>\n",
       "</table>\n",
       "</div>"
      ],
      "text/plain": [
       "        road_name     adt   latitude   longitude  sampling_count  \\\n",
       "0      COLWILL RD   125.0 -36.832191  174.636777               3   \n",
       "1  HOBSONVILLE RD  1900.0 -36.803623  174.638971              22   \n",
       "2  HOBSONVILLE RD  2853.0 -36.797016  174.650038               1   \n",
       "3      TAIKATA RD  2490.0 -36.841192  174.651345               1   \n",
       "4      GLORIA AVE  1823.0 -36.848881  174.650064               5   \n",
       "\n",
       "   count_Dayofweek  count_Dayofyear  count_Elapsed road_name_code  \n",
       "0                4              193      142819200            774  \n",
       "1                6              223      145411200           1695  \n",
       "2                6              223      145411200           1695  \n",
       "3                6              223      145411200           3628  \n",
       "4                6              223      145411200           1365  "
      ]
     },
     "execution_count": 23,
     "metadata": {},
     "output_type": "execute_result"
    }
   ],
   "source": [
    "df.head()"
   ]
  },
  {
   "cell_type": "code",
   "execution_count": 29,
   "metadata": {},
   "outputs": [],
   "source": [
    "xcols = [col for col in df.columns]\n",
    "xcols.remove('adt')\n",
    "xcols.remove('road_name')\n",
    "ycol = 'adt'"
   ]
  },
  {
   "cell_type": "code",
   "execution_count": 25,
   "metadata": {},
   "outputs": [],
   "source": [
    "# train test split\n",
    "from sklearn.model_selection import RepeatedKFold\n",
    "from sklearn.ensemble import RandomForestRegressor\n",
    "import math"
   ]
  },
  {
   "cell_type": "code",
   "execution_count": 26,
   "metadata": {},
   "outputs": [],
   "source": [
    "def rmse(x,y): \n",
    "    # calculates r^2\n",
    "    return math.sqrt(np.square(np.subtract(x,y)).mean())\n",
    "def get_scores(m, X_train, X_valid, y_train, y_valid):\n",
    "    # returns rmsq training, r^2 validation, avg accuracy training, avg accuracy validation, oob\n",
    "    res = [rmse(m.predict(X_train), y_train), rmse(m.predict(X_valid), y_valid),\n",
    "                m.score(X_train, y_train), m.score(X_valid, y_valid)]\n",
    "    if hasattr(m, 'oob_score_'): \n",
    "        res.append(m.oob_score_)\n",
    "    return res\n",
    "\n",
    "def KFold_fit_regression_fit(model, X, y, splits = 5, repeats = 10, random_state = None):\n",
    "    folds = RepeatedKFold(n_splits = splits, n_repeats = repeats, random_state = random_state)\n",
    "#     predicted_solution = []\n",
    "#     correct_solution = []\n",
    "    results = []\n",
    "    for train_ind, test_ind in folds.split(X, y):\n",
    "        X_train, X_test = X.iloc[train_ind,:], X.iloc[test_ind,:]\n",
    "        y_train, y_test = y[train_ind], y[test_ind]\n",
    "        model.fit(X_train, y_train)\n",
    "        r = get_scores(model,X_train, X_test, y_train, y_test)\n",
    "#         predicted_solution += list(model.predict(X_test))\n",
    "#         correct_solution += list(y_test)\n",
    "        results.append(r)\n",
    "    return np.vstack(results)\n"
   ]
  },
  {
   "cell_type": "markdown",
   "metadata": {},
   "source": [
    "# Use oob for model selection and parameter tuning"
   ]
  },
  {
   "cell_type": "code",
   "execution_count": null,
   "metadata": {},
   "outputs": [],
   "source": [
    "xcols = [col for col in df.columns]\n",
    "xcols.remove('adt')\n",
    "xcols.remove('road_name')\n",
    "ycol = 'adt'"
   ]
  },
  {
   "cell_type": "code",
   "execution_count": 37,
   "metadata": {},
   "outputs": [],
   "source": [
    "# def functions for training\n",
    "from sklearn.utils import shuffle\n",
    "def split_vals(df, n):\n",
    "    return df[:n].copy(), df[n:].copy()\n",
    "\n",
    "def train_test_split(df, xcols, ycol, train_size_f = 0.75, shuffle_bool = True):\n",
    "    train_size = int(df.shape[0] * train_size_f)\n",
    "    if shuffle_bool:\n",
    "        df_model = shuffle(df)\n",
    "    X, y = df_model[xcols], df_model[ycol]\n",
    "    X_train, X_test = split_vals(X, train_size)\n",
    "    y_train, y_test = split_vals(y, train_size)\n",
    "    return X_train, X_test, y_train, y_test\n",
    "def rf_feat_importance(m, df):\n",
    "    return pd.DataFrame({'cols':df.columns, 'imp':m.feature_importances_}\n",
    "                       ).sort_values('imp', ascending=False)"
   ]
  },
  {
   "cell_type": "code",
   "execution_count": 42,
   "metadata": {},
   "outputs": [
    {
     "data": {
      "text/plain": [
       "RandomForestRegressor(bootstrap=True, criterion='mse', max_depth=38,\n",
       "           max_features=0.9, max_leaf_nodes=None,\n",
       "           min_impurity_decrease=0.0, min_impurity_split=None,\n",
       "           min_samples_leaf=3, min_samples_split=2,\n",
       "           min_weight_fraction_leaf=0.0, n_estimators=300, n_jobs=3,\n",
       "           oob_score=True, random_state=1, verbose=0, warm_start=False)"
      ]
     },
     "execution_count": 42,
     "metadata": {},
     "output_type": "execute_result"
    },
    {
     "data": {
      "text/plain": [
       "0.7671413957104946"
      ]
     },
     "execution_count": 42,
     "metadata": {},
     "output_type": "execute_result"
    },
    {
     "data": {
      "text/plain": [
       "0.9205339668021487"
      ]
     },
     "execution_count": 42,
     "metadata": {},
     "output_type": "execute_result"
    },
    {
     "data": {
      "text/html": [
       "<div>\n",
       "<style scoped>\n",
       "    .dataframe tbody tr th:only-of-type {\n",
       "        vertical-align: middle;\n",
       "    }\n",
       "\n",
       "    .dataframe tbody tr th {\n",
       "        vertical-align: top;\n",
       "    }\n",
       "\n",
       "    .dataframe thead th {\n",
       "        text-align: right;\n",
       "    }\n",
       "</style>\n",
       "<table border=\"1\" class=\"dataframe\">\n",
       "  <thead>\n",
       "    <tr style=\"text-align: right;\">\n",
       "      <th></th>\n",
       "      <th>cols</th>\n",
       "      <th>imp</th>\n",
       "    </tr>\n",
       "  </thead>\n",
       "  <tbody>\n",
       "    <tr>\n",
       "      <th>1</th>\n",
       "      <td>longitude</td>\n",
       "      <td>0.274751</td>\n",
       "    </tr>\n",
       "    <tr>\n",
       "      <th>0</th>\n",
       "      <td>latitude</td>\n",
       "      <td>0.234276</td>\n",
       "    </tr>\n",
       "    <tr>\n",
       "      <th>6</th>\n",
       "      <td>road_name_code</td>\n",
       "      <td>0.183604</td>\n",
       "    </tr>\n",
       "    <tr>\n",
       "      <th>5</th>\n",
       "      <td>count_Elapsed</td>\n",
       "      <td>0.129411</td>\n",
       "    </tr>\n",
       "    <tr>\n",
       "      <th>2</th>\n",
       "      <td>sampling_count</td>\n",
       "      <td>0.104521</td>\n",
       "    </tr>\n",
       "    <tr>\n",
       "      <th>4</th>\n",
       "      <td>count_Dayofyear</td>\n",
       "      <td>0.054910</td>\n",
       "    </tr>\n",
       "    <tr>\n",
       "      <th>3</th>\n",
       "      <td>count_Dayofweek</td>\n",
       "      <td>0.018527</td>\n",
       "    </tr>\n",
       "  </tbody>\n",
       "</table>\n",
       "</div>"
      ],
      "text/plain": [
       "              cols       imp\n",
       "1        longitude  0.274751\n",
       "0         latitude  0.234276\n",
       "6   road_name_code  0.183604\n",
       "5    count_Elapsed  0.129411\n",
       "2   sampling_count  0.104521\n",
       "4  count_Dayofyear  0.054910\n",
       "3  count_Dayofweek  0.018527"
      ]
     },
     "execution_count": 42,
     "metadata": {},
     "output_type": "execute_result"
    }
   ],
   "source": [
    "X_train, X_test, y_train, y_test = train_test_split(df, xcols, ycol)\n",
    "m = RandomForestRegressor(n_estimators=300, max_depth=38, min_samples_leaf = 3, max_features=0.9, oob_score= True, random_state=1, n_jobs  = 3)\n",
    "m.fit(X_train, y_train)\n",
    "m.oob_score_\n",
    "m.score(X_train, y_train)\n",
    "rf_feat_importance(m, X_train)"
   ]
  },
  {
   "cell_type": "markdown",
   "metadata": {},
   "source": [
    "road_name_code is importance suggesting historical adt is useful"
   ]
  },
  {
   "cell_type": "code",
   "execution_count": 45,
   "metadata": {},
   "outputs": [],
   "source": [
    "# test the importance of sampling count... turns out it accounts of around 3% r2\n",
    "xcols.remove('sampling_count')  "
   ]
  },
  {
   "cell_type": "code",
   "execution_count": 46,
   "metadata": {
    "scrolled": true
   },
   "outputs": [
    {
     "data": {
      "text/plain": [
       "RandomForestRegressor(bootstrap=True, criterion='mse', max_depth=38,\n",
       "           max_features=0.9, max_leaf_nodes=None,\n",
       "           min_impurity_decrease=0.0, min_impurity_split=None,\n",
       "           min_samples_leaf=3, min_samples_split=2,\n",
       "           min_weight_fraction_leaf=0.0, n_estimators=300, n_jobs=3,\n",
       "           oob_score=True, random_state=1, verbose=0, warm_start=False)"
      ]
     },
     "execution_count": 46,
     "metadata": {},
     "output_type": "execute_result"
    },
    {
     "data": {
      "text/plain": [
       "0.7364324736830238"
      ]
     },
     "execution_count": 46,
     "metadata": {},
     "output_type": "execute_result"
    },
    {
     "data": {
      "text/plain": [
       "0.9094650460961808"
      ]
     },
     "execution_count": 46,
     "metadata": {},
     "output_type": "execute_result"
    },
    {
     "data": {
      "text/html": [
       "<div>\n",
       "<style scoped>\n",
       "    .dataframe tbody tr th:only-of-type {\n",
       "        vertical-align: middle;\n",
       "    }\n",
       "\n",
       "    .dataframe tbody tr th {\n",
       "        vertical-align: top;\n",
       "    }\n",
       "\n",
       "    .dataframe thead th {\n",
       "        text-align: right;\n",
       "    }\n",
       "</style>\n",
       "<table border=\"1\" class=\"dataframe\">\n",
       "  <thead>\n",
       "    <tr style=\"text-align: right;\">\n",
       "      <th></th>\n",
       "      <th>cols</th>\n",
       "      <th>imp</th>\n",
       "    </tr>\n",
       "  </thead>\n",
       "  <tbody>\n",
       "    <tr>\n",
       "      <th>1</th>\n",
       "      <td>longitude</td>\n",
       "      <td>0.288583</td>\n",
       "    </tr>\n",
       "    <tr>\n",
       "      <th>0</th>\n",
       "      <td>latitude</td>\n",
       "      <td>0.256955</td>\n",
       "    </tr>\n",
       "    <tr>\n",
       "      <th>5</th>\n",
       "      <td>road_name_code</td>\n",
       "      <td>0.179428</td>\n",
       "    </tr>\n",
       "    <tr>\n",
       "      <th>4</th>\n",
       "      <td>count_Elapsed</td>\n",
       "      <td>0.165474</td>\n",
       "    </tr>\n",
       "    <tr>\n",
       "      <th>3</th>\n",
       "      <td>count_Dayofyear</td>\n",
       "      <td>0.070973</td>\n",
       "    </tr>\n",
       "    <tr>\n",
       "      <th>2</th>\n",
       "      <td>count_Dayofweek</td>\n",
       "      <td>0.038587</td>\n",
       "    </tr>\n",
       "  </tbody>\n",
       "</table>\n",
       "</div>"
      ],
      "text/plain": [
       "              cols       imp\n",
       "1        longitude  0.288583\n",
       "0         latitude  0.256955\n",
       "5   road_name_code  0.179428\n",
       "4    count_Elapsed  0.165474\n",
       "3  count_Dayofyear  0.070973\n",
       "2  count_Dayofweek  0.038587"
      ]
     },
     "execution_count": 46,
     "metadata": {},
     "output_type": "execute_result"
    }
   ],
   "source": [
    "X_train, X_test, y_train, y_test = train_test_split(df, xcols, ycol)\n",
    "m = RandomForestRegressor(n_estimators=300, max_depth=38, min_samples_leaf = 3, max_features=0.9, oob_score= True, random_state=1, n_jobs  = 3)\n",
    "m.fit(X_train, y_train)\n",
    "m.oob_score_\n",
    "m.score(X_train, y_train)\n",
    "rf_feat_importance(m, X_train)"
   ]
  },
  {
   "cell_type": "code",
   "execution_count": 49,
   "metadata": {},
   "outputs": [],
   "source": [
    "xcols.append('sampling_count')"
   ]
  },
  {
   "cell_type": "markdown",
   "metadata": {},
   "source": [
    "## Try xgboost (to do)"
   ]
  },
  {
   "cell_type": "code",
   "execution_count": null,
   "metadata": {},
   "outputs": [],
   "source": [
    "from xgboost import XGBRegressor\n",
    "# xgboost cannot handle categorical features\n"
   ]
  },
  {
   "cell_type": "code",
   "execution_count": null,
   "metadata": {},
   "outputs": [],
   "source": [
    "# X_train, X_test, y_train, y_test = train_test_split(df, xcols, ycol)\n",
    "# m = RandomForestRegressor(n_estimators=300, max_depth=38, min_samples_leaf = 3, max_features=0.9, oob_score= True, random_state=1, n_jobs  = 3)\n",
    "# m.fit(X_train, y_train)\n",
    "# m.oob_score_\n",
    "# m.score(X_train, y_train)\n",
    "# rf_feat_importance(m, X_train)"
   ]
  },
  {
   "cell_type": "markdown",
   "metadata": {},
   "source": [
    "# Build a pipeline"
   ]
  },
  {
   "cell_type": "code",
   "execution_count": 30,
   "metadata": {},
   "outputs": [
    {
     "data": {
      "text/html": [
       "<div>\n",
       "<style scoped>\n",
       "    .dataframe tbody tr th:only-of-type {\n",
       "        vertical-align: middle;\n",
       "    }\n",
       "\n",
       "    .dataframe tbody tr th {\n",
       "        vertical-align: top;\n",
       "    }\n",
       "\n",
       "    .dataframe thead th {\n",
       "        text-align: right;\n",
       "    }\n",
       "</style>\n",
       "<table border=\"1\" class=\"dataframe\">\n",
       "  <thead>\n",
       "    <tr style=\"text-align: right;\">\n",
       "      <th></th>\n",
       "      <th>latitude</th>\n",
       "      <th>longitude</th>\n",
       "      <th>sampling_count</th>\n",
       "      <th>count_Dayofweek</th>\n",
       "      <th>count_Dayofyear</th>\n",
       "      <th>count_Elapsed</th>\n",
       "      <th>road_name_code</th>\n",
       "    </tr>\n",
       "  </thead>\n",
       "  <tbody>\n",
       "    <tr>\n",
       "      <th>5887</th>\n",
       "      <td>-36.790134</td>\n",
       "      <td>174.774364</td>\n",
       "      <td>1</td>\n",
       "      <td>5</td>\n",
       "      <td>212</td>\n",
       "      <td>1280534400</td>\n",
       "      <td>424</td>\n",
       "    </tr>\n",
       "    <tr>\n",
       "      <th>4867</th>\n",
       "      <td>-36.699220</td>\n",
       "      <td>174.477619</td>\n",
       "      <td>1</td>\n",
       "      <td>0</td>\n",
       "      <td>159</td>\n",
       "      <td>1244419200</td>\n",
       "      <td>2704</td>\n",
       "    </tr>\n",
       "    <tr>\n",
       "      <th>7929</th>\n",
       "      <td>-36.750481</td>\n",
       "      <td>174.712383</td>\n",
       "      <td>2</td>\n",
       "      <td>2</td>\n",
       "      <td>53</td>\n",
       "      <td>1329868800</td>\n",
       "      <td>2903</td>\n",
       "    </tr>\n",
       "    <tr>\n",
       "      <th>11104</th>\n",
       "      <td>-36.860191</td>\n",
       "      <td>174.622051</td>\n",
       "      <td>3</td>\n",
       "      <td>2</td>\n",
       "      <td>56</td>\n",
       "      <td>1424822400</td>\n",
       "      <td>3124</td>\n",
       "    </tr>\n",
       "    <tr>\n",
       "      <th>12088</th>\n",
       "      <td>-36.913403</td>\n",
       "      <td>174.696521</td>\n",
       "      <td>1</td>\n",
       "      <td>1</td>\n",
       "      <td>223</td>\n",
       "      <td>1439251200</td>\n",
       "      <td>3692</td>\n",
       "    </tr>\n",
       "  </tbody>\n",
       "</table>\n",
       "</div>"
      ],
      "text/plain": [
       "        latitude   longitude  sampling_count  count_Dayofweek  \\\n",
       "5887  -36.790134  174.774364               1                5   \n",
       "4867  -36.699220  174.477619               1                0   \n",
       "7929  -36.750481  174.712383               2                2   \n",
       "11104 -36.860191  174.622051               3                2   \n",
       "12088 -36.913403  174.696521               1                1   \n",
       "\n",
       "       count_Dayofyear  count_Elapsed road_name_code  \n",
       "5887               212     1280534400            424  \n",
       "4867               159     1244419200           2704  \n",
       "7929                53     1329868800           2903  \n",
       "11104               56     1424822400           3124  \n",
       "12088              223     1439251200           3692  "
      ]
     },
     "execution_count": 30,
     "metadata": {},
     "output_type": "execute_result"
    }
   ],
   "source": [
    "from sklearn.utils import shuffle\n",
    "def split_vals(df, n):\n",
    "    return df[:n].copy(), df[n:].copy()\n",
    "train_size = int(df.shape[0]*0.75)\n",
    "df_model = shuffle(df)\n",
    "X, y = df_model[xcols], df_model[ycol]\n",
    "X_train, X_test = split_vals(X, train_size)\n",
    "y_train, y_test = split_vals(y, train_size)\n",
    "\n",
    "X_train.head()"
   ]
  },
  {
   "cell_type": "code",
   "execution_count": 31,
   "metadata": {},
   "outputs": [
    {
     "data": {
      "text/plain": [
       "RandomForestRegressor(bootstrap=True, criterion='mse', max_depth=38,\n",
       "           max_features=0.9, max_leaf_nodes=None,\n",
       "           min_impurity_decrease=0.0, min_impurity_split=None,\n",
       "           min_samples_leaf=3, min_samples_split=2,\n",
       "           min_weight_fraction_leaf=0.0, n_estimators=150, n_jobs=3,\n",
       "           oob_score=True, random_state=1, verbose=0, warm_start=False)"
      ]
     },
     "execution_count": 31,
     "metadata": {},
     "output_type": "execute_result"
    },
    {
     "data": {
      "text/plain": [
       "0.7687079297634299"
      ]
     },
     "execution_count": 31,
     "metadata": {},
     "output_type": "execute_result"
    },
    {
     "data": {
      "text/plain": [
       "0.9218888270673289"
      ]
     },
     "execution_count": 31,
     "metadata": {},
     "output_type": "execute_result"
    }
   ],
   "source": [
    "m = RandomForestRegressor (n_estimators=150, max_depth=38, min_samples_leaf = 3, max_features=0.9, oob_score= True, random_state=1, n_jobs  = 3)\n",
    "m.fit(X_train, y_train)\n",
    "m.oob_score_\n",
    "m.score(X_train, y_train)"
   ]
  },
  {
   "cell_type": "code",
   "execution_count": 41,
   "metadata": {},
   "outputs": [
    {
     "data": {
      "text/html": [
       "<div>\n",
       "<style scoped>\n",
       "    .dataframe tbody tr th:only-of-type {\n",
       "        vertical-align: middle;\n",
       "    }\n",
       "\n",
       "    .dataframe tbody tr th {\n",
       "        vertical-align: top;\n",
       "    }\n",
       "\n",
       "    .dataframe thead th {\n",
       "        text-align: right;\n",
       "    }\n",
       "</style>\n",
       "<table border=\"1\" class=\"dataframe\">\n",
       "  <thead>\n",
       "    <tr style=\"text-align: right;\">\n",
       "      <th></th>\n",
       "      <th>cols</th>\n",
       "      <th>imp</th>\n",
       "    </tr>\n",
       "  </thead>\n",
       "  <tbody>\n",
       "    <tr>\n",
       "      <th>1</th>\n",
       "      <td>longitude</td>\n",
       "      <td>0.269128</td>\n",
       "    </tr>\n",
       "    <tr>\n",
       "      <th>0</th>\n",
       "      <td>latitude</td>\n",
       "      <td>0.239715</td>\n",
       "    </tr>\n",
       "    <tr>\n",
       "      <th>6</th>\n",
       "      <td>road_name_code</td>\n",
       "      <td>0.181724</td>\n",
       "    </tr>\n",
       "    <tr>\n",
       "      <th>5</th>\n",
       "      <td>count_Elapsed</td>\n",
       "      <td>0.125266</td>\n",
       "    </tr>\n",
       "    <tr>\n",
       "      <th>2</th>\n",
       "      <td>sampling_count</td>\n",
       "      <td>0.109020</td>\n",
       "    </tr>\n",
       "    <tr>\n",
       "      <th>4</th>\n",
       "      <td>count_Dayofyear</td>\n",
       "      <td>0.056220</td>\n",
       "    </tr>\n",
       "    <tr>\n",
       "      <th>3</th>\n",
       "      <td>count_Dayofweek</td>\n",
       "      <td>0.018927</td>\n",
       "    </tr>\n",
       "  </tbody>\n",
       "</table>\n",
       "</div>"
      ],
      "text/plain": [
       "              cols       imp\n",
       "1        longitude  0.269128\n",
       "0         latitude  0.239715\n",
       "6   road_name_code  0.181724\n",
       "5    count_Elapsed  0.125266\n",
       "2   sampling_count  0.109020\n",
       "4  count_Dayofyear  0.056220\n",
       "3  count_Dayofweek  0.018927"
      ]
     },
     "execution_count": 41,
     "metadata": {},
     "output_type": "execute_result"
    }
   ],
   "source": [
    "\n",
    "imp = rf_feat_importance(m, X_train)\n",
    "imp"
   ]
  },
  {
   "cell_type": "markdown",
   "metadata": {},
   "source": [
    "# Feature engineering"
   ]
  },
  {
   "cell_type": "markdown",
   "metadata": {},
   "source": [
    "- rotate coordinates\n",
    "- out of fold prediction of adt based on (longitude, latitude, count_dat_columns)\n",
    "- out of fold sampling count  \n",
    "- later add \n",
    "    - historical maximum adt of the coordinate - impute missing values by out of fold prediction"
   ]
  },
  {
   "cell_type": "code",
   "execution_count": 47,
   "metadata": {
    "scrolled": true
   },
   "outputs": [
    {
     "data": {
      "text/html": [
       "<div>\n",
       "<style scoped>\n",
       "    .dataframe tbody tr th:only-of-type {\n",
       "        vertical-align: middle;\n",
       "    }\n",
       "\n",
       "    .dataframe tbody tr th {\n",
       "        vertical-align: top;\n",
       "    }\n",
       "\n",
       "    .dataframe thead th {\n",
       "        text-align: right;\n",
       "    }\n",
       "</style>\n",
       "<table border=\"1\" class=\"dataframe\">\n",
       "  <thead>\n",
       "    <tr style=\"text-align: right;\">\n",
       "      <th></th>\n",
       "      <th>road_name</th>\n",
       "      <th>adt</th>\n",
       "      <th>latitude</th>\n",
       "      <th>longitude</th>\n",
       "      <th>sampling_count</th>\n",
       "      <th>count_Dayofweek</th>\n",
       "      <th>count_Dayofyear</th>\n",
       "      <th>count_Elapsed</th>\n",
       "      <th>road_name_code</th>\n",
       "    </tr>\n",
       "  </thead>\n",
       "  <tbody>\n",
       "    <tr>\n",
       "      <th>0</th>\n",
       "      <td>COLWILL RD</td>\n",
       "      <td>125.0</td>\n",
       "      <td>-36.832191</td>\n",
       "      <td>174.636777</td>\n",
       "      <td>3</td>\n",
       "      <td>4</td>\n",
       "      <td>193</td>\n",
       "      <td>142819200</td>\n",
       "      <td>774</td>\n",
       "    </tr>\n",
       "    <tr>\n",
       "      <th>1</th>\n",
       "      <td>HOBSONVILLE RD</td>\n",
       "      <td>1900.0</td>\n",
       "      <td>-36.803623</td>\n",
       "      <td>174.638971</td>\n",
       "      <td>22</td>\n",
       "      <td>6</td>\n",
       "      <td>223</td>\n",
       "      <td>145411200</td>\n",
       "      <td>1695</td>\n",
       "    </tr>\n",
       "    <tr>\n",
       "      <th>2</th>\n",
       "      <td>HOBSONVILLE RD</td>\n",
       "      <td>2853.0</td>\n",
       "      <td>-36.797016</td>\n",
       "      <td>174.650038</td>\n",
       "      <td>1</td>\n",
       "      <td>6</td>\n",
       "      <td>223</td>\n",
       "      <td>145411200</td>\n",
       "      <td>1695</td>\n",
       "    </tr>\n",
       "    <tr>\n",
       "      <th>3</th>\n",
       "      <td>TAIKATA RD</td>\n",
       "      <td>2490.0</td>\n",
       "      <td>-36.841192</td>\n",
       "      <td>174.651345</td>\n",
       "      <td>1</td>\n",
       "      <td>6</td>\n",
       "      <td>223</td>\n",
       "      <td>145411200</td>\n",
       "      <td>3628</td>\n",
       "    </tr>\n",
       "    <tr>\n",
       "      <th>4</th>\n",
       "      <td>GLORIA AVE</td>\n",
       "      <td>1823.0</td>\n",
       "      <td>-36.848881</td>\n",
       "      <td>174.650064</td>\n",
       "      <td>5</td>\n",
       "      <td>6</td>\n",
       "      <td>223</td>\n",
       "      <td>145411200</td>\n",
       "      <td>1365</td>\n",
       "    </tr>\n",
       "  </tbody>\n",
       "</table>\n",
       "</div>"
      ],
      "text/plain": [
       "        road_name     adt   latitude   longitude  sampling_count  \\\n",
       "0      COLWILL RD   125.0 -36.832191  174.636777               3   \n",
       "1  HOBSONVILLE RD  1900.0 -36.803623  174.638971              22   \n",
       "2  HOBSONVILLE RD  2853.0 -36.797016  174.650038               1   \n",
       "3      TAIKATA RD  2490.0 -36.841192  174.651345               1   \n",
       "4      GLORIA AVE  1823.0 -36.848881  174.650064               5   \n",
       "\n",
       "   count_Dayofweek  count_Dayofyear  count_Elapsed road_name_code  \n",
       "0                4              193      142819200            774  \n",
       "1                6              223      145411200           1695  \n",
       "2                6              223      145411200           1695  \n",
       "3                6              223      145411200           3628  \n",
       "4                6              223      145411200           1365  "
      ]
     },
     "execution_count": 47,
     "metadata": {},
     "output_type": "execute_result"
    }
   ],
   "source": [
    "df.head()"
   ]
  },
  {
   "cell_type": "code",
   "execution_count": null,
   "metadata": {},
   "outputs": [],
   "source": []
  },
  {
   "cell_type": "markdown",
   "metadata": {},
   "source": [
    "## feature engineering - rotate coordinates"
   ]
  },
  {
   "cell_type": "code",
   "execution_count": 50,
   "metadata": {},
   "outputs": [],
   "source": [
    "X_train, X_test, y_train, y_test = train_test_split(df, xcols, ycol)"
   ]
  },
  {
   "cell_type": "code",
   "execution_count": 53,
   "metadata": {},
   "outputs": [],
   "source": [
    "from math import cos, sin, radians"
   ]
  },
  {
   "cell_type": "code",
   "execution_count": 57,
   "metadata": {},
   "outputs": [],
   "source": [
    "def rotate_coordinate(df):\n",
    "    df['x45'] = df['longitude']*cos(radians(45))\n",
    "    df['y45'] = df['latitude']*sin(radians(45))\n"
   ]
  },
  {
   "cell_type": "code",
   "execution_count": 59,
   "metadata": {},
   "outputs": [
    {
     "data": {
      "text/html": [
       "<div>\n",
       "<style scoped>\n",
       "    .dataframe tbody tr th:only-of-type {\n",
       "        vertical-align: middle;\n",
       "    }\n",
       "\n",
       "    .dataframe tbody tr th {\n",
       "        vertical-align: top;\n",
       "    }\n",
       "\n",
       "    .dataframe thead th {\n",
       "        text-align: right;\n",
       "    }\n",
       "</style>\n",
       "<table border=\"1\" class=\"dataframe\">\n",
       "  <thead>\n",
       "    <tr style=\"text-align: right;\">\n",
       "      <th></th>\n",
       "      <th>latitude</th>\n",
       "      <th>longitude</th>\n",
       "      <th>count_Dayofweek</th>\n",
       "      <th>count_Dayofyear</th>\n",
       "      <th>count_Elapsed</th>\n",
       "      <th>road_name_code</th>\n",
       "      <th>sampling_count</th>\n",
       "      <th>x45</th>\n",
       "      <th>y45</th>\n",
       "    </tr>\n",
       "  </thead>\n",
       "  <tbody>\n",
       "    <tr>\n",
       "      <th>14473</th>\n",
       "      <td>-37.006716</td>\n",
       "      <td>174.867709</td>\n",
       "      <td>1</td>\n",
       "      <td>229</td>\n",
       "      <td>1471305600</td>\n",
       "      <td>194</td>\n",
       "      <td>5</td>\n",
       "      <td>123.650143</td>\n",
       "      <td>-26.167700</td>\n",
       "    </tr>\n",
       "    <tr>\n",
       "      <th>15303</th>\n",
       "      <td>-36.973956</td>\n",
       "      <td>174.856618</td>\n",
       "      <td>0</td>\n",
       "      <td>326</td>\n",
       "      <td>1479686400</td>\n",
       "      <td>2017</td>\n",
       "      <td>5</td>\n",
       "      <td>123.642301</td>\n",
       "      <td>-26.144535</td>\n",
       "    </tr>\n",
       "    <tr>\n",
       "      <th>6032</th>\n",
       "      <td>-36.377890</td>\n",
       "      <td>174.453290</td>\n",
       "      <td>4</td>\n",
       "      <td>253</td>\n",
       "      <td>1284076800</td>\n",
       "      <td>3669</td>\n",
       "      <td>2</td>\n",
       "      <td>123.357104</td>\n",
       "      <td>-25.723053</td>\n",
       "    </tr>\n",
       "    <tr>\n",
       "      <th>3061</th>\n",
       "      <td>-36.900546</td>\n",
       "      <td>174.682847</td>\n",
       "      <td>5</td>\n",
       "      <td>72</td>\n",
       "      <td>921283200</td>\n",
       "      <td>3122</td>\n",
       "      <td>1</td>\n",
       "      <td>123.519426</td>\n",
       "      <td>-26.092626</td>\n",
       "    </tr>\n",
       "    <tr>\n",
       "      <th>6193</th>\n",
       "      <td>-36.600021</td>\n",
       "      <td>174.651242</td>\n",
       "      <td>2</td>\n",
       "      <td>300</td>\n",
       "      <td>1288137600</td>\n",
       "      <td>3968</td>\n",
       "      <td>1</td>\n",
       "      <td>123.497078</td>\n",
       "      <td>-25.880123</td>\n",
       "    </tr>\n",
       "  </tbody>\n",
       "</table>\n",
       "</div>"
      ],
      "text/plain": [
       "        latitude   longitude  count_Dayofweek  count_Dayofyear  count_Elapsed  \\\n",
       "14473 -37.006716  174.867709                1              229     1471305600   \n",
       "15303 -36.973956  174.856618                0              326     1479686400   \n",
       "6032  -36.377890  174.453290                4              253     1284076800   \n",
       "3061  -36.900546  174.682847                5               72      921283200   \n",
       "6193  -36.600021  174.651242                2              300     1288137600   \n",
       "\n",
       "      road_name_code  sampling_count         x45        y45  \n",
       "14473            194               5  123.650143 -26.167700  \n",
       "15303           2017               5  123.642301 -26.144535  \n",
       "6032            3669               2  123.357104 -25.723053  \n",
       "3061            3122               1  123.519426 -26.092626  \n",
       "6193            3968               1  123.497078 -25.880123  "
      ]
     },
     "execution_count": 59,
     "metadata": {},
     "output_type": "execute_result"
    }
   ],
   "source": [
    "test = X_train.copy()\n",
    "rotate_coordinate(test)\n",
    "test.head()"
   ]
  },
  {
   "cell_type": "markdown",
   "metadata": {},
   "source": [
    "## feature engineering - create grid label"
   ]
  },
  {
   "cell_type": "code",
   "execution_count": 74,
   "metadata": {},
   "outputs": [
    {
     "name": "stdout",
     "output_type": "stream",
     "text": [
      "-57.23805453591322 -4.651237442931668 174.24555715399708 176.1516334349757\n"
     ]
    }
   ],
   "source": [
    "max_lat = df['latitude'].max()\n",
    "min_lat = df['latitude'].min()\n",
    "max_long = df['longitude'].max()\n",
    "min_long = df['longitude'].min()\n",
    "print(min_lat, max_lat, min_long, max_long)\n",
    "# one latitude is about 111 kms\n",
    "# one longitutde is"
   ]
  },
  {
   "cell_type": "code",
   "execution_count": 85,
   "metadata": {},
   "outputs": [],
   "source": [
    "lat_steps = np.linspace(min_lat, max_lat, num = 50)\n",
    "long_steps = np.linspace(min_long, max_long, num = 50)"
   ]
  },
  {
   "cell_type": "code",
   "execution_count": 86,
   "metadata": {},
   "outputs": [
    {
     "data": {
      "text/plain": [
       "array([-57.23805454, -56.16485419, -55.09165384, -54.01845349,\n",
       "       -52.94525314, -51.87205279, -50.79885244, -49.72565209,\n",
       "       -48.65245175, -47.5792514 , -46.50605105, -45.4328507 ,\n",
       "       -44.35965035, -43.28645   , -42.21324965, -41.1400493 ,\n",
       "       -40.06684895, -38.99364861, -37.92044826, -36.84724791,\n",
       "       -35.77404756, -34.70084721, -33.62764686, -32.55444651,\n",
       "       -31.48124616, -30.40804582, -29.33484547, -28.26164512,\n",
       "       -27.18844477, -26.11524442, -25.04204407, -23.96884372,\n",
       "       -22.89564337, -21.82244302, -20.74924268, -19.67604233,\n",
       "       -18.60284198, -17.52964163, -16.45644128, -15.38324093,\n",
       "       -14.31004058, -13.23684023, -12.16363988, -11.09043954,\n",
       "       -10.01723919,  -8.94403884,  -7.87083849,  -6.79763814,\n",
       "        -5.72443779,  -4.65123744])"
      ]
     },
     "execution_count": 86,
     "metadata": {},
     "output_type": "execute_result"
    },
    {
     "data": {
      "text/plain": [
       "array([174.24555715, 174.28445667, 174.32335619, 174.3622557 ,\n",
       "       174.40115522, 174.44005473, 174.47895425, 174.51785377,\n",
       "       174.55675328, 174.5956528 , 174.63455231, 174.67345183,\n",
       "       174.71235135, 174.75125086, 174.79015038, 174.82904989,\n",
       "       174.86794941, 174.90684892, 174.94574844, 174.98464796,\n",
       "       175.02354747, 175.06244699, 175.1013465 , 175.14024602,\n",
       "       175.17914554, 175.21804505, 175.25694457, 175.29584408,\n",
       "       175.3347436 , 175.37364312, 175.41254263, 175.45144215,\n",
       "       175.49034166, 175.52924118, 175.5681407 , 175.60704021,\n",
       "       175.64593973, 175.68483924, 175.72373876, 175.76263828,\n",
       "       175.80153779, 175.84043731, 175.87933682, 175.91823634,\n",
       "       175.95713586, 175.99603537, 176.03493489, 176.0738344 ,\n",
       "       176.11273392, 176.15163343])"
      ]
     },
     "execution_count": 86,
     "metadata": {},
     "output_type": "execute_result"
    }
   ],
   "source": [
    "lat_steps\n",
    "long_steps"
   ]
  },
  {
   "cell_type": "code",
   "execution_count": null,
   "metadata": {},
   "outputs": [],
   "source": [
    "def create_latitude_label(row):\n",
    "    # say (-47.5792514, 175.21804505)\n",
    "    for ind, item in enumerate(lat_step):\n",
    "        label = ind+1\n",
    "        \n",
    "\n",
    "\n",
    "def create_longitude_label(row):\n",
    "    pass\n",
    "    \n",
    "    \n",
    "    \n",
    "    \n",
    "#     current_grid_label = 1\n",
    "#     for lat_ind, item in enumerate(lat_step):\n",
    "#         if ind == len(lat_stpe):\n",
    "#             break\n",
    "#         lat1 = item\n",
    "#         lat2 = lat_step[lat_ind+1]\n",
    "#         for long_ind, item2 in enumerate(long_step):\n",
    "#             if long_ind == len(long_step):\n",
    "#                 break\n",
    "#             long1 = item2\n",
    "#             long2 = long_step[long_ind+1]\n",
    "#             if row['latitude']"
   ]
  },
  {
   "cell_type": "code",
   "execution_count": null,
   "metadata": {},
   "outputs": [],
   "source": [
    "df['grid_label'] = "
   ]
  },
  {
   "cell_type": "code",
   "execution_count": 71,
   "metadata": {},
   "outputs": [
    {
     "ename": "IndexError",
     "evalue": "only integers, slices (`:`), ellipsis (`...`), numpy.newaxis (`None`) and integer or boolean arrays are valid indices",
     "output_type": "error",
     "traceback": [
      "\u001b[1;31m---------------------------------------------------------------------------\u001b[0m",
      "\u001b[1;31mIndexError\u001b[0m                                Traceback (most recent call last)",
      "\u001b[1;32m<ipython-input-71-3bf98d90d75c>\u001b[0m in \u001b[0;36m<module>\u001b[1;34m\u001b[0m\n\u001b[1;32m----> 1\u001b[1;33m \u001b[0mclustering\u001b[0m \u001b[1;33m=\u001b[0m \u001b[0mDBSCAN\u001b[0m\u001b[1;33m(\u001b[0m\u001b[0meps\u001b[0m \u001b[1;33m=\u001b[0m \u001b[1;36m2\u001b[0m\u001b[1;33m,\u001b[0m \u001b[0mmin_samples\u001b[0m \u001b[1;33m=\u001b[0m \u001b[1;36m3\u001b[0m\u001b[1;33m,\u001b[0m \u001b[0mmetric\u001b[0m \u001b[1;33m=\u001b[0m \u001b[0mdbscan_metric\u001b[0m\u001b[1;33m)\u001b[0m\u001b[1;33m.\u001b[0m\u001b[0mfit\u001b[0m\u001b[1;33m(\u001b[0m\u001b[0mX_train\u001b[0m\u001b[1;33m)\u001b[0m\u001b[1;33m\u001b[0m\u001b[1;33m\u001b[0m\u001b[0m\n\u001b[0m",
      "\u001b[1;32m~\\Anaconda3\\lib\\site-packages\\sklearn\\cluster\\dbscan_.py\u001b[0m in \u001b[0;36mfit\u001b[1;34m(self, X, y, sample_weight)\u001b[0m\n\u001b[0;32m    319\u001b[0m         \u001b[0mX\u001b[0m \u001b[1;33m=\u001b[0m \u001b[0mcheck_array\u001b[0m\u001b[1;33m(\u001b[0m\u001b[0mX\u001b[0m\u001b[1;33m,\u001b[0m \u001b[0maccept_sparse\u001b[0m\u001b[1;33m=\u001b[0m\u001b[1;34m'csr'\u001b[0m\u001b[1;33m)\u001b[0m\u001b[1;33m\u001b[0m\u001b[1;33m\u001b[0m\u001b[0m\n\u001b[0;32m    320\u001b[0m         clust = dbscan(X, sample_weight=sample_weight,\n\u001b[1;32m--> 321\u001b[1;33m                        **self.get_params())\n\u001b[0m\u001b[0;32m    322\u001b[0m         \u001b[0mself\u001b[0m\u001b[1;33m.\u001b[0m\u001b[0mcore_sample_indices_\u001b[0m\u001b[1;33m,\u001b[0m \u001b[0mself\u001b[0m\u001b[1;33m.\u001b[0m\u001b[0mlabels_\u001b[0m \u001b[1;33m=\u001b[0m \u001b[0mclust\u001b[0m\u001b[1;33m\u001b[0m\u001b[1;33m\u001b[0m\u001b[0m\n\u001b[0;32m    323\u001b[0m         \u001b[1;32mif\u001b[0m \u001b[0mlen\u001b[0m\u001b[1;33m(\u001b[0m\u001b[0mself\u001b[0m\u001b[1;33m.\u001b[0m\u001b[0mcore_sample_indices_\u001b[0m\u001b[1;33m)\u001b[0m\u001b[1;33m:\u001b[0m\u001b[1;33m\u001b[0m\u001b[1;33m\u001b[0m\u001b[0m\n",
      "\u001b[1;32m~\\Anaconda3\\lib\\site-packages\\sklearn\\cluster\\dbscan_.py\u001b[0m in \u001b[0;36mdbscan\u001b[1;34m(X, eps, min_samples, metric, metric_params, algorithm, leaf_size, p, sample_weight, n_jobs)\u001b[0m\n\u001b[0;32m    156\u001b[0m                                            \u001b[0mmetric_params\u001b[0m\u001b[1;33m=\u001b[0m\u001b[0mmetric_params\u001b[0m\u001b[1;33m,\u001b[0m \u001b[0mp\u001b[0m\u001b[1;33m=\u001b[0m\u001b[0mp\u001b[0m\u001b[1;33m,\u001b[0m\u001b[1;33m\u001b[0m\u001b[1;33m\u001b[0m\u001b[0m\n\u001b[0;32m    157\u001b[0m                                            n_jobs=n_jobs)\n\u001b[1;32m--> 158\u001b[1;33m         \u001b[0mneighbors_model\u001b[0m\u001b[1;33m.\u001b[0m\u001b[0mfit\u001b[0m\u001b[1;33m(\u001b[0m\u001b[0mX\u001b[0m\u001b[1;33m)\u001b[0m\u001b[1;33m\u001b[0m\u001b[1;33m\u001b[0m\u001b[0m\n\u001b[0m\u001b[0;32m    159\u001b[0m         \u001b[1;31m# This has worst case O(n^2) memory complexity\u001b[0m\u001b[1;33m\u001b[0m\u001b[1;33m\u001b[0m\u001b[1;33m\u001b[0m\u001b[0m\n\u001b[0;32m    160\u001b[0m         neighborhoods = neighbors_model.radius_neighbors(X, eps,\n",
      "\u001b[1;32m~\\Anaconda3\\lib\\site-packages\\sklearn\\neighbors\\base.py\u001b[0m in \u001b[0;36mfit\u001b[1;34m(self, X, y)\u001b[0m\n\u001b[0;32m    927\u001b[0m             \u001b[1;32mor\u001b[0m \u001b[1;33m[\u001b[0m\u001b[0mn_samples\u001b[0m\u001b[1;33m,\u001b[0m \u001b[0mn_samples\u001b[0m\u001b[1;33m]\u001b[0m \u001b[1;32mif\u001b[0m \u001b[0mmetric\u001b[0m\u001b[1;33m=\u001b[0m\u001b[1;34m'precomputed'\u001b[0m\u001b[1;33m.\u001b[0m\u001b[1;33m\u001b[0m\u001b[1;33m\u001b[0m\u001b[0m\n\u001b[0;32m    928\u001b[0m         \"\"\"\n\u001b[1;32m--> 929\u001b[1;33m         \u001b[1;32mreturn\u001b[0m \u001b[0mself\u001b[0m\u001b[1;33m.\u001b[0m\u001b[0m_fit\u001b[0m\u001b[1;33m(\u001b[0m\u001b[0mX\u001b[0m\u001b[1;33m)\u001b[0m\u001b[1;33m\u001b[0m\u001b[1;33m\u001b[0m\u001b[0m\n\u001b[0m",
      "\u001b[1;32m~\\Anaconda3\\lib\\site-packages\\sklearn\\neighbors\\base.py\u001b[0m in \u001b[0;36m_fit\u001b[1;34m(self, X)\u001b[0m\n\u001b[0;32m    252\u001b[0m             self._tree = BallTree(X, self.leaf_size,\n\u001b[0;32m    253\u001b[0m                                   \u001b[0mmetric\u001b[0m\u001b[1;33m=\u001b[0m\u001b[0mself\u001b[0m\u001b[1;33m.\u001b[0m\u001b[0meffective_metric_\u001b[0m\u001b[1;33m,\u001b[0m\u001b[1;33m\u001b[0m\u001b[1;33m\u001b[0m\u001b[0m\n\u001b[1;32m--> 254\u001b[1;33m                                   **self.effective_metric_params_)\n\u001b[0m\u001b[0;32m    255\u001b[0m         \u001b[1;32melif\u001b[0m \u001b[0mself\u001b[0m\u001b[1;33m.\u001b[0m\u001b[0m_fit_method\u001b[0m \u001b[1;33m==\u001b[0m \u001b[1;34m'kd_tree'\u001b[0m\u001b[1;33m:\u001b[0m\u001b[1;33m\u001b[0m\u001b[1;33m\u001b[0m\u001b[0m\n\u001b[0;32m    256\u001b[0m             self._tree = KDTree(X, self.leaf_size,\n",
      "\u001b[1;32msklearn\\neighbors\\binary_tree.pxi\u001b[0m in \u001b[0;36msklearn.neighbors.ball_tree.BinaryTree.__init__\u001b[1;34m()\u001b[0m\n",
      "\u001b[1;32msklearn\\neighbors\\binary_tree.pxi\u001b[0m in \u001b[0;36msklearn.neighbors.ball_tree.BinaryTree._recursive_build\u001b[1;34m()\u001b[0m\n",
      "\u001b[1;32msklearn\\neighbors\\ball_tree.pyx\u001b[0m in \u001b[0;36msklearn.neighbors.ball_tree.init_node\u001b[1;34m()\u001b[0m\n",
      "\u001b[1;32msklearn\\neighbors\\binary_tree.pxi\u001b[0m in \u001b[0;36msklearn.neighbors.ball_tree.BinaryTree.rdist\u001b[1;34m()\u001b[0m\n",
      "\u001b[1;32msklearn\\neighbors\\dist_metrics.pyx\u001b[0m in \u001b[0;36msklearn.neighbors.dist_metrics.DistanceMetric.rdist\u001b[1;34m()\u001b[0m\n",
      "\u001b[1;32msklearn\\neighbors\\dist_metrics.pyx\u001b[0m in \u001b[0;36msklearn.neighbors.dist_metrics.PyFuncDistance.dist\u001b[1;34m()\u001b[0m\n",
      "\u001b[1;32msklearn\\neighbors\\dist_metrics.pyx\u001b[0m in \u001b[0;36msklearn.neighbors.dist_metrics.PyFuncDistance._dist\u001b[1;34m()\u001b[0m\n",
      "\u001b[1;32m<ipython-input-69-36082f55ad92>\u001b[0m in \u001b[0;36mdbscan_metric\u001b[1;34m(v1, v2)\u001b[0m\n\u001b[0;32m     12\u001b[0m     \u001b[1;32mreturn\u001b[0m \u001b[0md\u001b[0m\u001b[1;33m\u001b[0m\u001b[1;33m\u001b[0m\u001b[0m\n\u001b[0;32m     13\u001b[0m \u001b[1;32mdef\u001b[0m \u001b[0mdbscan_metric\u001b[0m\u001b[1;33m(\u001b[0m\u001b[0mv1\u001b[0m\u001b[1;33m,\u001b[0m \u001b[0mv2\u001b[0m\u001b[1;33m)\u001b[0m\u001b[1;33m:\u001b[0m\u001b[1;33m\u001b[0m\u001b[1;33m\u001b[0m\u001b[0m\n\u001b[1;32m---> 14\u001b[1;33m     \u001b[0mdist\u001b[0m \u001b[1;33m=\u001b[0m \u001b[0mhaversine\u001b[0m\u001b[1;33m(\u001b[0m\u001b[0mv1\u001b[0m\u001b[1;33m[\u001b[0m\u001b[1;34m'latitude'\u001b[0m\u001b[1;33m]\u001b[0m\u001b[1;33m,\u001b[0m \u001b[0mv1\u001b[0m\u001b[1;33m[\u001b[0m\u001b[1;34m'longitutde'\u001b[0m\u001b[1;33m]\u001b[0m\u001b[1;33m,\u001b[0m \u001b[0mv2\u001b[0m\u001b[1;33m[\u001b[0m\u001b[1;34m'latitude'\u001b[0m\u001b[1;33m]\u001b[0m\u001b[1;33m,\u001b[0m \u001b[0mv2\u001b[0m\u001b[1;33m[\u001b[0m\u001b[1;34m'longitutde'\u001b[0m\u001b[1;33m]\u001b[0m\u001b[1;33m)\u001b[0m\u001b[1;33m\u001b[0m\u001b[1;33m\u001b[0m\u001b[0m\n\u001b[0m\u001b[0;32m     15\u001b[0m     \u001b[0mvolume\u001b[0m \u001b[1;33m=\u001b[0m \u001b[0masb\u001b[0m\u001b[1;33m(\u001b[0m\u001b[0mv1\u001b[0m\u001b[1;33m-\u001b[0m\u001b[0mv2\u001b[0m\u001b[1;33m)\u001b[0m\u001b[1;33m/\u001b[0m\u001b[1;36m1000\u001b[0m\u001b[1;33m\u001b[0m\u001b[1;33m\u001b[0m\u001b[0m\n\u001b[0;32m     16\u001b[0m     \u001b[1;32mreturn\u001b[0m \u001b[0mnp\u001b[0m\u001b[1;33m.\u001b[0m\u001b[0mlinalg\u001b[0m\u001b[1;33m.\u001b[0m\u001b[0mnorm\u001b[0m\u001b[1;33m(\u001b[0m\u001b[1;33m[\u001b[0m\u001b[0mdist\u001b[0m\u001b[1;33m,\u001b[0m \u001b[0mvolume\u001b[0m\u001b[1;33m]\u001b[0m\u001b[1;33m)\u001b[0m\u001b[1;33m\u001b[0m\u001b[1;33m\u001b[0m\u001b[0m\n",
      "\u001b[1;31mIndexError\u001b[0m: only integers, slices (`:`), ellipsis (`...`), numpy.newaxis (`None`) and integer or boolean arrays are valid indices"
     ]
    }
   ],
   "source": [
    "clustering = DBSCAN(eps = 2, min_samples = 3, metric = dbscan_metric).fit(X_train)"
   ]
  },
  {
   "cell_type": "code",
   "execution_count": 67,
   "metadata": {},
   "outputs": [
    {
     "ename": "AttributeError",
     "evalue": "'DBSCAN' object has no attribute 'labels_'",
     "output_type": "error",
     "traceback": [
      "\u001b[1;31m---------------------------------------------------------------------------\u001b[0m",
      "\u001b[1;31mAttributeError\u001b[0m                            Traceback (most recent call last)",
      "\u001b[1;32m<ipython-input-67-2bf4c00d5813>\u001b[0m in \u001b[0;36m<module>\u001b[1;34m\u001b[0m\n\u001b[1;32m----> 1\u001b[1;33m \u001b[0mclustering\u001b[0m\u001b[1;33m.\u001b[0m\u001b[0mlabels_\u001b[0m\u001b[1;33m.\u001b[0m\u001b[0munique\u001b[0m\u001b[1;33m(\u001b[0m\u001b[1;33m)\u001b[0m\u001b[1;33m\u001b[0m\u001b[1;33m\u001b[0m\u001b[0m\n\u001b[0m",
      "\u001b[1;31mAttributeError\u001b[0m: 'DBSCAN' object has no attribute 'labels_'"
     ]
    }
   ],
   "source": [
    "clustering.labels_.unique()"
   ]
  },
  {
   "cell_type": "code",
   "execution_count": 60,
   "metadata": {},
   "outputs": [
    {
     "data": {
      "text/plain": [
       "8098.809197520319"
      ]
     },
     "execution_count": 60,
     "metadata": {},
     "output_type": "execute_result"
    }
   ],
   "source": [
    "df['adt'].std()"
   ]
  },
  {
   "cell_type": "code",
   "execution_count": 62,
   "metadata": {},
   "outputs": [
    {
     "data": {
      "text/plain": [
       "5.0"
      ]
     },
     "execution_count": 62,
     "metadata": {},
     "output_type": "execute_result"
    }
   ],
   "source": [
    "np.linalg.norm([3,4])"
   ]
  },
  {
   "cell_type": "code",
   "execution_count": null,
   "metadata": {},
   "outputs": [],
   "source": []
  },
  {
   "cell_type": "code",
   "execution_count": null,
   "metadata": {},
   "outputs": [],
   "source": []
  },
  {
   "cell_type": "code",
   "execution_count": null,
   "metadata": {},
   "outputs": [],
   "source": []
  },
  {
   "cell_type": "code",
   "execution_count": null,
   "metadata": {},
   "outputs": [],
   "source": []
  },
  {
   "cell_type": "code",
   "execution_count": null,
   "metadata": {},
   "outputs": [],
   "source": []
  },
  {
   "cell_type": "markdown",
   "metadata": {},
   "source": [
    "## feature engineering - distance to the highest adt in a grid"
   ]
  },
  {
   "cell_type": "code",
   "execution_count": null,
   "metadata": {},
   "outputs": [],
   "source": []
  },
  {
   "cell_type": "code",
   "execution_count": null,
   "metadata": {},
   "outputs": [],
   "source": [
    "cos"
   ]
  },
  {
   "cell_type": "code",
   "execution_count": 48,
   "metadata": {},
   "outputs": [
    {
     "ename": "ModuleNotFoundError",
     "evalue": "No module named 'mlxtend'",
     "output_type": "error",
     "traceback": [
      "\u001b[1;31m---------------------------------------------------------------------------\u001b[0m",
      "\u001b[1;31mModuleNotFoundError\u001b[0m                       Traceback (most recent call last)",
      "\u001b[1;32m<ipython-input-48-8896ca587baa>\u001b[0m in \u001b[0;36m<module>\u001b[1;34m\u001b[0m\n\u001b[1;32m----> 1\u001b[1;33m \u001b[1;32mfrom\u001b[0m \u001b[0mmlxtend\u001b[0m\u001b[1;33m.\u001b[0m\u001b[0mregressor\u001b[0m \u001b[1;32mimport\u001b[0m \u001b[0mStackingCVRegressor\u001b[0m\u001b[1;33m\u001b[0m\u001b[1;33m\u001b[0m\u001b[0m\n\u001b[0m\u001b[0;32m      2\u001b[0m \u001b[1;31m# generate out of fold prediction of adt\u001b[0m\u001b[1;33m\u001b[0m\u001b[1;33m\u001b[0m\u001b[1;33m\u001b[0m\u001b[0m\n\u001b[0;32m      3\u001b[0m \u001b[1;31m## first generate those for the train dataset\u001b[0m\u001b[1;33m\u001b[0m\u001b[1;33m\u001b[0m\u001b[1;33m\u001b[0m\u001b[0m\n\u001b[0;32m      4\u001b[0m \u001b[1;33m\u001b[0m\u001b[0m\n\u001b[0;32m      5\u001b[0m \u001b[1;31m## traom\u001b[0m\u001b[1;33m\u001b[0m\u001b[1;33m\u001b[0m\u001b[1;33m\u001b[0m\u001b[0m\n",
      "\u001b[1;31mModuleNotFoundError\u001b[0m: No module named 'mlxtend'"
     ]
    }
   ],
   "source": [
    "from mlxtend.regressor import StackingCVRegressor\n",
    "\n",
    "# generate out of fold prediction of adt\n",
    "## first generate those for the train dataset\n",
    "\n",
    "## traom"
   ]
  }
 ],
 "metadata": {
  "kernelspec": {
   "display_name": "Python 3",
   "language": "python",
   "name": "python3"
  },
  "language_info": {
   "codemirror_mode": {
    "name": "ipython",
    "version": 3
   },
   "file_extension": ".py",
   "mimetype": "text/x-python",
   "name": "python",
   "nbconvert_exporter": "python",
   "pygments_lexer": "ipython3",
   "version": "3.7.3"
  },
  "toc": {
   "base_numbering": 1,
   "nav_menu": {},
   "number_sections": true,
   "sideBar": true,
   "skip_h1_title": false,
   "title_cell": "Table of Contents",
   "title_sidebar": "Contents",
   "toc_cell": false,
   "toc_position": {
    "height": "calc(100% - 180px)",
    "left": "10px",
    "top": "150px",
    "width": "349.091px"
   },
   "toc_section_display": true,
   "toc_window_display": true
  }
 },
 "nbformat": 4,
 "nbformat_minor": 2
}
