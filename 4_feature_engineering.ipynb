{
 "cells": [
  {
   "cell_type": "code",
   "execution_count": 1,
   "metadata": {},
   "outputs": [],
   "source": [
    "%reload_ext autoreload\n",
    "%autoreload 2\n",
    "%matplotlib inline\n",
    "# %qtconsole\n",
    "\n",
    "from IPython.core.interactiveshell import InteractiveShell\n",
    "InteractiveShell.ast_node_interactivity = \"all\"\n",
    "\n",
    "from IPython.display import display\n",
    "def display_all(df):\n",
    "    with pd.option_context(\"display.max_rows\", 1000): \n",
    "        with pd.option_context(\"display.max_columns\", 1000): \n",
    "            display(df)\n",
    "\t\t\t\n",
    "import pandas as pd\n",
    "import numpy as np\n",
    "from pathlib import Path\t\t\n",
    "\n",
    "import warnings\n",
    "warnings.filterwarnings('ignore')\n",
    "# warnings.filterwarnings(action='once')"
   ]
  },
  {
   "cell_type": "code",
   "execution_count": 2,
   "metadata": {},
   "outputs": [],
   "source": [
    "import matplotlib.pyplot as plt\n",
    "import seaborn as sns\n",
    "import sklearn"
   ]
  },
  {
   "cell_type": "code",
   "execution_count": 3,
   "metadata": {},
   "outputs": [],
   "source": [
    "from datetime import datetime\n",
    "from dateutil.relativedelta import relativedelta"
   ]
  },
  {
   "cell_type": "code",
   "execution_count": 1,
   "metadata": {},
   "outputs": [
    {
     "ename": "NameError",
     "evalue": "name 'pd' is not defined",
     "output_type": "error",
     "traceback": [
      "\u001b[1;31m---------------------------------------------------------------------------\u001b[0m",
      "\u001b[1;31mNameError\u001b[0m                                 Traceback (most recent call last)",
      "\u001b[1;32m<ipython-input-1-afa2a820bd1e>\u001b[0m in \u001b[0;36m<module>\u001b[1;34m\u001b[0m\n\u001b[1;32m----> 1\u001b[1;33m \u001b[0mdf\u001b[0m \u001b[1;33m=\u001b[0m \u001b[0mpd\u001b[0m\u001b[1;33m.\u001b[0m\u001b[0mread_csv\u001b[0m\u001b[1;33m(\u001b[0m\u001b[1;34mr'data/merged_date_v2.csv'\u001b[0m\u001b[1;33m,\u001b[0m \u001b[0mparse_dates\u001b[0m \u001b[1;33m=\u001b[0m \u001b[1;33m[\u001b[0m\u001b[1;34m'count_date'\u001b[0m\u001b[1;33m]\u001b[0m\u001b[1;33m)\u001b[0m\u001b[1;33m\u001b[0m\u001b[1;33m\u001b[0m\u001b[0m\n\u001b[0m\u001b[0;32m      2\u001b[0m \u001b[0mdf\u001b[0m\u001b[1;33m.\u001b[0m\u001b[0msort_values\u001b[0m\u001b[1;33m(\u001b[0m\u001b[0mby\u001b[0m \u001b[1;33m=\u001b[0m \u001b[1;34m\"count_date\"\u001b[0m\u001b[1;33m,\u001b[0m \u001b[0minplace\u001b[0m \u001b[1;33m=\u001b[0m \u001b[1;32mTrue\u001b[0m\u001b[1;33m)\u001b[0m\u001b[1;33m\u001b[0m\u001b[1;33m\u001b[0m\u001b[0m\n\u001b[0;32m      3\u001b[0m \u001b[0mdf\u001b[0m\u001b[1;33m.\u001b[0m\u001b[0mhead\u001b[0m\u001b[1;33m(\u001b[0m\u001b[1;33m)\u001b[0m\u001b[1;33m\u001b[0m\u001b[1;33m\u001b[0m\u001b[0m\n\u001b[0;32m      4\u001b[0m \u001b[0mdf\u001b[0m\u001b[1;33m.\u001b[0m\u001b[0mtail\u001b[0m\u001b[1;33m(\u001b[0m\u001b[1;33m)\u001b[0m\u001b[1;33m\u001b[0m\u001b[1;33m\u001b[0m\u001b[0m\n",
      "\u001b[1;31mNameError\u001b[0m: name 'pd' is not defined"
     ]
    }
   ],
   "source": [
    "df = pd.read_csv(r'data/merged_date_v2.csv', parse_dates = ['count_date'])\n",
    "df.sort_values(by = \"count_date\", inplace = True)\n",
    "df.head()\n",
    "df.tail()"
   ]
  },
  {
   "cell_type": "code",
   "execution_count": 5,
   "metadata": {},
   "outputs": [],
   "source": [
    "import re\n",
    "def add_datepart(df, fldname, drop=False, time=False, errors=\"raise\"):\t\n",
    "\n",
    "    fld = df[fldname]\n",
    "    fld_dtype = fld.dtype\n",
    "    if isinstance(fld_dtype, pd.core.dtypes.dtypes.DatetimeTZDtype):\n",
    "        fld_dtype = np.datetime64\n",
    "\n",
    "    if not np.issubdtype(fld_dtype, np.datetime64):\n",
    "        df[fldname] = fld = pd.to_datetime(fld, infer_datetime_format=True, errors=errors)\n",
    "    targ_pre = re.sub('[Dd]ate$', '', fldname)\n",
    "    attr = ['Dayofweek', 'Dayofyear', 'Year', 'Month']\n",
    "#     , 'Week', 'Day',\n",
    "#             'Is_month_end', 'Is_month_start', 'Is_quarter_end', 'Is_quarter_start', 'Is_year_end', 'Is_year_start']\n",
    "    if time: attr = attr + ['Hour', 'Minute', 'Second']\n",
    "    for n in attr: df[targ_pre + n] = getattr(fld.dt, n.lower())\n",
    "    df[targ_pre + 'Elapsed'] = fld.astype(np.int64) // 10 ** 9\n",
    "    if drop: df.drop(fldname, axis=1, inplace=True)"
   ]
  },
  {
   "cell_type": "code",
   "execution_count": 6,
   "metadata": {},
   "outputs": [],
   "source": [
    "# add date parts\n",
    "# df.reset_index(inplace = True)\n",
    "add_datepart(df, 'count_date')"
   ]
  },
  {
   "cell_type": "code",
   "execution_count": 7,
   "metadata": {},
   "outputs": [],
   "source": [
    "df['road_name_code'] = df[['latitude', 'longitude']].astype('str').apply(\"_\".join, 1)\n",
    "df['road_name_code'] = df['road_name_code'].astype('category').cat.codes.astype('category')"
   ]
  },
  {
   "cell_type": "code",
   "execution_count": 8,
   "metadata": {},
   "outputs": [
    {
     "data": {
      "text/plain": [
       "[5406, 5707, 5063, 5983, 5427, ..., 13290, 7309, 11183, 5891, 653]\n",
       "Length: 13774\n",
       "Categories (13774, int64): [5406, 5707, 5063, 5983, ..., 7309, 11183, 5891, 653]"
      ]
     },
     "execution_count": 8,
     "metadata": {},
     "output_type": "execute_result"
    }
   ],
   "source": [
    "df['road_name_code'].unique()"
   ]
  },
  {
   "cell_type": "code",
   "execution_count": 9,
   "metadata": {},
   "outputs": [
    {
     "data": {
      "text/plain": [
       "Index(['count_date', 'road_name', 'adt', 'latitude', 'longitude',\n",
       "       'sampling_count', 'count_Dayofweek', 'count_Dayofyear', 'count_Year',\n",
       "       'count_Month', 'count_Elapsed', 'road_name_code'],\n",
       "      dtype='object')"
      ]
     },
     "execution_count": 9,
     "metadata": {},
     "output_type": "execute_result"
    }
   ],
   "source": [
    "df.columns"
   ]
  },
  {
   "cell_type": "code",
   "execution_count": 10,
   "metadata": {},
   "outputs": [
    {
     "data": {
      "text/html": [
       "<div>\n",
       "<style scoped>\n",
       "    .dataframe tbody tr th:only-of-type {\n",
       "        vertical-align: middle;\n",
       "    }\n",
       "\n",
       "    .dataframe tbody tr th {\n",
       "        vertical-align: top;\n",
       "    }\n",
       "\n",
       "    .dataframe thead th {\n",
       "        text-align: right;\n",
       "    }\n",
       "</style>\n",
       "<table border=\"1\" class=\"dataframe\">\n",
       "  <thead>\n",
       "    <tr style=\"text-align: right;\">\n",
       "      <th></th>\n",
       "      <th>count_date</th>\n",
       "      <th>road_name</th>\n",
       "      <th>adt</th>\n",
       "      <th>latitude</th>\n",
       "      <th>longitude</th>\n",
       "      <th>sampling_count</th>\n",
       "      <th>count_Dayofweek</th>\n",
       "      <th>count_Dayofyear</th>\n",
       "      <th>count_Year</th>\n",
       "      <th>count_Month</th>\n",
       "      <th>count_Elapsed</th>\n",
       "      <th>road_name_code</th>\n",
       "    </tr>\n",
       "  </thead>\n",
       "  <tbody>\n",
       "    <tr>\n",
       "      <th>0</th>\n",
       "      <td>1974-07-12</td>\n",
       "      <td>COLWILL RD</td>\n",
       "      <td>125.0</td>\n",
       "      <td>-36.832191</td>\n",
       "      <td>174.636777</td>\n",
       "      <td>3</td>\n",
       "      <td>4</td>\n",
       "      <td>193</td>\n",
       "      <td>1974</td>\n",
       "      <td>7</td>\n",
       "      <td>142819200</td>\n",
       "      <td>5406</td>\n",
       "    </tr>\n",
       "    <tr>\n",
       "      <th>10</th>\n",
       "      <td>1974-08-11</td>\n",
       "      <td>YEOVIL RD</td>\n",
       "      <td>2025.0</td>\n",
       "      <td>-36.844243</td>\n",
       "      <td>174.651030</td>\n",
       "      <td>7</td>\n",
       "      <td>6</td>\n",
       "      <td>223</td>\n",
       "      <td>1974</td>\n",
       "      <td>8</td>\n",
       "      <td>145411200</td>\n",
       "      <td>5707</td>\n",
       "    </tr>\n",
       "    <tr>\n",
       "      <th>8</th>\n",
       "      <td>1974-08-11</td>\n",
       "      <td>HOBSONVILLE RD</td>\n",
       "      <td>3900.0</td>\n",
       "      <td>-36.818111</td>\n",
       "      <td>174.615714</td>\n",
       "      <td>20</td>\n",
       "      <td>6</td>\n",
       "      <td>223</td>\n",
       "      <td>1974</td>\n",
       "      <td>8</td>\n",
       "      <td>145411200</td>\n",
       "      <td>5063</td>\n",
       "    </tr>\n",
       "    <tr>\n",
       "      <th>7</th>\n",
       "      <td>1974-08-11</td>\n",
       "      <td>KOTUKU ST</td>\n",
       "      <td>1700.0</td>\n",
       "      <td>-36.850907</td>\n",
       "      <td>174.648874</td>\n",
       "      <td>5</td>\n",
       "      <td>6</td>\n",
       "      <td>223</td>\n",
       "      <td>1974</td>\n",
       "      <td>8</td>\n",
       "      <td>145411200</td>\n",
       "      <td>5983</td>\n",
       "    </tr>\n",
       "    <tr>\n",
       "      <th>6</th>\n",
       "      <td>1974-08-11</td>\n",
       "      <td>TE ATATU RD</td>\n",
       "      <td>3733.0</td>\n",
       "      <td>-36.832667</td>\n",
       "      <td>174.648011</td>\n",
       "      <td>11</td>\n",
       "      <td>6</td>\n",
       "      <td>223</td>\n",
       "      <td>1974</td>\n",
       "      <td>8</td>\n",
       "      <td>145411200</td>\n",
       "      <td>5427</td>\n",
       "    </tr>\n",
       "  </tbody>\n",
       "</table>\n",
       "</div>"
      ],
      "text/plain": [
       "   count_date       road_name     adt   latitude   longitude  sampling_count  \\\n",
       "0  1974-07-12      COLWILL RD   125.0 -36.832191  174.636777               3   \n",
       "10 1974-08-11       YEOVIL RD  2025.0 -36.844243  174.651030               7   \n",
       "8  1974-08-11  HOBSONVILLE RD  3900.0 -36.818111  174.615714              20   \n",
       "7  1974-08-11       KOTUKU ST  1700.0 -36.850907  174.648874               5   \n",
       "6  1974-08-11     TE ATATU RD  3733.0 -36.832667  174.648011              11   \n",
       "\n",
       "    count_Dayofweek  count_Dayofyear  count_Year  count_Month  count_Elapsed  \\\n",
       "0                 4              193        1974            7      142819200   \n",
       "10                6              223        1974            8      145411200   \n",
       "8                 6              223        1974            8      145411200   \n",
       "7                 6              223        1974            8      145411200   \n",
       "6                 6              223        1974            8      145411200   \n",
       "\n",
       "   road_name_code  \n",
       "0            5406  \n",
       "10           5707  \n",
       "8            5063  \n",
       "7            5983  \n",
       "6            5427  "
      ]
     },
     "execution_count": 10,
     "metadata": {},
     "output_type": "execute_result"
    },
    {
     "name": "stdout",
     "output_type": "stream",
     "text": [
      "<class 'pandas.core.frame.DataFrame'>\n",
      "Int64Index: 20764 entries, 0 to 20763\n",
      "Data columns (total 12 columns):\n",
      "count_date         20764 non-null datetime64[ns]\n",
      "road_name          20764 non-null object\n",
      "adt                20764 non-null float64\n",
      "latitude           20764 non-null float64\n",
      "longitude          20764 non-null float64\n",
      "sampling_count     20764 non-null int64\n",
      "count_Dayofweek    20764 non-null int64\n",
      "count_Dayofyear    20764 non-null int64\n",
      "count_Year         20764 non-null int64\n",
      "count_Month        20764 non-null int64\n",
      "count_Elapsed      20764 non-null int64\n",
      "road_name_code     20764 non-null category\n",
      "dtypes: category(1), datetime64[ns](1), float64(3), int64(6), object(1)\n",
      "memory usage: 2.7+ MB\n"
     ]
    }
   ],
   "source": [
    "df.head()\n",
    "df.info()"
   ]
  },
  {
   "cell_type": "code",
   "execution_count": 11,
   "metadata": {},
   "outputs": [],
   "source": [
    "xcols = [col for col in df.columns]\n",
    "xcols.remove('adt')\n",
    "xcols.remove('road_name')\n",
    "ycol = 'adt'"
   ]
  },
  {
   "cell_type": "code",
   "execution_count": 12,
   "metadata": {},
   "outputs": [],
   "source": [
    "# train test split\n",
    "from sklearn.model_selection import RepeatedKFold\n",
    "from sklearn.ensemble import RandomForestRegressor\n",
    "import math"
   ]
  },
  {
   "cell_type": "code",
   "execution_count": 13,
   "metadata": {},
   "outputs": [],
   "source": [
    "def rmse(x,y): \n",
    "    # calculates r^2\n",
    "    return math.sqrt(np.square(np.subtract(x,y)).mean())\n",
    "def get_scores(m, X_train, X_valid, y_train, y_valid):\n",
    "    # returns rmsq training, r^2 validation, avg accuracy training, avg accuracy validation, oob\n",
    "    res = [rmse(m.predict(X_train), y_train), rmse(m.predict(X_valid), y_valid),\n",
    "                m.score(X_train, y_train), m.score(X_valid, y_valid)]\n",
    "    if hasattr(m, 'oob_score_'): \n",
    "        res.append(m.oob_score_)\n",
    "    return res\n",
    "\n",
    "def KFold_fit_regression_fit(model, X, y, splits = 5, repeats = 10, random_state = None):\n",
    "    folds = RepeatedKFold(n_splits = splits, n_repeats = repeats, random_state = random_state)\n",
    "#     predicted_solution = []\n",
    "#     correct_solution = []\n",
    "    results = []\n",
    "    for train_ind, test_ind in folds.split(X, y):\n",
    "        X_train, X_test = X.iloc[train_ind,:], X.iloc[test_ind,:]\n",
    "        y_train, y_test = y[train_ind], y[test_ind]\n",
    "        model.fit(X_train, y_train)\n",
    "        r = get_scores(model,X_train, X_test, y_train, y_test)\n",
    "#         predicted_solution += list(model.predict(X_test))\n",
    "#         correct_solution += list(y_test)\n",
    "        results.append(r)\n",
    "    return np.vstack(results)\n"
   ]
  },
  {
   "cell_type": "markdown",
   "metadata": {},
   "source": [
    "# Use oob for model selection and parameter tuning"
   ]
  },
  {
   "cell_type": "code",
   "execution_count": 14,
   "metadata": {},
   "outputs": [],
   "source": [
    "# def functions for training\n",
    "from sklearn.utils import shuffle\n",
    "def split_vals(df, n):\n",
    "    return df[:n].copy(), df[n:].copy()\n",
    "\n",
    "def train_test_split(df, xcols, ycol, train_size_f = 0.75, shuffle_bool = False):\n",
    "    train_size = int(df.shape[0] * train_size_f)\n",
    "    if shuffle_bool:\n",
    "        df_model = shuffle(df)\n",
    "    else:\n",
    "        df_model = df.copy()\n",
    "    X, y = df_model[xcols], df_model[ycol]\n",
    "    X_train, X_test = split_vals(X, train_size)\n",
    "    y_train, y_test = split_vals(y, train_size)\n",
    "    return X_train, X_test, y_train, y_test\n",
    "\n",
    "def tt_split_by_years(df, xcols, ycol, train_years = [2016, 2017, 2018], test_years = [2019]):\n",
    "#     df_model = df.copy()\n",
    "#     X, y = df_model[xcols], df_model[ycol]\n",
    "    df_train = df[df.count_Year.isin(train_years)]\n",
    "    df_test = df[df.count_Year.isin(test_years)]\n",
    "    X_train, X_test = df_train[xcols], df_test[xcols]\n",
    "    y_train, y_test = df_train[ycol], df_test[ycol]\n",
    "    return X_train, X_test, y_train, y_test\n",
    "\n",
    "def split_by_forward_period(df, xcols, ycol, split_date = '2018-12-31', train_months = 36, test_months = 3):\n",
    "#     d = datetime.fromtimestamp(selected_date_value)\n",
    "    d = pd.to_datetime(split_date)\n",
    "    train_lb = d - relativedelta(months = train_months)\n",
    "    test_ub = d + relativedelta(months = test_months)\n",
    "    df_train = df[(df.count_date >= train_lb)&(df.count_date < d)]\n",
    "    df_test = df[(df.count_date >= d)&(df.count_date < test_ub)]\n",
    "    X_train, X_test = df_train[xcols], df_test[xcols]\n",
    "    y_train, y_test = df_train[ycol], df_test[ycol]\n",
    "    return X_train, X_test, y_train, y_test\n",
    "\n",
    "def rf_feat_importance(m, df):\n",
    "    return pd.DataFrame({'cols':df.columns, 'imp':m.feature_importances_}\n",
    "                       ).sort_values('imp', ascending=False)"
   ]
  },
  {
   "cell_type": "code",
   "execution_count": 15,
   "metadata": {},
   "outputs": [],
   "source": [
    "xcols = [col for col in df.columns]\n",
    "xcols.remove('adt')\n",
    "xcols.remove('road_name')\n",
    "xcols.remove('count_date')\n",
    "ycol = 'adt'"
   ]
  },
  {
   "cell_type": "code",
   "execution_count": 16,
   "metadata": {},
   "outputs": [
    {
     "data": {
      "text/plain": [
       "RandomForestRegressor(bootstrap=True, criterion='mse', max_depth=None,\n",
       "           max_features=0.9, max_leaf_nodes=None,\n",
       "           min_impurity_decrease=0.0, min_impurity_split=None,\n",
       "           min_samples_leaf=1, min_samples_split=2,\n",
       "           min_weight_fraction_leaf=0.0, n_estimators=500, n_jobs=3,\n",
       "           oob_score=True, random_state=1, verbose=0, warm_start=False)"
      ]
     },
     "execution_count": 16,
     "metadata": {},
     "output_type": "execute_result"
    },
    {
     "data": {
      "text/plain": [
       "0.9503534642948323"
      ]
     },
     "execution_count": 16,
     "metadata": {},
     "output_type": "execute_result"
    },
    {
     "data": {
      "text/plain": [
       "0.04416444739409575"
      ]
     },
     "execution_count": 16,
     "metadata": {},
     "output_type": "execute_result"
    },
    {
     "data": {
      "text/plain": [
       "0.6365296839327668"
      ]
     },
     "execution_count": 16,
     "metadata": {},
     "output_type": "execute_result"
    },
    {
     "data": {
      "text/html": [
       "<div>\n",
       "<style scoped>\n",
       "    .dataframe tbody tr th:only-of-type {\n",
       "        vertical-align: middle;\n",
       "    }\n",
       "\n",
       "    .dataframe tbody tr th {\n",
       "        vertical-align: top;\n",
       "    }\n",
       "\n",
       "    .dataframe thead th {\n",
       "        text-align: right;\n",
       "    }\n",
       "</style>\n",
       "<table border=\"1\" class=\"dataframe\">\n",
       "  <thead>\n",
       "    <tr style=\"text-align: right;\">\n",
       "      <th></th>\n",
       "      <th>cols</th>\n",
       "      <th>imp</th>\n",
       "    </tr>\n",
       "  </thead>\n",
       "  <tbody>\n",
       "    <tr>\n",
       "      <th>1</th>\n",
       "      <td>longitude</td>\n",
       "      <td>0.341168</td>\n",
       "    </tr>\n",
       "    <tr>\n",
       "      <th>8</th>\n",
       "      <td>road_name_code</td>\n",
       "      <td>0.165772</td>\n",
       "    </tr>\n",
       "    <tr>\n",
       "      <th>0</th>\n",
       "      <td>latitude</td>\n",
       "      <td>0.163246</td>\n",
       "    </tr>\n",
       "    <tr>\n",
       "      <th>7</th>\n",
       "      <td>count_Elapsed</td>\n",
       "      <td>0.116844</td>\n",
       "    </tr>\n",
       "    <tr>\n",
       "      <th>4</th>\n",
       "      <td>count_Dayofyear</td>\n",
       "      <td>0.099104</td>\n",
       "    </tr>\n",
       "    <tr>\n",
       "      <th>2</th>\n",
       "      <td>sampling_count</td>\n",
       "      <td>0.048198</td>\n",
       "    </tr>\n",
       "    <tr>\n",
       "      <th>3</th>\n",
       "      <td>count_Dayofweek</td>\n",
       "      <td>0.037568</td>\n",
       "    </tr>\n",
       "    <tr>\n",
       "      <th>6</th>\n",
       "      <td>count_Month</td>\n",
       "      <td>0.019782</td>\n",
       "    </tr>\n",
       "    <tr>\n",
       "      <th>5</th>\n",
       "      <td>count_Year</td>\n",
       "      <td>0.008317</td>\n",
       "    </tr>\n",
       "  </tbody>\n",
       "</table>\n",
       "</div>"
      ],
      "text/plain": [
       "              cols       imp\n",
       "1        longitude  0.341168\n",
       "8   road_name_code  0.165772\n",
       "0         latitude  0.163246\n",
       "7    count_Elapsed  0.116844\n",
       "4  count_Dayofyear  0.099104\n",
       "2   sampling_count  0.048198\n",
       "3  count_Dayofweek  0.037568\n",
       "6      count_Month  0.019782\n",
       "5       count_Year  0.008317"
      ]
     },
     "execution_count": 16,
     "metadata": {},
     "output_type": "execute_result"
    }
   ],
   "source": [
    "X_train, X_test, y_train, y_test = split_by_forward_period(df, xcols, ycol, split_date = '2017-12-31', train_months = 48, test_months = 3)\n",
    "m = RandomForestRegressor(n_estimators=500, max_depth=None, max_features=0.9, oob_score= True, random_state=1, n_jobs  = 3)\n",
    "m.fit(X_train, y_train)\n",
    "m.score(X_train, y_train)\n",
    "m.score(X_test, y_test)\n",
    "m.oob_score_\n",
    "rf_feat_importance(m, X_train)"
   ]
  },
  {
   "cell_type": "markdown",
   "metadata": {},
   "source": [
    "road_name_code is importance suggesting historical adt is useful"
   ]
  },
  {
   "cell_type": "markdown",
   "metadata": {},
   "source": [
    "## Try xgboost "
   ]
  },
  {
   "cell_type": "code",
   "execution_count": 46,
   "metadata": {},
   "outputs": [],
   "source": [
    "# # from xgboost import XGBRegressor\n",
    "# import xgboost as xgb\n",
    "# from sklearn.metrics import r2_score"
   ]
  },
  {
   "cell_type": "code",
   "execution_count": 51,
   "metadata": {},
   "outputs": [
    {
     "data": {
      "text/plain": [
       "['latitude',\n",
       " 'longitude',\n",
       " 'sampling_count',\n",
       " 'count_Dayofweek',\n",
       " 'count_Dayofyear',\n",
       " 'count_Year',\n",
       " 'count_Month',\n",
       " 'count_Elapsed']"
      ]
     },
     "execution_count": 51,
     "metadata": {},
     "output_type": "execute_result"
    }
   ],
   "source": [
    "# # xgboost cannot handle categorical features\n",
    "# xgb_cols = xcols\n",
    "# xgb_cols.remove('road_name_code')\n",
    "# xgb_cols"
   ]
  },
  {
   "cell_type": "code",
   "execution_count": 52,
   "metadata": {},
   "outputs": [
    {
     "name": "stdout",
     "output_type": "stream",
     "text": [
      "[22:09:28] WARNING: C:/Jenkins/workspace/xgboost-win64_release_0.90/src/objective/regression_obj.cu:152: reg:linear is now deprecated in favor of reg:squarederror.\n"
     ]
    },
    {
     "data": {
      "text/plain": [
       "XGBRegressor(base_score=0.5, booster='gbtree', colsample_bylevel=1,\n",
       "       colsample_bynode=1, colsample_bytree=1, gamma=0,\n",
       "       importance_type='gain', learning_rate=0.01, max_delta_step=0,\n",
       "       max_depth=50, min_child_weight=1, missing=None, n_estimators=1000,\n",
       "       n_jobs=1, nthread=None, objective='reg:linear', random_state=0,\n",
       "       reg_alpha=0, reg_lambda=1, scale_pos_weight=1, seed=None,\n",
       "       silent=None, subsample=0.66, verbosity=1)"
      ]
     },
     "execution_count": 52,
     "metadata": {},
     "output_type": "execute_result"
    },
    {
     "data": {
      "text/plain": [
       "6296.074059532194"
      ]
     },
     "execution_count": 52,
     "metadata": {},
     "output_type": "execute_result"
    },
    {
     "data": {
      "text/plain": [
       "0.4299908118352823"
      ]
     },
     "execution_count": 52,
     "metadata": {},
     "output_type": "execute_result"
    }
   ],
   "source": [
    "# X_train, X_test, y_train, y_test = tt_split_by_years(df, xgb_cols, ycol)\n",
    "# m = xgb.XGBRegressor(objective ='reg:linear', colsample_bytree = 1, learning_rate = 0.01,\n",
    "#                 max_depth = 50, n_estimators = 1000, subsample=.66)  # alpha = 10\n",
    "# m.fit(X_train, y_train, early_stopping_rounds=5, \n",
    "#              eval_set=[(X_test, y_test)],\n",
    "#              verbose=False)\n",
    "\n",
    "# pred = m.predict(X_test)\n",
    "# rmse(pred, y_test)\n",
    "# r2_score(y_test, pred)\n",
    "# m.get_booster().best_ntree_limit"
   ]
  },
  {
   "cell_type": "markdown",
   "metadata": {},
   "source": [
    "# Feature engineering"
   ]
  },
  {
   "cell_type": "markdown",
   "metadata": {},
   "source": [
    "- rotate coordinates\n",
    "- out of fold prediction of adt based on (longitude, latitude, count_dat_columns)\n",
    "- out of fold sampling count  \n",
    "- later add \n",
    "    - historical maximum adt of the coordinate - impute missing values by out of fold prediction"
   ]
  },
  {
   "cell_type": "code",
   "execution_count": 17,
   "metadata": {
    "scrolled": false
   },
   "outputs": [
    {
     "data": {
      "text/html": [
       "<div>\n",
       "<style scoped>\n",
       "    .dataframe tbody tr th:only-of-type {\n",
       "        vertical-align: middle;\n",
       "    }\n",
       "\n",
       "    .dataframe tbody tr th {\n",
       "        vertical-align: top;\n",
       "    }\n",
       "\n",
       "    .dataframe thead th {\n",
       "        text-align: right;\n",
       "    }\n",
       "</style>\n",
       "<table border=\"1\" class=\"dataframe\">\n",
       "  <thead>\n",
       "    <tr style=\"text-align: right;\">\n",
       "      <th></th>\n",
       "      <th>count_date</th>\n",
       "      <th>road_name</th>\n",
       "      <th>adt</th>\n",
       "      <th>latitude</th>\n",
       "      <th>longitude</th>\n",
       "      <th>sampling_count</th>\n",
       "      <th>count_Dayofweek</th>\n",
       "      <th>count_Dayofyear</th>\n",
       "      <th>count_Year</th>\n",
       "      <th>count_Month</th>\n",
       "      <th>count_Elapsed</th>\n",
       "      <th>road_name_code</th>\n",
       "    </tr>\n",
       "  </thead>\n",
       "  <tbody>\n",
       "    <tr>\n",
       "      <th>0</th>\n",
       "      <td>1974-07-12</td>\n",
       "      <td>COLWILL RD</td>\n",
       "      <td>125.0</td>\n",
       "      <td>-36.832191</td>\n",
       "      <td>174.636777</td>\n",
       "      <td>3</td>\n",
       "      <td>4</td>\n",
       "      <td>193</td>\n",
       "      <td>1974</td>\n",
       "      <td>7</td>\n",
       "      <td>142819200</td>\n",
       "      <td>5406</td>\n",
       "    </tr>\n",
       "    <tr>\n",
       "      <th>10</th>\n",
       "      <td>1974-08-11</td>\n",
       "      <td>YEOVIL RD</td>\n",
       "      <td>2025.0</td>\n",
       "      <td>-36.844243</td>\n",
       "      <td>174.651030</td>\n",
       "      <td>7</td>\n",
       "      <td>6</td>\n",
       "      <td>223</td>\n",
       "      <td>1974</td>\n",
       "      <td>8</td>\n",
       "      <td>145411200</td>\n",
       "      <td>5707</td>\n",
       "    </tr>\n",
       "    <tr>\n",
       "      <th>8</th>\n",
       "      <td>1974-08-11</td>\n",
       "      <td>HOBSONVILLE RD</td>\n",
       "      <td>3900.0</td>\n",
       "      <td>-36.818111</td>\n",
       "      <td>174.615714</td>\n",
       "      <td>20</td>\n",
       "      <td>6</td>\n",
       "      <td>223</td>\n",
       "      <td>1974</td>\n",
       "      <td>8</td>\n",
       "      <td>145411200</td>\n",
       "      <td>5063</td>\n",
       "    </tr>\n",
       "    <tr>\n",
       "      <th>7</th>\n",
       "      <td>1974-08-11</td>\n",
       "      <td>KOTUKU ST</td>\n",
       "      <td>1700.0</td>\n",
       "      <td>-36.850907</td>\n",
       "      <td>174.648874</td>\n",
       "      <td>5</td>\n",
       "      <td>6</td>\n",
       "      <td>223</td>\n",
       "      <td>1974</td>\n",
       "      <td>8</td>\n",
       "      <td>145411200</td>\n",
       "      <td>5983</td>\n",
       "    </tr>\n",
       "    <tr>\n",
       "      <th>6</th>\n",
       "      <td>1974-08-11</td>\n",
       "      <td>TE ATATU RD</td>\n",
       "      <td>3733.0</td>\n",
       "      <td>-36.832667</td>\n",
       "      <td>174.648011</td>\n",
       "      <td>11</td>\n",
       "      <td>6</td>\n",
       "      <td>223</td>\n",
       "      <td>1974</td>\n",
       "      <td>8</td>\n",
       "      <td>145411200</td>\n",
       "      <td>5427</td>\n",
       "    </tr>\n",
       "  </tbody>\n",
       "</table>\n",
       "</div>"
      ],
      "text/plain": [
       "   count_date       road_name     adt   latitude   longitude  sampling_count  \\\n",
       "0  1974-07-12      COLWILL RD   125.0 -36.832191  174.636777               3   \n",
       "10 1974-08-11       YEOVIL RD  2025.0 -36.844243  174.651030               7   \n",
       "8  1974-08-11  HOBSONVILLE RD  3900.0 -36.818111  174.615714              20   \n",
       "7  1974-08-11       KOTUKU ST  1700.0 -36.850907  174.648874               5   \n",
       "6  1974-08-11     TE ATATU RD  3733.0 -36.832667  174.648011              11   \n",
       "\n",
       "    count_Dayofweek  count_Dayofyear  count_Year  count_Month  count_Elapsed  \\\n",
       "0                 4              193        1974            7      142819200   \n",
       "10                6              223        1974            8      145411200   \n",
       "8                 6              223        1974            8      145411200   \n",
       "7                 6              223        1974            8      145411200   \n",
       "6                 6              223        1974            8      145411200   \n",
       "\n",
       "   road_name_code  \n",
       "0            5406  \n",
       "10           5707  \n",
       "8            5063  \n",
       "7            5983  \n",
       "6            5427  "
      ]
     },
     "execution_count": 17,
     "metadata": {},
     "output_type": "execute_result"
    }
   ],
   "source": [
    "df.head()"
   ]
  },
  {
   "cell_type": "markdown",
   "metadata": {},
   "source": [
    "## feature engineering - rotate coordinates"
   ]
  },
  {
   "cell_type": "code",
   "execution_count": 18,
   "metadata": {},
   "outputs": [],
   "source": [
    "# X_train, X_test, y_train, y_test = train_test_split(df, xcols, ycol)"
   ]
  },
  {
   "cell_type": "code",
   "execution_count": 19,
   "metadata": {},
   "outputs": [],
   "source": [
    "from math import cos, sin, radians"
   ]
  },
  {
   "cell_type": "code",
   "execution_count": 20,
   "metadata": {},
   "outputs": [],
   "source": [
    "def rotate_coordinate(df, degree = 45):\n",
    "    df['x_rotate45'] = df['longitude']*cos(radians(degree))\n",
    "    df['y_rotate45'] = df['latitude']*sin(radians(degree))\n",
    "rotate_coordinate(df)"
   ]
  },
  {
   "cell_type": "markdown",
   "metadata": {},
   "source": [
    "## feature engineering - create grid label"
   ]
  },
  {
   "cell_type": "code",
   "execution_count": 21,
   "metadata": {},
   "outputs": [
    {
     "data": {
      "text/plain": [
       "[174.24555715399708, 176.1516334349757]"
      ]
     },
     "execution_count": 21,
     "metadata": {},
     "output_type": "execute_result"
    },
    {
     "data": {
      "text/plain": [
       "[-37.89917667600806, -36.119466241353614]"
      ]
     },
     "execution_count": 21,
     "metadata": {},
     "output_type": "execute_result"
    },
    {
     "data": {
      "text/plain": [
       "(1.906076280978624, 1.7797104346544472)"
      ]
     },
     "execution_count": 21,
     "metadata": {},
     "output_type": "execute_result"
    }
   ],
   "source": [
    "x_range = [df.longitude.min(), df.longitude.max()]\n",
    "y_range = [df.latitude.min(), df.latitude.max()]\n",
    "x_range\n",
    "y_range\n",
    "x_range[1] - x_range[0], y_range[1] - y_range[0]"
   ]
  },
  {
   "cell_type": "code",
   "execution_count": 22,
   "metadata": {},
   "outputs": [],
   "source": [
    "lat_step = 50\n",
    "long_step = 50\n",
    "max_lat = df['latitude'].max()\n",
    "min_lat = df['latitude'].min()\n",
    "max_long = df['longitude'].max()\n",
    "min_long = df['longitude'].min()\n",
    "# print(min_lat, max_lat, min_long, max_long)\n",
    "\n",
    "def create_latitude_label(row, steps = lat_step):\n",
    "    # say (-47.5792514, 175.21804505)\n",
    "    lat = row['latitude']\n",
    "    latitude_steps = np.linspace(min_lat, max_lat, num = steps)\n",
    "    for ind, item in enumerate(latitude_steps):\n",
    "        zone_label = ind+1\n",
    "        if lat <= item:\n",
    "            return zone_label\n",
    "    raise Exception(\"error\")\n",
    "    \n",
    "def create_longtitude_label(row, steps = long_step):\n",
    "    # say (-47.5792514, 175.21804505)\n",
    "    long = row['longitude']\n",
    "    longitude_steps = np.linspace(min_long, max_long, num = steps)\n",
    "    for ind, item in enumerate(longitude_steps):\n",
    "        zone_label = ind+1\n",
    "        if long <= item:\n",
    "            return zone_label\n",
    "    raise Exception(\"error\")\n",
    "    \n",
    "df['lat_zone'] = df.apply(create_latitude_label, axis = 1)\n",
    "df['long_zone'] = df.apply(create_longtitude_label, axis = 1)\n",
    "\n",
    "#     current_grid_label = 1\n",
    "#     for lat_ind, item in enumerate(lat_step):\n",
    "#         if ind == len(lat_stpe):\n",
    "#             break\n",
    "#         lat1 = item\n",
    "#         lat2 = lat_step[lat_ind+1]\n",
    "#         for long_ind, item2 in enumerate(long_step):\n",
    "#             if long_ind == len(long_step):\n",
    "#                 break\n",
    "#             long1 = item2\n",
    "#             long2 = long_step[long_ind+1]\n",
    "#             if row['latitude']"
   ]
  },
  {
   "cell_type": "code",
   "execution_count": 23,
   "metadata": {},
   "outputs": [
    {
     "data": {
      "text/plain": [
       "0     31_12\n",
       "10    31_12\n",
       "8     31_11\n",
       "7     30_12\n",
       "6     31_12\n",
       "Name: zone, dtype: category\n",
       "Categories (361, object): [10_12, 17_12, 19_12, 19_13, ..., 50_31, 50_32, 5_50, 7_49]"
      ]
     },
     "execution_count": 23,
     "metadata": {},
     "output_type": "execute_result"
    }
   ],
   "source": [
    "df['zone'] = df[['lat_zone', 'long_zone']].astype(str).apply(\"_\".join, 1)\n",
    "df['zone'] = df['zone'].astype('category')\n",
    "df['zone'].head()"
   ]
  },
  {
   "cell_type": "code",
   "execution_count": 105,
   "metadata": {},
   "outputs": [
    {
     "data": {
      "text/plain": [
       "(174.29240917546988, 175.48146528589342)"
      ]
     },
     "execution_count": 105,
     "metadata": {},
     "output_type": "execute_result"
    },
    {
     "data": {
      "text/plain": [
       "(-37.2670692278946, -36.141803427774924)"
      ]
     },
     "execution_count": 105,
     "metadata": {},
     "output_type": "execute_result"
    },
    {
     "data": {
      "text/plain": [
       "<matplotlib.colorbar.Colorbar at 0xee10400>"
      ]
     },
     "execution_count": 105,
     "metadata": {},
     "output_type": "execute_result"
    },
    {
     "data": {
      "image/png": "[encoded data removed]",
      "text/plain": [
       "<Figure size 432x288 with 2 Axes>"
      ]
     },
     "metadata": {
      "needs_background": "light"
     },
     "output_type": "display_data"
    }
   ],
   "source": [
    "# verify\n",
    "import matplotlib.pyplot as plt\n",
    "fig, ax = plt.subplots()\n",
    "# x_range = [df.longitude.min()*0.99, df.longitude.max()*1.01]\n",
    "# y_range = [df.latitude.min()*0.99, df.latitude.max()*1.01]\n",
    "x_range = np.percentile(df.longitude, [0.1, 99.9])\n",
    "y_range = np.percentile(df.latitude, [0.1, 99.9])\n",
    "img = ax.scatter(x = df['longitude'], y=df['latitude'], c = df['zone'].cat.codes, s = 3)\n",
    "ax.set_xlim(x_range)\n",
    "ax.set_ylim(y_range)\n",
    "fig.colorbar(img, ax = ax)\n",
    "plt.show()"
   ]
  },
  {
   "cell_type": "markdown",
   "metadata": {},
   "source": [
    "## feature engineering - last historical value"
   ]
  },
  {
   "cell_type": "code",
   "execution_count": 24,
   "metadata": {},
   "outputs": [],
   "source": [
    "# create mapping to the last historical value\n",
    "last_adt_series = pd.Series(-1.0, index = df.road_name_code.unique())\n",
    "def get_last_adt(row, split_date = '2017-12-31'):\n",
    "    last_adt_value = last_adt_series[row['road_name_code']]\n",
    "    if row['count_date'] < pd.to_datetime(split_date):\n",
    "        last_adt_series.loc[row['road_name_code']] = row['adt']\n",
    "    return last_adt_value\n",
    "\n",
    "# need a separate function for test dataset"
   ]
  },
  {
   "cell_type": "code",
   "execution_count": 25,
   "metadata": {},
   "outputs": [],
   "source": [
    "df['last_adt'] = df.apply(lambda row: get_last_adt(row), axis = 1)"
   ]
  },
  {
   "cell_type": "code",
   "execution_count": 109,
   "metadata": {
    "scrolled": true
   },
   "outputs": [
    {
     "data": {
      "text/html": [
       "<div>\n",
       "<style scoped>\n",
       "    .dataframe tbody tr th:only-of-type {\n",
       "        vertical-align: middle;\n",
       "    }\n",
       "\n",
       "    .dataframe tbody tr th {\n",
       "        vertical-align: top;\n",
       "    }\n",
       "\n",
       "    .dataframe thead th {\n",
       "        text-align: right;\n",
       "    }\n",
       "</style>\n",
       "<table border=\"1\" class=\"dataframe\">\n",
       "  <thead>\n",
       "    <tr style=\"text-align: right;\">\n",
       "      <th></th>\n",
       "      <th>count_date</th>\n",
       "      <th>adt</th>\n",
       "      <th>last_adt</th>\n",
       "    </tr>\n",
       "  </thead>\n",
       "  <tbody>\n",
       "    <tr>\n",
       "      <th>6986</th>\n",
       "      <td>2011-08-01</td>\n",
       "      <td>5385.0</td>\n",
       "      <td>-1.0</td>\n",
       "    </tr>\n",
       "    <tr>\n",
       "      <th>7028</th>\n",
       "      <td>2011-08-08</td>\n",
       "      <td>5400.0</td>\n",
       "      <td>5385.0</td>\n",
       "    </tr>\n",
       "    <tr>\n",
       "      <th>7068</th>\n",
       "      <td>2011-08-15</td>\n",
       "      <td>5497.0</td>\n",
       "      <td>5400.0</td>\n",
       "    </tr>\n",
       "    <tr>\n",
       "      <th>7120</th>\n",
       "      <td>2011-08-22</td>\n",
       "      <td>5579.0</td>\n",
       "      <td>5497.0</td>\n",
       "    </tr>\n",
       "    <tr>\n",
       "      <th>7176</th>\n",
       "      <td>2011-08-29</td>\n",
       "      <td>5388.0</td>\n",
       "      <td>5579.0</td>\n",
       "    </tr>\n",
       "    <tr>\n",
       "      <th>7223</th>\n",
       "      <td>2011-09-05</td>\n",
       "      <td>5599.0</td>\n",
       "      <td>5388.0</td>\n",
       "    </tr>\n",
       "    <tr>\n",
       "      <th>7277</th>\n",
       "      <td>2011-09-12</td>\n",
       "      <td>5333.0</td>\n",
       "      <td>5599.0</td>\n",
       "    </tr>\n",
       "    <tr>\n",
       "      <th>7373</th>\n",
       "      <td>2011-09-26</td>\n",
       "      <td>5500.0</td>\n",
       "      <td>5333.0</td>\n",
       "    </tr>\n",
       "    <tr>\n",
       "      <th>7424</th>\n",
       "      <td>2011-10-03</td>\n",
       "      <td>5752.0</td>\n",
       "      <td>5500.0</td>\n",
       "    </tr>\n",
       "    <tr>\n",
       "      <th>7448</th>\n",
       "      <td>2011-10-10</td>\n",
       "      <td>5283.0</td>\n",
       "      <td>5752.0</td>\n",
       "    </tr>\n",
       "    <tr>\n",
       "      <th>7460</th>\n",
       "      <td>2011-10-17</td>\n",
       "      <td>5243.0</td>\n",
       "      <td>5283.0</td>\n",
       "    </tr>\n",
       "    <tr>\n",
       "      <th>7466</th>\n",
       "      <td>2011-10-24</td>\n",
       "      <td>5956.0</td>\n",
       "      <td>5243.0</td>\n",
       "    </tr>\n",
       "    <tr>\n",
       "      <th>7518</th>\n",
       "      <td>2011-10-31</td>\n",
       "      <td>5754.0</td>\n",
       "      <td>5956.0</td>\n",
       "    </tr>\n",
       "    <tr>\n",
       "      <th>7558</th>\n",
       "      <td>2011-11-07</td>\n",
       "      <td>5909.0</td>\n",
       "      <td>5754.0</td>\n",
       "    </tr>\n",
       "    <tr>\n",
       "      <th>7624</th>\n",
       "      <td>2011-11-14</td>\n",
       "      <td>5951.0</td>\n",
       "      <td>5909.0</td>\n",
       "    </tr>\n",
       "    <tr>\n",
       "      <th>7668</th>\n",
       "      <td>2011-11-21</td>\n",
       "      <td>6027.0</td>\n",
       "      <td>5951.0</td>\n",
       "    </tr>\n",
       "    <tr>\n",
       "      <th>7693</th>\n",
       "      <td>2011-11-28</td>\n",
       "      <td>5645.0</td>\n",
       "      <td>6027.0</td>\n",
       "    </tr>\n",
       "    <tr>\n",
       "      <th>7709</th>\n",
       "      <td>2011-12-05</td>\n",
       "      <td>6193.0</td>\n",
       "      <td>5645.0</td>\n",
       "    </tr>\n",
       "    <tr>\n",
       "      <th>7727</th>\n",
       "      <td>2011-12-12</td>\n",
       "      <td>5664.0</td>\n",
       "      <td>6193.0</td>\n",
       "    </tr>\n",
       "    <tr>\n",
       "      <th>7744</th>\n",
       "      <td>2011-12-19</td>\n",
       "      <td>6388.0</td>\n",
       "      <td>5664.0</td>\n",
       "    </tr>\n",
       "    <tr>\n",
       "      <th>7752</th>\n",
       "      <td>2011-12-26</td>\n",
       "      <td>4322.0</td>\n",
       "      <td>6388.0</td>\n",
       "    </tr>\n",
       "    <tr>\n",
       "      <th>7778</th>\n",
       "      <td>2012-01-02</td>\n",
       "      <td>4902.0</td>\n",
       "      <td>4322.0</td>\n",
       "    </tr>\n",
       "    <tr>\n",
       "      <th>7795</th>\n",
       "      <td>2012-01-09</td>\n",
       "      <td>5693.0</td>\n",
       "      <td>4902.0</td>\n",
       "    </tr>\n",
       "    <tr>\n",
       "      <th>7805</th>\n",
       "      <td>2012-01-16</td>\n",
       "      <td>5955.0</td>\n",
       "      <td>5693.0</td>\n",
       "    </tr>\n",
       "    <tr>\n",
       "      <th>7807</th>\n",
       "      <td>2012-01-23</td>\n",
       "      <td>5926.0</td>\n",
       "      <td>5955.0</td>\n",
       "    </tr>\n",
       "    <tr>\n",
       "      <th>7952</th>\n",
       "      <td>2012-02-27</td>\n",
       "      <td>6081.0</td>\n",
       "      <td>5926.0</td>\n",
       "    </tr>\n",
       "    <tr>\n",
       "      <th>7986</th>\n",
       "      <td>2012-03-05</td>\n",
       "      <td>5842.0</td>\n",
       "      <td>6081.0</td>\n",
       "    </tr>\n",
       "    <tr>\n",
       "      <th>8019</th>\n",
       "      <td>2012-03-12</td>\n",
       "      <td>5928.0</td>\n",
       "      <td>5842.0</td>\n",
       "    </tr>\n",
       "    <tr>\n",
       "      <th>8046</th>\n",
       "      <td>2012-03-19</td>\n",
       "      <td>5687.0</td>\n",
       "      <td>5928.0</td>\n",
       "    </tr>\n",
       "    <tr>\n",
       "      <th>8082</th>\n",
       "      <td>2012-04-02</td>\n",
       "      <td>5625.0</td>\n",
       "      <td>5687.0</td>\n",
       "    </tr>\n",
       "    <tr>\n",
       "      <th>8104</th>\n",
       "      <td>2012-04-09</td>\n",
       "      <td>5411.0</td>\n",
       "      <td>5625.0</td>\n",
       "    </tr>\n",
       "    <tr>\n",
       "      <th>8117</th>\n",
       "      <td>2012-04-16</td>\n",
       "      <td>5610.0</td>\n",
       "      <td>5411.0</td>\n",
       "    </tr>\n",
       "    <tr>\n",
       "      <th>8130</th>\n",
       "      <td>2012-04-23</td>\n",
       "      <td>5659.0</td>\n",
       "      <td>5610.0</td>\n",
       "    </tr>\n",
       "    <tr>\n",
       "      <th>8160</th>\n",
       "      <td>2012-04-30</td>\n",
       "      <td>5744.0</td>\n",
       "      <td>5659.0</td>\n",
       "    </tr>\n",
       "    <tr>\n",
       "      <th>8187</th>\n",
       "      <td>2012-05-07</td>\n",
       "      <td>5535.0</td>\n",
       "      <td>5744.0</td>\n",
       "    </tr>\n",
       "    <tr>\n",
       "      <th>8200</th>\n",
       "      <td>2012-05-14</td>\n",
       "      <td>5383.0</td>\n",
       "      <td>5535.0</td>\n",
       "    </tr>\n",
       "    <tr>\n",
       "      <th>8213</th>\n",
       "      <td>2012-05-21</td>\n",
       "      <td>5452.0</td>\n",
       "      <td>5383.0</td>\n",
       "    </tr>\n",
       "    <tr>\n",
       "      <th>8225</th>\n",
       "      <td>2012-05-28</td>\n",
       "      <td>5249.0</td>\n",
       "      <td>5452.0</td>\n",
       "    </tr>\n",
       "  </tbody>\n",
       "</table>\n",
       "</div>"
      ],
      "text/plain": [
       "     count_date     adt  last_adt\n",
       "6986 2011-08-01  5385.0      -1.0\n",
       "7028 2011-08-08  5400.0    5385.0\n",
       "7068 2011-08-15  5497.0    5400.0\n",
       "7120 2011-08-22  5579.0    5497.0\n",
       "7176 2011-08-29  5388.0    5579.0\n",
       "7223 2011-09-05  5599.0    5388.0\n",
       "7277 2011-09-12  5333.0    5599.0\n",
       "7373 2011-09-26  5500.0    5333.0\n",
       "7424 2011-10-03  5752.0    5500.0\n",
       "7448 2011-10-10  5283.0    5752.0\n",
       "7460 2011-10-17  5243.0    5283.0\n",
       "7466 2011-10-24  5956.0    5243.0\n",
       "7518 2011-10-31  5754.0    5956.0\n",
       "7558 2011-11-07  5909.0    5754.0\n",
       "7624 2011-11-14  5951.0    5909.0\n",
       "7668 2011-11-21  6027.0    5951.0\n",
       "7693 2011-11-28  5645.0    6027.0\n",
       "7709 2011-12-05  6193.0    5645.0\n",
       "7727 2011-12-12  5664.0    6193.0\n",
       "7744 2011-12-19  6388.0    5664.0\n",
       "7752 2011-12-26  4322.0    6388.0\n",
       "7778 2012-01-02  4902.0    4322.0\n",
       "7795 2012-01-09  5693.0    4902.0\n",
       "7805 2012-01-16  5955.0    5693.0\n",
       "7807 2012-01-23  5926.0    5955.0\n",
       "7952 2012-02-27  6081.0    5926.0\n",
       "7986 2012-03-05  5842.0    6081.0\n",
       "8019 2012-03-12  5928.0    5842.0\n",
       "8046 2012-03-19  5687.0    5928.0\n",
       "8082 2012-04-02  5625.0    5687.0\n",
       "8104 2012-04-09  5411.0    5625.0\n",
       "8117 2012-04-16  5610.0    5411.0\n",
       "8130 2012-04-23  5659.0    5610.0\n",
       "8160 2012-04-30  5744.0    5659.0\n",
       "8187 2012-05-07  5535.0    5744.0\n",
       "8200 2012-05-14  5383.0    5535.0\n",
       "8213 2012-05-21  5452.0    5383.0\n",
       "8225 2012-05-28  5249.0    5452.0"
      ]
     },
     "execution_count": 109,
     "metadata": {},
     "output_type": "execute_result"
    }
   ],
   "source": [
    "# test = df[df['road_name_code'] == 2675]\n",
    "# test[['count_date', 'adt', 'last_adt']]\n",
    "# test.head()"
   ]
  },
  {
   "cell_type": "code",
   "execution_count": 26,
   "metadata": {
    "scrolled": true
   },
   "outputs": [
    {
     "data": {
      "text/plain": [
       "Index(['count_date', 'road_name', 'adt', 'latitude', 'longitude',\n",
       "       'sampling_count', 'count_Dayofweek', 'count_Dayofyear', 'count_Year',\n",
       "       'count_Month', 'count_Elapsed', 'road_name_code', 'x_rotate45',\n",
       "       'y_rotate45', 'lat_zone', 'long_zone', 'zone', 'last_adt'],\n",
       "      dtype='object')"
      ]
     },
     "execution_count": 26,
     "metadata": {},
     "output_type": "execute_result"
    }
   ],
   "source": [
    "df.columns"
   ]
  },
  {
   "cell_type": "code",
   "execution_count": 27,
   "metadata": {},
   "outputs": [],
   "source": [
    "xcols = [col for col in df.columns]\n",
    "cols_to_drop = ['adt', 'road_name', 'count_date']\n",
    "for col in cols_to_drop:\n",
    "    xcols.remove(col)\n",
    "ycol = 'adt'"
   ]
  },
  {
   "cell_type": "code",
   "execution_count": 34,
   "metadata": {},
   "outputs": [
    {
     "data": {
      "text/plain": [
       "RandomForestRegressor(bootstrap=True, criterion='mse', max_depth=20,\n",
       "           max_features=0.6, max_leaf_nodes=None,\n",
       "           min_impurity_decrease=0.0, min_impurity_split=None,\n",
       "           min_samples_leaf=1, min_samples_split=2,\n",
       "           min_weight_fraction_leaf=0.0, n_estimators=300, n_jobs=1,\n",
       "           oob_score=True, random_state=1, verbose=0, warm_start=False)"
      ]
     },
     "execution_count": 34,
     "metadata": {},
     "output_type": "execute_result"
    },
    {
     "data": {
      "text/plain": [
       "0.9069887331000408"
      ]
     },
     "execution_count": 34,
     "metadata": {},
     "output_type": "execute_result"
    },
    {
     "data": {
      "text/plain": [
       "0.6345849964247257"
      ]
     },
     "execution_count": 34,
     "metadata": {},
     "output_type": "execute_result"
    },
    {
     "data": {
      "text/plain": [
       "0.7181443107002576"
      ]
     },
     "execution_count": 34,
     "metadata": {},
     "output_type": "execute_result"
    },
    {
     "data": {
      "text/html": [
       "<div>\n",
       "<style scoped>\n",
       "    .dataframe tbody tr th:only-of-type {\n",
       "        vertical-align: middle;\n",
       "    }\n",
       "\n",
       "    .dataframe tbody tr th {\n",
       "        vertical-align: top;\n",
       "    }\n",
       "\n",
       "    .dataframe thead th {\n",
       "        text-align: right;\n",
       "    }\n",
       "</style>\n",
       "<table border=\"1\" class=\"dataframe\">\n",
       "  <thead>\n",
       "    <tr style=\"text-align: right;\">\n",
       "      <th></th>\n",
       "      <th>cols</th>\n",
       "      <th>imp</th>\n",
       "    </tr>\n",
       "  </thead>\n",
       "  <tbody>\n",
       "    <tr>\n",
       "      <th>14</th>\n",
       "      <td>last_adt</td>\n",
       "      <td>0.293474</td>\n",
       "    </tr>\n",
       "    <tr>\n",
       "      <th>9</th>\n",
       "      <td>x_rotate45</td>\n",
       "      <td>0.092787</td>\n",
       "    </tr>\n",
       "    <tr>\n",
       "      <th>1</th>\n",
       "      <td>longitude</td>\n",
       "      <td>0.090268</td>\n",
       "    </tr>\n",
       "    <tr>\n",
       "      <th>7</th>\n",
       "      <td>count_Elapsed</td>\n",
       "      <td>0.088535</td>\n",
       "    </tr>\n",
       "    <tr>\n",
       "      <th>8</th>\n",
       "      <td>road_name_code</td>\n",
       "      <td>0.072175</td>\n",
       "    </tr>\n",
       "    <tr>\n",
       "      <th>0</th>\n",
       "      <td>latitude</td>\n",
       "      <td>0.070887</td>\n",
       "    </tr>\n",
       "    <tr>\n",
       "      <th>10</th>\n",
       "      <td>y_rotate45</td>\n",
       "      <td>0.069600</td>\n",
       "    </tr>\n",
       "    <tr>\n",
       "      <th>13</th>\n",
       "      <td>zone</td>\n",
       "      <td>0.063561</td>\n",
       "    </tr>\n",
       "    <tr>\n",
       "      <th>4</th>\n",
       "      <td>count_Dayofyear</td>\n",
       "      <td>0.056906</td>\n",
       "    </tr>\n",
       "    <tr>\n",
       "      <th>2</th>\n",
       "      <td>sampling_count</td>\n",
       "      <td>0.028968</td>\n",
       "    </tr>\n",
       "    <tr>\n",
       "      <th>3</th>\n",
       "      <td>count_Dayofweek</td>\n",
       "      <td>0.019413</td>\n",
       "    </tr>\n",
       "    <tr>\n",
       "      <th>5</th>\n",
       "      <td>count_Year</td>\n",
       "      <td>0.018160</td>\n",
       "    </tr>\n",
       "    <tr>\n",
       "      <th>6</th>\n",
       "      <td>count_Month</td>\n",
       "      <td>0.016011</td>\n",
       "    </tr>\n",
       "    <tr>\n",
       "      <th>12</th>\n",
       "      <td>long_zone</td>\n",
       "      <td>0.014192</td>\n",
       "    </tr>\n",
       "    <tr>\n",
       "      <th>11</th>\n",
       "      <td>lat_zone</td>\n",
       "      <td>0.005062</td>\n",
       "    </tr>\n",
       "  </tbody>\n",
       "</table>\n",
       "</div>"
      ],
      "text/plain": [
       "               cols       imp\n",
       "14         last_adt  0.293474\n",
       "9        x_rotate45  0.092787\n",
       "1         longitude  0.090268\n",
       "7     count_Elapsed  0.088535\n",
       "8    road_name_code  0.072175\n",
       "0          latitude  0.070887\n",
       "10       y_rotate45  0.069600\n",
       "13             zone  0.063561\n",
       "4   count_Dayofyear  0.056906\n",
       "2    sampling_count  0.028968\n",
       "3   count_Dayofweek  0.019413\n",
       "5        count_Year  0.018160\n",
       "6       count_Month  0.016011\n",
       "12        long_zone  0.014192\n",
       "11         lat_zone  0.005062"
      ]
     },
     "execution_count": 34,
     "metadata": {},
     "output_type": "execute_result"
    }
   ],
   "source": [
    "X_train, X_test, y_train, y_test = split_by_forward_period(df, xcols, ycol, split_date = '2018-12-31', train_months = 100, test_months = 2)\n",
    "m = RandomForestRegressor(n_estimators=300, max_depth=20, max_features=0.6, oob_score= True, random_state=1, n_jobs  = 1)\n",
    "m.fit(X_train, y_train)\n",
    "m.score(X_train, y_train)\n",
    "m.score(X_test, y_test)\n",
    "m.oob_score_\n",
    "rf_feat_importance(m, X_train)"
   ]
  },
  {
   "cell_type": "markdown",
   "metadata": {},
   "source": [
    "## Feature generation - sampling count by road name\n",
    "Noticed that "
   ]
  },
  {
   "cell_type": "markdown",
   "metadata": {},
   "source": [
    "## Feature generation - distance to tha highest adt in the zone"
   ]
  },
  {
   "cell_type": "code",
   "execution_count": null,
   "metadata": {},
   "outputs": [],
   "source": [
    "split_date = '2018-12-31'\n",
    "X_train_temp\n",
    "X_train, X_test, y_train, y_test = split_by_forward_period(df, xcols, ycol, split_date = '2018-12-31', train_months = 100, test_months = 2)\n",
    "X_train"
   ]
  },
  {
   "cell_type": "code",
   "execution_count": 139,
   "metadata": {},
   "outputs": [],
   "source": [
    "xcols = [col for col in df.columns]\n",
    "cols_to_drop = ['adt', 'road_name', 'count_date', 'lat_zone', 'long_zone', 'count_Year', 'count_Dayofweek', 'sampling_count', 'count_Month']\n",
    "for col in cols_to_drop:\n",
    "    xcols.remove(col)\n",
    "ycol = 'adt'"
   ]
  },
  {
   "cell_type": "code",
   "execution_count": 140,
   "metadata": {},
   "outputs": [
    {
     "data": {
      "text/plain": [
       "RandomForestRegressor(bootstrap=True, criterion='mse', max_depth=30,\n",
       "           max_features=0.5, max_leaf_nodes=None,\n",
       "           min_impurity_decrease=0.0, min_impurity_split=None,\n",
       "           min_samples_leaf=1, min_samples_split=2,\n",
       "           min_weight_fraction_leaf=0.0, n_estimators=500, n_jobs=3,\n",
       "           oob_score=True, random_state=1, verbose=0, warm_start=False)"
      ]
     },
     "execution_count": 140,
     "metadata": {},
     "output_type": "execute_result"
    },
    {
     "data": {
      "text/plain": [
       "0.953025375489861"
      ]
     },
     "execution_count": 140,
     "metadata": {},
     "output_type": "execute_result"
    },
    {
     "data": {
      "text/plain": [
       "0.3217816779537872"
      ]
     },
     "execution_count": 140,
     "metadata": {},
     "output_type": "execute_result"
    },
    {
     "data": {
      "text/plain": [
       "0.6530644357940041"
      ]
     },
     "execution_count": 140,
     "metadata": {},
     "output_type": "execute_result"
    },
    {
     "data": {
      "text/html": [
       "<div>\n",
       "<style scoped>\n",
       "    .dataframe tbody tr th:only-of-type {\n",
       "        vertical-align: middle;\n",
       "    }\n",
       "\n",
       "    .dataframe tbody tr th {\n",
       "        vertical-align: top;\n",
       "    }\n",
       "\n",
       "    .dataframe thead th {\n",
       "        text-align: right;\n",
       "    }\n",
       "</style>\n",
       "<table border=\"1\" class=\"dataframe\">\n",
       "  <thead>\n",
       "    <tr style=\"text-align: right;\">\n",
       "      <th></th>\n",
       "      <th>cols</th>\n",
       "      <th>imp</th>\n",
       "    </tr>\n",
       "  </thead>\n",
       "  <tbody>\n",
       "    <tr>\n",
       "      <th>8</th>\n",
       "      <td>last_adt</td>\n",
       "      <td>0.175191</td>\n",
       "    </tr>\n",
       "    <tr>\n",
       "      <th>5</th>\n",
       "      <td>x_rotate45</td>\n",
       "      <td>0.139545</td>\n",
       "    </tr>\n",
       "    <tr>\n",
       "      <th>1</th>\n",
       "      <td>longitude</td>\n",
       "      <td>0.135460</td>\n",
       "    </tr>\n",
       "    <tr>\n",
       "      <th>7</th>\n",
       "      <td>zone</td>\n",
       "      <td>0.098169</td>\n",
       "    </tr>\n",
       "    <tr>\n",
       "      <th>0</th>\n",
       "      <td>latitude</td>\n",
       "      <td>0.095467</td>\n",
       "    </tr>\n",
       "    <tr>\n",
       "      <th>6</th>\n",
       "      <td>y_rotate45</td>\n",
       "      <td>0.094384</td>\n",
       "    </tr>\n",
       "    <tr>\n",
       "      <th>4</th>\n",
       "      <td>road_name_code</td>\n",
       "      <td>0.092691</td>\n",
       "    </tr>\n",
       "    <tr>\n",
       "      <th>2</th>\n",
       "      <td>count_Dayofyear</td>\n",
       "      <td>0.090717</td>\n",
       "    </tr>\n",
       "    <tr>\n",
       "      <th>3</th>\n",
       "      <td>count_Elapsed</td>\n",
       "      <td>0.078378</td>\n",
       "    </tr>\n",
       "  </tbody>\n",
       "</table>\n",
       "</div>"
      ],
      "text/plain": [
       "              cols       imp\n",
       "8         last_adt  0.175191\n",
       "5       x_rotate45  0.139545\n",
       "1        longitude  0.135460\n",
       "7             zone  0.098169\n",
       "0         latitude  0.095467\n",
       "6       y_rotate45  0.094384\n",
       "4   road_name_code  0.092691\n",
       "2  count_Dayofyear  0.090717\n",
       "3    count_Elapsed  0.078378"
      ]
     },
     "execution_count": 140,
     "metadata": {},
     "output_type": "execute_result"
    }
   ],
   "source": [
    "X_train, X_test, y_train, y_test = split_by_forward_period(df, xcols, ycol, split_date = '2017-12-31', train_months = 24, test_months = 2)\n",
    "m = RandomForestRegressor(n_estimators=500, max_depth=30, max_features=0.5, oob_score= True, random_state=1, n_jobs  = 3)\n",
    "m.fit(X_train, y_train)\n",
    "m.score(X_train, y_train)\n",
    "m.score(X_test, y_test)\n",
    "m.oob_score_\n",
    "rf_feat_importance(m, X_train)"
   ]
  },
  {
   "cell_type": "code",
   "execution_count": null,
   "metadata": {},
   "outputs": [],
   "source": []
  }
 ],
 "metadata": {
  "kernelspec": {
   "display_name": "Python 3",
   "language": "python",
   "name": "python3"
  },
  "language_info": {
   "codemirror_mode": {
    "name": "ipython",
    "version": 3
   },
   "file_extension": ".py",
   "mimetype": "text/x-python",
   "name": "python",
   "nbconvert_exporter": "python",
   "pygments_lexer": "ipython3",
   "version": "3.7.3"
  },
  "toc": {
   "base_numbering": 1,
   "nav_menu": {},
   "number_sections": true,
   "sideBar": true,
   "skip_h1_title": false,
   "title_cell": "Table of Contents",
   "title_sidebar": "Contents",
   "toc_cell": false,
   "toc_position": {
    "height": "calc(100% - 180px)",
    "left": "10px",
    "top": "150px",
    "width": "165px"
   },
   "toc_section_display": true,
   "toc_window_display": true
  }
 },
 "nbformat": 4,
 "nbformat_minor": 2
}
